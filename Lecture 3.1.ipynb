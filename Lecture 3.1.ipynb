{
 "cells": [
  {
   "cell_type": "raw",
   "metadata": {
    "slideshow": {
     "slide_type": "notes"
    }
   },
   "source": [
    "These lecture notes are provided under Creative Commons Attribution license CC-BY. \n",
    "All code is subject to the terms of the FSF-approved BSD-3 license.\n",
    "(c) 2018 Rachel B. Getman, Sapna Sarupria, Ulf D. Schiller"
   ]
  },
  {
   "cell_type": "code",
   "execution_count": 1,
   "metadata": {
    "slideshow": {
     "slide_type": "skip"
    }
   },
   "outputs": [],
   "source": [
    "from IPython.display import YouTubeVideo"
   ]
  },
  {
   "cell_type": "markdown",
   "metadata": {
    "slideshow": {
     "slide_type": "slide"
    }
   },
   "source": [
    "# MSE 8900 / CHE 8450 - Multiscale Modeling\n",
    "\n",
    "Rachel B. Getman, Sapna Sarupria, Ulf D. Schiller\n",
    "\n",
    "Clemson University\n",
    "\n",
    "## Module 3: Mesoscopic Methods\n",
    "\n",
    "In this third part of the course, we will continue to expand our simulation toolbox and discuss \"mesoscopic\" methods that bridge between atomistic/molecular methods and continuum level descriptions."
   ]
  },
  {
   "cell_type": "markdown",
   "metadata": {
    "slideshow": {
     "slide_type": "slide"
    }
   },
   "source": [
    "### Overview (tentative)\n",
    "\n",
    "1. Probabilistic Description of Particle Systems\n",
    "2. Langevin Dynamics\n",
    "2. Dissipative Particle Dynamics\n",
    "3. Multi-Particle Collision Dyamics\n",
    "4. Diffusion Equations / Fokker-Planck\n",
    "5. Lattice-Boltzmann Methods\n",
    "6. LB-MD Coupling\n",
    "7. Bead-Spring Polymers\n",
    "8. Non-equilibrium"
   ]
  },
  {
   "cell_type": "markdown",
   "metadata": {
    "slideshow": {
     "slide_type": "slide"
    }
   },
   "source": [
    "### Motivation\n",
    "\n",
    "#### What can we do so far?"
   ]
  },
  {
   "cell_type": "markdown",
   "metadata": {
    "slideshow": {
     "slide_type": "subslide"
    }
   },
   "source": [
    "### Complex Fluids"
   ]
  },
  {
   "cell_type": "markdown",
   "metadata": {
    "slideshow": {
     "slide_type": "subslide"
    }
   },
   "source": [
    "### Brownian Motion"
   ]
  },
  {
   "cell_type": "code",
   "execution_count": 4,
   "metadata": {
    "scrolled": true,
    "slideshow": {
     "slide_type": "fragment"
    }
   },
   "outputs": [
    {
     "data": {
      "image/jpeg": "[encoded data removed]",
      "text/html": [
       "\n",
       "        <iframe\n",
       "            width=\"400\"\n",
       "            height=\"300\"\n",
       "            src=\"https://www.youtube.com/embed/cDcprgWiQEY\"\n",
       "            frameborder=\"0\"\n",
       "            allowfullscreen\n",
       "        ></iframe>\n",
       "        "
      ],
      "text/plain": [
       "<IPython.lib.display.YouTubeVideo at 0x2ad8679152e8>"
      ]
     },
     "execution_count": 4,
     "metadata": {},
     "output_type": "execute_result"
    }
   ],
   "source": [
    "YouTubeVideo('cDcprgWiQEY')"
   ]
  },
  {
   "cell_type": "markdown",
   "metadata": {
    "slideshow": {
     "slide_type": "slide"
    }
   },
   "source": [
    "### Lecture 3.1: Probabilistic description of particle systems\n",
    "\n",
    "1. Thermodynamics\n",
    "2. Statistical Mechanics\n",
    "3. Liouville Formulation\n",
    "4. Expectation Values\n",
    "\n",
    "#### References\n",
    "1. M. P. Allen and D. J. Tildesley, Computer Simulation of Liquids, 2nd edition, Oxford University Press, Oxford, 2017\n",
    "2. J. M. Haile, Molecular Dynamics Simulation: Elementary Methods, Wiley, New York 1992\n",
    "3. D. Frenkela and B. Smit, Understanding Molecular Simulation: From Algorithms to Applications, 2nd edition, Academic Press, San Diego 2002\n",
    "4. D. C. Rapaport, The Art of Molecular Dynamics Simulation, 2nd edition, Cambridge University Press, Cambridge 2004"
   ]
  },
  {
   "cell_type": "markdown",
   "metadata": {
    "slideshow": {
     "slide_type": "slide"
    }
   },
   "source": [
    "### Thermodynamics and Statistical Mechanics\n",
    "\n",
    "* Thermodynamics: Relation between _macroscopic_ variables  \n",
    "(axiomatic/phenomenological $\\rightarrow$ thermodynamic potentials)\n",
    "\n",
    "* Statistical Mechanics: Statistics of _microscopic_ states   \n",
    "(ensembles $\\rightarrow$ probability distributions)"
   ]
  },
  {
   "cell_type": "markdown",
   "metadata": {
    "slideshow": {
     "slide_type": "subslide"
    }
   },
   "source": [
    "### Thermodynamics\n",
    "\n",
    "* Thermodynamic equilibrium: system is stationary, thermodynamic variables are time independent  \n",
    "(does not mean that the system is in mechanical equilibrium)\n",
    "\n",
    "* Answers to common question do not require detailed knowledge of microscopic degrees of freedom\n",
    "(e.g. temperature, pressure, etc.)\n",
    "\n",
    "* First Law of Thermodynamics\n",
    "$$ \\mathrm{d}E = \\delta Q - \\delta W $$\n",
    "\n",
    "* Fundamental Form\n",
    "$$\\begin{aligned}\n",
    "\\mathrm{d}E &= T \\mathrm{d}S - P \\mathrm{d}V + \\mu\\mathrm{d}N\\\\\n",
    "&=T\\mathrm{d}S + \\sum_i F_i \\mathrm{d}X_i\n",
    "\\end{aligned}$$\n",
    "\n",
    "* Does not say anything about fluctuations around the averages\n",
    "\n",
    "* Needs equations of state as _input_\n",
    "\n",
    "* Cannot _a-priori_ calculate response functions (specific heat, compressibility, susceptibility, etc.)"
   ]
  },
  {
   "cell_type": "markdown",
   "metadata": {
    "slideshow": {
     "slide_type": "subslide"
    }
   },
   "source": [
    "### Statistical Mechanics\n",
    "\n",
    "* Probability distribution of microstates\n",
    "* Postulate: All accessible microstates are equally probable (maximal ignorance)\n",
    "$$\\rho_\\text{eq}(\\Gamma) \\propto \\delta(\\mathcal{H}(\\Gamma)-E)$$\n",
    "* Hamiltonian Dynamics\n",
    "$$\\begin{aligned}\n",
    "\\dot{q} &= \\frac{\\partial\\mathcal{H}}{\\partial p} & \\dot{p} &= - \\frac{\\partial\\mathcal{H}}{\\partial q}\n",
    "%\\dot{A} = \\{ A, \\mathcal{H} \\}\n",
    "\\end{aligned}$$\n",
    "* Liouville Theorem\n",
    "$$\\mathrm{div}\\,\\dot{\\Gamma} = 0$$\n",
    "* Volume of phase space along trajectory is conserved\n",
    "$$\\frac{d}{dt}\\rho(\\Gamma(t),t) = \\frac{\\partial\\rho}{\\partial t} + \\mathrm{div}\\left(\\dot{\\Gamma} \\rho\\right) = 0$$\n",
    "* Ergodicity\n",
    "$$\\lim_{T\\rightarrow\\infty} \\frac{1}{T} \\int_{0}^{T} {A}(t) \\, \\mathrm{d}t = \\int_{\\Omega} {A}(\\Gamma) \\, \\mathrm{d}\\mu(\\Gamma)=\\int_\\Omega {A}(\\Gamma) \\rho(\\Gamma) \\, \\mathrm{d}\\Gamma$$\n"
   ]
  },
  {
   "cell_type": "markdown",
   "metadata": {
    "slideshow": {
     "slide_type": "subslide"
    }
   },
   "source": [
    "### Probability Distribution, Partition Function, Thermodynamic Potential\n",
    "* microcanonical ensemble\n",
    "* canonical ensemble\n",
    "* grand-canonical ensemble"
   ]
  },
  {
   "cell_type": "markdown",
   "metadata": {
    "slideshow": {
     "slide_type": "subslide"
    }
   },
   "source": [
    "### Virial Theorem and Virial Expansion\n",
    "* _Hypervirial relations_\n",
    "$$\\begin{aligned}\n",
    "\\left\\langle A \\frac{\\partial\\mathcal{H}}{\\partial x_k} \\right\\rangle &= k_B T \\left\\langle \\frac{\\partial A}{\\partial x_k} \\right\\rangle &\n",
    "%\\left\\langle A \\frac{\\partial\\mathcal{H}}{\\partial p_k} \\right\\rangle &= k_B T \\left\\langle \\frac{\\partial A}{\\partial p_k} \\right\\rangle\n",
    "\\end{aligned}$$\n",
    "* _Generalized equipartition_\n",
    "$$ \\left\\langle x_m \\frac{\\partial\\mathcal{H}}{x_n} \\right\\rangle = \\delta_{nm} k_B T$$\n",
    "* Virial theorem\n",
    "$$ \\left\\langle K \\right\\rangle = - \\frac{1}{2} \\sum_{i=k}^{N} \\left\\langle \\vec{q}_k \\vec{F}_k \\right\\rangle = \\frac{3}{2}Nk_BT$$\n",
    "* Virial expansion\n",
    "$$\\frac{P}{k_BT} = \\rho + B_2(T) \\rho^2 + B_3(T) \\rho^3 + \\dots$$"
   ]
  },
  {
   "cell_type": "markdown",
   "metadata": {
    "slideshow": {
     "slide_type": "slide"
    }
   },
   "source": [
    "### Liouville Formalism\n",
    "* We know the equation of motion for observables\n",
    "$$\\dot{A} = \\{ A, \\mathcal{H} \\}$$\n",
    "* Introduce a time evolution operator (Liouville operator)\n",
    "$$\\begin{align}\n",
    "\\dot{A} &= i \\mathcal{L} A & \\mathcal{L}A&=i\\{ \\mathcal{H}, A \\}\n",
    "\\end{align}$$\n",
    "* Formal solution\n",
    "$$\\begin{align}\n",
    "A(t) &= \\exp\\left(i\\mathcal{L}t\\right) A(0) = U(t) A(0) & U(t) &= \\exp\\left(i\\mathcal{L}t\\right)\n",
    "\\end{align}$$"
   ]
  },
  {
   "cell_type": "markdown",
   "metadata": {
    "slideshow": {
     "slide_type": "subslide"
    }
   },
   "source": [
    "### Liouville Equation\n",
    "* Liouville operator\n",
    "$$i\\mathcal{L} = \\dot{q} \\frac{\\partial}{\\partial q} + \\dot{p} \\frac{\\partial}{\\partial p}=\\dot{\\Gamma}\\cdot\\mathrm{div}$$\n",
    "* $\\mathcal{L}$ is a hermitian (self-adjoint) operator\n",
    "* $U(t)=\\exp\\left(i\\mathcal{L}t\\right)$ is a unitary time-development operator\n",
    "* Evolution of the phase space density: _Liouville's Equation_\n",
    "$$\\frac{\\partial\\rho}{\\partial t} = - \\{ \\rho, \\mathcal{H} \\} = - i \\mathcal{L} \\rho$$\n",
    "* Equilibrium: Stationary probability distribution\n",
    "$$\\mathcal{L} \\rho(\\Gamma) = 0$$"
   ]
  },
  {
   "cell_type": "markdown",
   "metadata": {
    "slideshow": {
     "slide_type": "slide"
    }
   },
   "source": [
    "### Expectation Values\n",
    "* Expectation value of a dynamical variable (cf. Heisenberg picture vs. Schr&ouml;dinger picture)\n",
    "$$\\begin{align}\n",
    "\\left\\langle A \\right\\rangle &= \\int A(\\Gamma_t) \\rho(\\Gamma,0) \\, \\mathrm{d}\\Gamma = \\left( \\rho(0), A(t) \\right) \\\\\n",
    "&= \\int A(\\Gamma_0) \\rho(\\Gamma,t) \\, \\mathrm{d}\\Gamma = \\left( \\rho(t), A(0) \\right) \\\\\n",
    "&= \\mathrm{tr}\\left(\\rho A\\right)\n",
    "\\end{align}$$\n",
    "* Unifies classical mechanics and quantum mechanics (density matrix formulation)\n",
    "$$\\left\\langle A \\right\\rangle = \\mathrm{tr}\\left(\\rho A\\right)$$"
   ]
  },
  {
   "cell_type": "markdown",
   "metadata": {
    "slideshow": {
     "slide_type": "slide"
    }
   },
   "source": [
    "### Reduced Density Distributions\n",
    "\n",
    "* Canonical partition function\n",
    "$$Z = Z_\\text{ideal} Q$$\n",
    "* Probability distribution\n",
    "$$\\rho_N(q,p) = \\frac{1}{Z_\\text{ideal}} \\exp\\left(-\\beta\\frac{p^2}{2m}\\right) \\frac{1}{Q} \\exp\\left(-\\beta U(q)\\right)$$\n",
    "* Probability distribution in _configuration space_\n",
    "$$\\rho_N(q) = \\frac{1}{Q} \\exp\\left(-\\beta U(q)\\right)$$\n",
    "* _Reduced distribution function_ (m-particle distribution function)\n",
    "$$f_m(q_1,\\dots,q_m,p_1,\\dots,p_m)=\\frac{N!}{(N-m)!}\\int \\rho_N(q_1,\\dots,q_N,p_1,\\dots,p_N) \\Pi_{i=m+1}^N \\mathrm{d}q_i\\mathrm{d}p_i$$\n",
    "* One-particle and two-particle distribution functions in configuration space\n",
    "$$\\begin{align}\n",
    "f_1(r) &= n = \\frac{N}{V} & f_2(r_1,r_2) = n^2 g\\left(|r_1-r_2|\\right)\n",
    "\\end{align}$$"
   ]
  },
  {
   "cell_type": "markdown",
   "metadata": {
    "slideshow": {
     "slide_type": "subslide"
    }
   },
   "source": [
    "### Hydrodynamic Quantities\n",
    "* local density\n",
    "$$ n(\\vec{r},t)=\\int f_1(\\vec{r},\\vec{v},t) \\, \\mathrm{d}\\vec{v}$$\n",
    "* local velocity\n",
    "$$ u(\\vec{r},t)=\\frac{1}{n(\\vec{r},t)}\\int \\vec{v} \\, f_1(\\vec{r},\\vec{v},t) \\, \\mathrm{d}\\vec{v}$$\n",
    "* in general\n",
    "$$ A(r,t) = \\int A(\\vec{v}) \\, f_1(\\vec{r},\\vec{v},t) \\, \\mathrm{d}\\vec{v}$$"
   ]
  },
  {
   "cell_type": "markdown",
   "metadata": {
    "slideshow": {
     "slide_type": "slide"
    }
   },
   "source": [
    "### BBGKY Hierarchy\n",
    "\n",
    "* What is the equation of motion for the _conditional PDF_ $f_1(q,p,t\\,|\\,q_0,p_0,t_0)$?\n",
    "* Limiting cases\n",
    "$$\\begin{align}\n",
    "t&=t_0 & f_1 &\\propto \\delta(q-q_0)\\delta(p-p_0) \\\\\n",
    "t-t_0&\\rightarrow\\infty & f_1 &= \\frac{N}{V} \\left(\\frac{\\beta m}{2\\pi}\\right)^\\frac{d}{2} \\exp\\left(-\\beta \\frac{p^2}{2m} \\right)\n",
    "\\end{align}$$\n",
    "* Behavior in between: no closed equation! (suggests that this is a hard problem...)\n",
    "* _Bogoliubov–Born–Green–Kirkwood–Yvon Hierarchy_\n",
    "$$\\begin{align}\n",
    "\\frac{\\partial f_m}{\\partial t} - \\{ \\mathcal{H}_m, f_m \\} = \\sum_{i=1}^m \\int \\frac{\\partial U_{i,m+1}}{\\partial q_i} \\frac{\\partial f_{m+1}}{\\partial p_i}\\, \\mathrm{d}q_{m+1}\\mathrm{d}p_{m+1}\n",
    "\\end{align}$$\n",
    "* One-particle distribution function (\"precursor\" to the Boltzmann equation)\n",
    "$$\\left[ \\frac{\\partial}{\\partial t} + \\frac{p_1}{m} \\frac{\\partial}{\\partial q_1} + F_1 \\frac{\\partial}{\\partial p_1} \\right] f_1(q,p,t) = \\int \\frac{\\partial U_{12}}{\\partial q_1} \\frac{\\partial f_{2}}{\\partial p_1}\\, \\mathrm{d}q_{2}\\mathrm{d}p_{2}$$"
   ]
  },
  {
   "cell_type": "markdown",
   "metadata": {
    "slideshow": {
     "slide_type": "slide"
    }
   },
   "source": [
    "### Static Properties\n",
    "\n",
    "* Temperature ($f$: # of independent degrees of freedom)\n",
    "$$k_B T = \\frac{2\\left\\langle K \\right\\rangle}{f}$$\n",
    "* Structure\n",
    "$$\\begin{aligned}\n",
    "g(r)&= \\frac{\\left\\langle N(r,\\Delta r) \\right\\rangle}{\\frac{1}{2} N \\rho V(r,\\Delta r)} \\\\%& N(r,\\Delta r)&=\\sum_{i}\\sum_{j<i} \\delta(r-r_{ij}) \\Delta r\\\\\n",
    "\\left\\langle A \\right\\rangle &= \\left\\langle \\sum_i \\sum_{j<i} a(r_{ij}) \\right\\rangle = 2\\pi N \\rho \\int_0^\\infty a(r) g(r) r^2 \\mathrm{d}r\n",
    "\\end{aligned}$$\n",
    "* Energy\n",
    "$$\\begin{aligned}\n",
    "E &= \\frac{3}{2} N k_B T + 2 \\pi N \\rho \\int_0^\\infty u(r) g(r) r^2 \\mathrm{d}r\n",
    "\\end{aligned}$$\n",
    "* Pressure\n",
    "$$\\begin{aligned}\n",
    "P &= \\rho k_B T + \\frac{1}{3V} \\left\\langle \\sum_{i<j} \\vec{r}_{ij} \\vec{F}_{ij} \\right\\rangle \\\\\n",
    "  &= \\rho k_B T - \\frac{2}{3} \\pi \\rho^2 \\int_0^\\infty \\left( r \\frac{du}{dr}\\right) g(r) r^2 \\mathrm{d}r\n",
    "\\end{aligned}$$\n",
    "* Structure Factor\n",
    "$$\\begin{aligned}\n",
    "S(\\vec{k})&=1+\\rho\\int g(\\vec{r})\\exp(-i\\vec{k}\\vec{r})\\mathrm{d}\\vec{r}\\\\\n",
    "S(k)&=1+4\\pi\\rho\\int_0^\\infty\\frac{sin(kr)}{kr}g(r)r^2\\mathrm{d}r\n",
    "\\end{aligned}$$"
   ]
  },
  {
   "cell_type": "markdown",
   "metadata": {
    "slideshow": {
     "slide_type": "subslide"
    }
   },
   "source": [
    "### Fluctuations and Response Functions\n",
    "* Constant-volume heat capacity\n",
    "$$c_v = \\frac{\\partial E}{\\partial T} = \\frac{1}{Nk_BT^2}\\left\\langle \\left( E - \\langle E \\rangle \\right)^2\\right\\rangle$$\n",
    "* Adiabatic compressibility\n",
    "$$\\begin{aligned}\n",
    "\\kappa_s&=-\\frac{1}{V} \\frac{\\partial V}{\\partial P} = \\left[ \\rho k_B T + \\frac{2}{3} P - \\frac{N}{\\rho k_BT} \\left\\langle (\\delta P)^2\\right\\rangle + \\langle\\theta\\rangle \\right]^{-1} &\n",
    "\\theta&=\\frac{1}{9V}\\sum_{i<j} r_{ij}^2 \\frac{\\partial^2 u}{\\partial r_{ij}^2}\n",
    "\\end{aligned}$$\n",
    "* Thermal pressure coefficient\n",
    "$$\\gamma_v=\\frac{\\partial P}{\\partial T}=\\rho k_B + \\frac{1}{k_BT^2}\\left\\langle \\delta U \\delta P \\right\\rangle$$\n",
    "* Other response functions from classical thermodynamic relations"
   ]
  },
  {
   "cell_type": "markdown",
   "metadata": {
    "slideshow": {
     "slide_type": "slide"
    }
   },
   "source": [
    "### Dynamic Properties, Correlation Functions, Transport Coefficients\n",
    "* Time correlation functions\n",
    "$$C(t) = \\lim_{T\\rightarrow\\infty}\\frac{1}{T} \\int_0^T B(t+t')A(t') \\mathrm{d}t' = \\left\\langle B(t+t')A(t')\\right\\rangle$$\n",
    "* Green-Kubo integral\n",
    "$$\\gamma = \\int_0^\\infty \\left\\langle \\dot{A}(t) \\dot{A}(0) \\right\\rangle \\mathrm{d}t$$\n",
    "* Einstein relation\n",
    "$$2\\gamma t = \\left\\langle \\left( A(t) - A(0) \\right)^2 \\right\\rangle$$\n",
    "* Diffusion coefficient\n",
    "$$\\begin{aligned}\n",
    "D&=\\frac{1}{6N}\\lim_{t\\rightarrow\\infty}\\frac{d}{dt}\\left\\langle \\sum_i \\left[ \\vec{r}_i(t)-\\vec{r}_i(0)\\right]^2\\right\\rangle \\\\\n",
    "&= \\frac{1}{3} \\int_0^\\infty \\left\\langle v(t) v(0) \\right\\rangle \\mathrm{d}t\n",
    "\\end{aligned}$$\n",
    "* Shear viscosity\n",
    "$$\\eta=\\frac{V}{k_B T} \\int_0^\\infty \\left\\langle P_{xy}(t) P_{xy}(0) \\right\\rangle \\mathrm{d}t$$\n",
    "\n",
    "* Thermal conductivity\n",
    "$$\\begin{aligned}\n",
    "k&=\\lim_{t\\rightarrow\\infty}\\frac{1}{6T^2Vt}\\left\\langle\\sum_\\alpha\\left[\\sum_i \\left( r_{i,\\alpha}(t)e_i(t)-r_{i,\\alpha}(0)e_i(0)\\right)\\right]^2\\right\\rangle\\\\\n",
    "&=\\frac{V}{3T^2}\\int_0^\\infty \\left\\langle \\vec{J}(t)\\cdot\\vec{J}(0) \\right\\rangle\n",
    "\\end{aligned}$$\n",
    "* Heat flux\n",
    "$$\\vec{S} = \\frac{1}{V} \\left[\\sum_i \\left( e_i \\vec{v}_i + \\sum_{i<j} \\vec{r}_{ij}(\\vec{f}_{ij}\\cdot\\vec{v_i} \\right) \\right]$$"
   ]
  },
  {
   "cell_type": "markdown",
   "metadata": {
    "slideshow": {
     "slide_type": "subslide"
    }
   },
   "source": [
    "### Dynamic Structure\n",
    "* van Hove correlation function\n",
    "$$\\begin{aligned}\n",
    "G(\\vec{r},t)&=\\frac{1}{\\rho}\\left\\langle \\rho(\\vec{r},t)\\rho(0,0) \\right\\rangle \\\\\n",
    "&=\\frac{1}{N} \\left\\langle \\sum_i \\sum_j \\delta\\left(\\vec{r}+\\vec{r}_i(0)-\\vec{r}_j(t)\\right) \\right\\rangle \\\\\n",
    "G(\\vec{r},0) &= \\delta(\\vec{r}) + \\rho g(\\vec{r})\n",
    "\\end{aligned}$$\n",
    "* Intermediate scattering function\n",
    "$$I(\\vec{k},t)=\\int G(\\vec{r},t) \\exp(-i\\vec{k}\\vec{r}) \\mathrm{d}\\vec{r} = \\frac{1}{N} \\left\\langle \\rho(\\vec{k},t)\\rho(-\\vec{k},0)\\right\\rangle$$\n",
    "* Recall: Static structure factor\n",
    "$$S(\\vec{k}) = 1+\\rho\\int g(\\vec{r})\\exp(-i\\vec{k}\\vec{r})\\mathrm{d}\\vec{r}=I(\\vec{k},0)$$\n",
    "* Dynamic structure factor\n",
    "$$S(\\vec{k},\\omega)=\\frac{1}{2\\pi}\\int I(\\vec{k},t)\\exp(i\\omega t) \\mathrm{d} t$$\n",
    "* This can be measured experimentally (neutron scattering)"
   ]
  },
  {
   "cell_type": "markdown",
   "metadata": {
    "slideshow": {
     "slide_type": "slide"
    }
   },
   "source": [
    "### Class Activity\n",
    "\n",
    "Use your own MD code or any MD package to carry out MD simulations of a box of Lennard-Jones particles in the NVT ensemble. Tag a single particle and analyze the following quantities for this particle. Consider both the time dependence and the expectation values.\n",
    "\n",
    "* the displacement $\\Delta r(t)=\\left(\\vec{r}(t)-\\vec{r}(0)\\right)$\n",
    "* the velocity $\\langle\\vec{v}\\rangle$\n",
    "* the mean square displacement $\\left\\langle (\\Delta r(t))^2\\right\\rangle$\n",
    "* the mean square velocity $\\left\\langle (\\vec{v}(t))^2 \\right\\rangle$\n",
    "* the velocity autocorrelation $\\left\\langle \\vec{v}(t)\\vec{v}(0) \\right\\rangle$\n",
    "\n",
    "Can you make sense of the results? What difficulties did you encounter when calculating these observables? What parameters would affect the result? Discuss statistical errors. Discuss the physical interpretation of your results."
   ]
  },
  {
   "cell_type": "markdown",
   "metadata": {
    "slideshow": {
     "slide_type": "slide"
    }
   },
   "source": [
    "### References\n",
    "\n",
    "1. M. P. Allen and D. J. Tildesley, Computer Simulation of Liquids, 2nd edition, Oxford University Press, Oxford, 2017\n",
    "2. J. M. Haile, Molecular Dynamics Simulation: Elementary Methods, Wiley, New York 1992\n",
    "3. D. Frenkela and B. Smit, Understanding Molecular Simulation: From Algorithms to Applications, 2nd edition, Academic Press, San Diego 2002\n",
    "4. D. C. Rapaport, The Art of Molecular Dynamics Simulation, 2nd edition, Cambridge University Press, Cambridge 2004"
   ]
  }
 ],
 "metadata": {
  "celltoolbar": "Slideshow",
  "kernelspec": {
   "display_name": "Python 3",
   "language": "python",
   "name": "python3"
  },
  "language_info": {
   "codemirror_mode": {
    "name": "ipython",
    "version": 3
   },
   "file_extension": ".py",
   "mimetype": "text/x-python",
   "name": "python",
   "nbconvert_exporter": "python",
   "pygments_lexer": "ipython3",
   "version": "3.6.0"
  }
 },
 "nbformat": 4,
 "nbformat_minor": 2
}
