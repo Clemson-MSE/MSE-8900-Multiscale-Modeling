{
 "cells": [
  {
   "cell_type": "raw",
   "metadata": {
    "slideshow": {
     "slide_type": "skip"
    }
   },
   "source": [
    "These lecture notes are provided under Creative Commons Attribution license, CC-BY. \n",
    "All code is subject to the terms of the FSF-approved BSD-3 license.\n",
    "(c) 2018 Rachel B. Getman, Sapna Sarupria, Ulf D. Schiller"
   ]
  },
  {
   "cell_type": "code",
   "execution_count": 1,
   "metadata": {
    "slideshow": {
     "slide_type": "notes"
    }
   },
   "outputs": [],
   "source": [
    "from IPython.display import YouTubeVideo"
   ]
  },
  {
   "cell_type": "markdown",
   "metadata": {
    "slideshow": {
     "slide_type": "slide"
    }
   },
   "source": [
    "# MSE 8900 / CHE 8450 - Multiscale Modeling\n",
    "\n",
    "Rachel B. Getman, Sapna Sarupria, Ulf D. Schiller\n",
    "\n",
    "Clemson University\n",
    "\n",
    "## Lecture 3.3: Dissipative Particle Dynamics\n",
    "\n",
    "1. Numerical integration of stochastic differential equations\n",
    "2. Fokker-Planck equation\n",
    "3. Disspative Particle Dynamics\n",
    "\n",
    "### References\n",
    "\n",
    "1. M. P. Allen and D. J. Tildesley, Computer Simulation of Liquids, 2nd edition, Oxford University Press, Oxford, 2017  \n",
    "(Chapters 12.2-4)\n",
    "2. D. Frenkel and B. Smit, Understanding Molecular Simulation: From Algorithms to Applications, 2nd edition, Academic Press, San Diego 2002  \n",
    "(Chapters 4, 17)\n",
    "3. N. G. van Kampen, Stochastic Processes in Physics and Chemistry, 3rd edition, Elsevier, Amsterdam 2007  \n",
    "(Chapters 8, 9)\n",
    "4. J.-P. Hansen, I. R. McDonald, Theory of Simple Liquids with Applications to Soft Matter, 4th edition, Academic Press, Oxford 2013  \n",
    "(Chapters 7, 8)"
   ]
  },
  {
   "cell_type": "markdown",
   "metadata": {
    "slideshow": {
     "slide_type": "slide"
    }
   },
   "source": [
    "### Numerical Integration of Stochastic Differential Equations\n",
    "\n",
    "* Recall the Langevin equation (now including a force $F$)\n",
    "$$m dv = F(t) dt - m \\gamma v(t) dt + \\sqrt{2 m \\gamma k_B T} \\ \\eta(t) dt$$\n",
    "* Integrate over a time step $h$\n",
    "$$m v(t+h) = mv(t) + \\int_{t}^{t+h} F(t') dt' - m \\gamma \\int_{t}^{t+h} v(t') dt' + \\sqrt{2 m \\gamma k_B T} \\int_{t}^{t+h} \\eta(t') dt'$$\n",
    "* Represent the noise by a _Wiener process_\n",
    "$$ \\eta(t) = \\frac{dW}{dt} $$\n",
    "* Correlations of the Wiener process\n",
    "$$\\begin{aligned}\n",
    "\\langle W(t) W(t') \\rangle &= \\int_0^t dt_1 \\int_0^{t'} dt_2 \\langle \\eta(t_1)\\eta(t_2) \\rangle = \\min(t,t') \\\\\n",
    "\\langle (W(t+h) - W(t))^2 \\rangle &= h\n",
    "\\end{aligned}$$\n",
    "* Wiener increment is an $O(\\sqrt{h})$ infinitesimal ($\\xi$ is Gaussian random number with zero mean and unit variance)\n",
    "$$ W(t+h) - W(t) = \\sqrt{h} \\xi(t)$$\n",
    "* First order approximation (_Euler-Maruyama method_)\n",
    "$$ m v(t+h) = mv(t) + F(t) h - m \\gamma v(t) h + \\sqrt{2 m \\gamma k_B T h} \\xi(t) $$\n",
    "* Compare to exact solution\n",
    "$$\\begin{aligned} v(t+h) &= v(t) \\exp(-\\gamma h) + \\frac{1}{m} \\exp(-\\gamma h) \\int_{t}^{t+h} \\left[F(t')+\\sqrt{2 m \\gamma k_B T} \\eta(t')\\right] \\exp(\\gamma t') dt' \\\\\n",
    "v(t+h)-\\overline{v(t+h)} &= \\frac{1}{m} \\int_{t}^{t+h} \\eta(t') \\exp(-\\gamma(h-t') dt' \\\\\n",
    "\\overline{\\left(v(t+h)-\\overline{v(t+h)}\\right)^2} &= \\frac{k_B T}{m} \\left( 1 - \\exp(-2\\gamma h) \\right)\n",
    "\\end{aligned}$$\n",
    "* Exact update (constant $F$)\n",
    "$$\\begin{aligned}\n",
    "v(t+h) &= v(t) \\exp(-\\gamma h) + \\frac{F}{m\\gamma} \\left(1-\\exp(-\\gamma h)\\right) + \\sqrt{\\frac{k_BT}{m}\\left(1-\\exp(-2\\gamma h)\\right)} \\xi(t) \\\\\n",
    "&\\approx v(t) - \\gamma v(t) h + \\frac{F}{m} h + \\frac{1}{m} \\sqrt{2 m \\gamma k_B T h} \\xi(t)\n",
    "\\end{aligned}$$\n",
    "* Error in trajectories (_strong convergence_) $O(\\sqrt{h})$\n",
    "* Error in expectation values (_weak convergence_) $O(h)$"
   ]
  },
  {
   "cell_type": "markdown",
   "metadata": {
    "slideshow": {
     "slide_type": "slide"
    }
   },
   "source": [
    "### Langevin Dynamics (Ornstein-Uhlenbeck Process)"
   ]
  },
  {
   "cell_type": "code",
   "execution_count": 2,
   "metadata": {
    "slideshow": {
     "slide_type": "subslide"
    }
   },
   "outputs": [
    {
     "data": {
      "text/plain": [
       "<matplotlib.figure.Figure at 0x2b74da7339e8>"
      ]
     },
     "metadata": {},
     "output_type": "display_data"
    }
   ],
   "source": [
    "import numpy as np\n",
    "import matplotlib.pyplot as p\n",
    "\n",
    "n_runs = 5\n",
    "t_init = 0\n",
    "t_end  = 10\n",
    "N      = 1000\n",
    "dt     = float(t_end - t_init) / N \n",
    "\n",
    "v0     = 0\n",
    "\n",
    "kT    = 1.0\n",
    "gamma = 1.0\n",
    "force = 10.0\n",
    "sigma = np.sqrt(2*gamma*kT)\n",
    "\n",
    "def dW(delta_t): \n",
    "    \"\"\"Sample a random number at each call.\"\"\"\n",
    "    return np.random.normal(loc = 0.0, scale = np.sqrt(delta_t))\n",
    "\n",
    "ts    = np.arange(t_init, t_end, dt)\n",
    "vs    = np.zeros(N)\n",
    "\n",
    "vs[0] = v0\n",
    "\n",
    "for _ in range(n_runs):\n",
    "    for i in range(0, ts.size-1):\n",
    "        v = vs[i]\n",
    "        vs[i+1] = v + force*dt - gamma*v*dt + sigma*dW(dt)\n",
    "    p.plot(ts, vs)\n",
    "\n",
    "p.show()"
   ]
  },
  {
   "cell_type": "markdown",
   "metadata": {
    "slideshow": {
     "slide_type": "slide"
    }
   },
   "source": [
    "### Overdamped Langevin Dynamics (Brownian Dynamics)\n",
    "\n",
    "* in the high friction limit, inertia becomes negligible\n",
    "* overdamped Langevin equation\n",
    "$$ \\dot{x} = \\frac{1}{m\\gamma} \\left( F + \\eta \\right) = \\frac{D}{k_B T} \\left( F + \\eta \\right) $$\n",
    "* First order approximation\n",
    "$$ x(t+h) = x(t) + \\frac{D}{k_B T} F h + \\sqrt{2 D h} \\xi(t) $$\n",
    "* in general $D$ is a tensor $D_{ij}$ (depending on positions of all particles)\n",
    "* Oseen tensor\n",
    "\n",
    "$${D}_{ij}(\\vec{r}) = \\frac{k_B T}{8 \\pi \\eta \\, {r}} \\left( \\mathsf{I} + \\frac{\\vec{r} \\otimes \\vec{r}}{r^2} \\right)$$\n",
    "\n",
    "<!--\n",
    "* Rotne-Prager tensor\n",
    "\n",
    "$$\\begin{aligned}\\label{eq:rotne-prager}\n",
    "{D}_{ij} &= D_0\\; \\Bigg\\{\\left(1-\\frac{9\\,r_{ij}}{32\\,a}\\right) \\mathbf{I} + \\frac{3}{32} \\frac{\\mathbf{r}_{ij} \\otimes \\mathbf{r}_{ij}}{a\\,r_{ij}}\\Bigg\\}, &\\quad r_{ij} < 2a\\nonumber\\\\\n",
    "{D}_{ij} &=\\nonumber\n",
    "D_0\\; \\frac{3\\,a}{4\\,r_{ij}}\\;\\Bigg\\{\\mathbf{I} + \\frac{\\mathbf{r}_{ij} \\otimes \\mathbf{r}_{ij}}{r^2_{ij}} \\\\ &\\qquad\\qquad\\qquad+ \\frac{2\\,a^2}{3\\,r^2_{ij}} \\left(\\mathbf{I} - 3 \\frac{\\mathbf{r}_{ij} \\otimes \\mathbf{r}_{ij}}{r^2_{ij}}\\right)\\Bigg\\}, &\\quad r_{ij}\\ge 2a\\nonumber\\\\\n",
    "{D}_{ii} &= D_0\\; \\mathbf{I}\n",
    "\\end{aligned}$$\n",
    "-->\n",
    "\n",
    "* overdamped limit of Langevin Dynamics\n",
    "\n",
    "$$ \\dot{\\vec{r}}_i = \\sum_j \\frac{D_{ij}}{k_B T} F_j + \\Delta\\vec{r}_i $$\n",
    "\n",
    "* Fluctuation dissipation relations\n",
    "\n",
    "$$\\begin{aligned}\n",
    "\\left\\langle \\Delta\\vec{r}_i \\right\\rangle &= 0 , \\\\\n",
    "\\left\\langle \\Delta\\vec{r}_i(t) \\Delta\\vec{r}_j(t') \\right\\rangle &= 2 \\mathsf{D}_{ij} \\delta(t-t') .\n",
    "\\end{aligned}$$\n",
    "\n",
    "* Time-integration with $\\mathsf{D}_{ij} = \\mathsf{B}_{ik}\\cdot\\mathsf{B}^T_{jk}$\n",
    "\n",
    "$$\\vec{r}_i(t+h) = \\vec{r}_i(t) + \\frac{\\mathsf{D}_{ij}}{k_BT} h \\vec{F}_j + \\sqrt{2 h} \\, \\mathsf{B}_{ij} \\cdot \\vec{W}_j $$\n",
    "\n",
    "* Wiener process $\\left\\langle \\vec{W}_i \\right\\rangle = 0$ and $\\left\\langle \\vec{W}_i \\otimes \\vec{W}_j \\right\\rangle = \\mathbf{I} \\delta_{ij}$. \n",
    "\n",
    "* Cholesky decomposition $O(N^3)$\n",
    "\n",
    "$$\\mathsf{D}_{ij}=\\mathsf{C}_{ik}\\cdot\\mathsf{C}^T_{jk}$$ \n",
    "\n",
    "* Chebyshev polynomial approximation $O(N^{2.25})$\n",
    "\n",
    "* Ewald-like methods using fast Fourier transformations $O(n^{1+x}\\log N)$"
   ]
  },
  {
   "cell_type": "markdown",
   "metadata": {
    "slideshow": {
     "slide_type": "slide"
    }
   },
   "source": [
    "### Brownian Dynamics"
   ]
  },
  {
   "cell_type": "code",
   "execution_count": 3,
   "metadata": {
    "slideshow": {
     "slide_type": "subslide"
    }
   },
   "outputs": [
    {
     "data": {
      "image/png": "[encoded data removed]",
      "text/plain": [
       "<matplotlib.figure.Figure at 0x2b74da733ef0>"
      ]
     },
     "metadata": {},
     "output_type": "display_data"
    }
   ],
   "source": [
    "import numpy as np\n",
    "import matplotlib.pyplot as p\n",
    "\n",
    "n_runs = 5\n",
    "t_init = 0\n",
    "t_end  = 10\n",
    "N      = 1000\n",
    "dt     = float(t_end - t_init) / N \n",
    "\n",
    "x0     = 1.5\n",
    "\n",
    "kT    = 0.1\n",
    "D     = 0.5\n",
    "force = 2.0\n",
    "sigma = np.sqrt(2*D)\n",
    "\n",
    "def dW(delta_t): \n",
    "    \"\"\"Sample a random number at each call.\"\"\"\n",
    "    return np.random.normal(loc = 0.0, scale = np.sqrt(delta_t))\n",
    "\n",
    "ts    = np.arange(t_init, t_end, dt)\n",
    "xs    = np.zeros(N)\n",
    "\n",
    "xs[0] = x0\n",
    "\n",
    "for _ in range(n_runs):\n",
    "    for i in range(0, ts.size-1):\n",
    "        x = xs[i]\n",
    "        xs[i+1] = x + D/kT*force*dt + sigma*dW(dt)\n",
    "    p.plot(ts, xs)\n",
    "\n",
    "p.show()"
   ]
  },
  {
   "cell_type": "markdown",
   "metadata": {
    "slideshow": {
     "slide_type": "slide"
    }
   },
   "source": [
    "### Fokker-Planck Equations\n",
    "\n",
    "The discussion of Langevin dynamics so far begs to questions:\n",
    "1. How do we know that we sample the correct equilibrium distribution (canonical ensemble)?\n",
    "2. How does the probability distribution evolve under the stochastic dynamics?"
   ]
  },
  {
   "cell_type": "markdown",
   "metadata": {
    "slideshow": {
     "slide_type": "subslide"
    }
   },
   "source": [
    "#### Moment Expansion of the PDF\n",
    "\n",
    "* Define moments of the PDF\n",
    "$$ \\mu_n = \\int x^n p(x) \\mathrm{d}x $$\n",
    "* Consider Fourier transform\n",
    "$$ p(k) = \\int p(x) \\exp(ikx) \\mathrm{d}x = \\sum_{n=0}^\\infty \\frac{(ik)^n}{n!} \\mu_n$$\n",
    "* $p(x)$ is _uniquely_ determined by its moments\n",
    "$$ p(x) = \\sum_{n=0}^\\infty \\frac{(-1)^n}{n!} \\frac{\\partial^n}{\\partial x^n} \\delta(x) \\mu_n $$\n",
    "* Consider _conditional_ PDF\n",
    "$$ p(x,t|x_0,t_0) = \\sum_{n=0}^\\infty \\frac{(-1)^n}{n!} \\frac{\\partial^n}{\\partial x^n} \\delta(x-x_0) \\mu_n(t|x_0,t_0) $$\n",
    "* $\\mu_n(t|x_0,t_0)$ are the mean displacement, mean square displacement, etc.\n",
    "* Chapman-Kolmogorov\n",
    "$$\\begin{aligned} \n",
    "p(x,t|x_0,t_0) &= \\int \\mathrm{d}x_1 p(x,t|x_1,t-h)p(x_1,t-h|x_0,t_0) \\\\\n",
    "&= \\sum_{n=0}^\\infty \\frac{(-1)^n}{n!} \\frac{\\partial^n}{\\partial x^n} \\mu_n(t|x,t-h)P(x,t-h|x_0,t_0)\n",
    "\\end{aligned}$$\n",
    "* Subtract $n=0$ term\n",
    "$$P(x,t|x_0,t_0)-P(x,t-h|x_0,t_0) = \\sum_{n=1}^\\infty \\frac{(-1)^n}{n!} \\frac{\\partial^n}{\\partial x^n} \\mu_n(t|x,t-h)P(x,t-h|x_0,t_0) $$"
   ]
  },
  {
   "cell_type": "markdown",
   "metadata": {
    "slideshow": {
     "slide_type": "subslide"
    }
   },
   "source": [
    "#### Kramers-Moyal expansion\n",
    "\n",
    "* Short time behavior of the moments given by\n",
    "$$ \\mu_n(t|x,t-h) = n! D^{(n)}(x,t-h) h + o(\\tau) \\approx n! D^{(n)}(x,t) h $$\n",
    "* Inserting into the moment expansion leads to the _generalized Fokker-Planck equation_\n",
    "$$ \\frac{\\partial}{\\partial t} p(x,t|x_0,t_0) = \\sum_{n=1}^\\infty (-1)^n \\frac{\\partial^n}{\\partial x^n} \\left[ D^{(n)}(x,t)P(x,t|x_0,t_0) \\right] = \\mathcal{L} p(x,t|x_0,t_0)$$\n",
    "* Shorthand notation: _Fokker-Planck operator_ $\\mathcal{L}$\n",
    "* _Pawula theorem_: the expansion stops at $n=0$, $n=1$, $n=2$ or $n=\\infty$\n",
    "* There are only four types of processes\n",
    "* Consider a diffusive process ($D^{(1)}$: drift, $D^{(2)}$: diffusion)\n",
    "$$\\begin{aligned}\n",
    "\\langle \\Delta x_i \\rangle &= D_i^{(1)}(x,t) h + \\dots \\\\\n",
    "\\left\\langle \\Delta x_i \\Delta x_j \\right\\rangle &= 2 D_{ij}^{(2)}(x,t) h + \\dots\n",
    "\\end{aligned}$$\n",
    "* Process can be generated by the dynamics\n",
    "$$\\begin{aligned}\n",
    "x_i(t+h) &= x_i(t) + D_i^{(1)} h + \\sqrt{2 D^{(2)}_{ij} h} \\xi_i(t) \\\\\n",
    "dx_i &= D_i^{(1)} dt + \\sqrt{2 D_{ij}^{(2)}} dW_{ij}(t)\n",
    "\\end{aligned}$$"
   ]
  },
  {
   "cell_type": "markdown",
   "metadata": {
    "slideshow": {
     "slide_type": "slide"
    }
   },
   "source": [
    "### Stochastic Dynamics\n",
    "\n",
    "* Augment Hamilton's equations of motion by friction and noise terms\n",
    "$$\\begin{aligned}\n",
    "\\dot{q}_i &= \\frac{\\partial\\mathcal{H}}{\\partial p_i} \\\\\n",
    "\\dot{p}_i &= - \\frac{\\partial\\mathcal{H}}{\\partial q_i} - \\gamma_i \\frac{\\partial\\mathcal{H}}{\\partial p_i} + \\sqrt{\\Gamma_i} \\eta_i\n",
    "\\end{aligned}$$\n",
    "* Fokker-Planck operator $\\mathcal{L}=\\mathcal{L}_{\\mathcal{H}} + \\mathcal{L}_\\text{SD}$ ($\\mathcal{L}_\\mathcal{H}$ corresponds to Liouville operator)\n",
    "$$ \\mathcal{L}_\\text{SD} = \\sum_i \\frac{\\partial}{\\partial p_i} \\left[ \\gamma_i \\frac{\\partial\\mathcal{H}}{\\partial p_i} + \\frac{\\Gamma_i}{2} \\frac{\\partial}{\\partial p_i} \\right]$$\n",
    "* Stationarity of the equilibrium distribution requires\n",
    "$$\\mathcal{L}_\\text{SD} \\exp(-\\beta\\mathcal{H}) = \\sum_i \\frac{\\partial}{\\partial p_i} \\left[\\gamma_i \\frac{\\partial\\mathcal{H}}{\\partial p_i} - \\beta\\frac{\\Gamma_i}{2} \\frac{\\partial\\mathcal{H}}{\\partial p_i} \\right] \\exp(-\\beta\\mathcal{H}) = 0$$\n",
    "* Fluctuation-Dissipation relation\n",
    "$$ \\Gamma_i = 2 \\gamma_i k_B T $$"
   ]
  },
  {
   "cell_type": "markdown",
   "metadata": {
    "slideshow": {
     "slide_type": "slide"
    }
   },
   "source": [
    "### Connection between SD, MD, MC\n",
    "\n",
    "* Brownian Dynamics\n",
    "$$ r(t+h) = r(t) + \\frac{D}{k_BT} F(t) h + \\sqrt{2Dh} \\xi(t) $$\n",
    "* Molecular Dynamics\n",
    "$$ r(t+h) = r(t) + v(t) h + \\frac{h^2}{2m} F(t) $$\n",
    "* the two can be mapped by substituting $D=\\frac{k_BT}{2m} h$\n",
    "* implies a Maxwell-Boltzmann distributed random velocity (cf. Andersen thermostat)\n",
    "$$\\begin{aligned}\n",
    "v(t) &= \\frac{k_BT}{m} \\xi(t) \\\\\n",
    "v(t+h) &= v(t) + \\frac{F(t)+F(t+h)}{2m}\n",
    "\\end{aligned}$$\n",
    "* can be used as trial move with acceptance rate (Metropolis-MC)\n",
    "$$ p_\\text{accept} = \\min(1,\\exp(-\\beta\\Delta U)\\exp(-\\beta\\Delta K))=\\min(1,\\exp(-\\beta\\mathcal{H}) $$"
   ]
  },
  {
   "cell_type": "markdown",
   "metadata": {
    "slideshow": {
     "slide_type": "slide"
    }
   },
   "source": [
    "### Dissipative Particle Dynamics\n",
    "\n",
    "![Dissipative Particle Dynamics](assets/fluid_particles.png)"
   ]
  },
  {
   "cell_type": "markdown",
   "metadata": {
    "slideshow": {
     "slide_type": "slide"
    }
   },
   "source": [
    "### Disspative Particle Dynamics\n",
    "\n",
    "* Idea:\n",
    "    * pairwise interactions\n",
    "    * friction applied to relative velocity\n",
    "    * satisfy Newton's third law\n",
    "    * allow cut-off of interactions"
   ]
  },
  {
   "cell_type": "markdown",
   "metadata": {
    "slideshow": {
     "slide_type": "subslide"
    }
   },
   "source": [
    "* In Practice: Three forces\n",
    "    * Conservative force $$\\vec{F}^C_{ij} = - \\nabla U(r_{ij})$$\n",
    "    * Disspative force $$\\vec{F}^D_{ij} = - \\gamma(r_{ij}) ( \\vec{v}_{ij} \\hat{r}_{ij})\\hat{r}_{ij}$$\n",
    "    * Random force $$\\vec{F}^R_{ij} = \\sigma(r_{ij}) \\eta_{ij} \\hat{r}_{ij}$$\n",
    "    "
   ]
  },
  {
   "cell_type": "markdown",
   "metadata": {
    "slideshow": {
     "slide_type": "subslide"
    }
   },
   "source": [
    "* Traditional choice: soft conservative interactions\n",
    "$$ \\vec{F}^C_{ij} = \\begin{cases} a_{ij} (1-r_{ij})\\hat{r}_{ij} & r_{ij} < r_c \\\\\n",
    "0 & r_{ij} \\ge r_c \\end{cases} $$\n",
    "\n",
    "* Properties of the random noise\n",
    "$$\\begin{aligned}\n",
    "\\langle \\eta_{ij} \\rangle &= 0 \\\\\n",
    "\\langle \\eta_{ij}(t) \\eta_{i'j'}(t') \\rangle &= \\left( \\delta_{ii'}\\delta_{jj'} + \\delta_{ij'}\\delta_{i'j} \\right) \\delta(t-t')\n",
    "\\end{aligned}$$"
   ]
  },
  {
   "cell_type": "markdown",
   "metadata": {
    "slideshow": {
     "slide_type": "subslide"
    }
   },
   "source": [
    "### Fokker-Planck operator for DPD\n",
    "\n",
    "* Stochastic differential equation for DPD\n",
    "$$\\begin{aligned}\n",
    "d\\vec{r}_i &= \\vec{v}_i dt \\\\\n",
    "d\\vec{p}_i &= \\sum_j \\left[ \\vec{F}^C_{ij} dt - \\gamma(r_{ij}) \\left(\\vec{v}_{ij}\\cdot\\hat{r}_{ij}\\right)\\hat{r}_{ij} dt + \\sigma(r_{ij}) \\hat{r}_{ij} dW_{ij} \\right]\n",
    "\\end{aligned}$$"
   ]
  },
  {
   "cell_type": "markdown",
   "metadata": {
    "slideshow": {
     "slide_type": "subslide"
    }
   },
   "source": [
    "* Fokker-Planck operator\n",
    "    * conservative part\n",
    "    $$\\mathcal{L}_C=-\\sum_i \\frac{\\vec{p}_i}{m_i}\\frac{\\partial}{\\partial \\vec{r}_i} - \\sum_{j\\ne i} \\vec{F}^C_{ij}\\frac{\\partial}{\\partial p_i}$$\n",
    "    * friction part\n",
    "    $$\\mathcal{L}_D=\\sum_{j\\ne i} \\gamma(r_{ij}) \\left( \\hat{r}_{ij} \\frac{\\partial}{\\partial p_i}\\right) \\left[ \\hat{r}_{ij} \\left(\\frac{\\partial\\mathcal{H}}{\\partial \\vec{p}_i} - \\frac{\\partial\\mathcal{H}}{\\partial\\vec{p}_j}\\right)\\right]$$\n",
    "    * random part\n",
    "    $$\\begin{aligned}\n",
    "    \\mathcal{L}_R&=\\sum_{j\\ne i} \\frac{\\sigma^2(r_{ij})}{2} \\left[ \\left(\\hat{r}_{ij}\\frac{\\partial}{\\partial \\vec{p}_i}\\right)^2 - \\left(\\hat{r}_{ij}\\frac{\\partial}{\\partial \\vec{p}_i}\\right)\\left(\\hat{r}_{ij}\\frac{\\partial}{\\partial \\vec{p}_j} \\right) \\right]\\\\\n",
    "    &= \\sum_{j\\ne i} \\frac{\\sigma^2(r_{ij})}{2} \\left(\\hat{r}_{ij}\\frac{\\partial}{\\partial \\vec{p}_i}\\right) \\left[ \\hat{r}_{ij} \\left( \\frac{\\partial}{\\partial \\vec{p}_i} - \\frac{\\partial}{\\partial \\vec{p}_j} \\right) \\right]\n",
    "    \\end{aligned}$$"
   ]
  },
  {
   "cell_type": "markdown",
   "metadata": {
    "slideshow": {
     "slide_type": "subslide"
    }
   },
   "source": [
    "* Fluctuation-Disspation relation for DPD\n",
    "$$\\sigma^2(r_{ij}) = 2 \\gamma(r_{ij}) k_B T$$\n",
    "* commonly satisfied through\n",
    "$$\\begin{aligned}\n",
    "\\sigma^2 &= 2\\gamma k_B T \\\\\n",
    "w_D(r) &= w_R^2(r) = w(r)\n",
    "\\end{aligned}$$"
   ]
  },
  {
   "cell_type": "markdown",
   "metadata": {
    "slideshow": {
     "slide_type": "subslide"
    }
   },
   "source": [
    "* Weighting function\n",
    "$$w(r) = \\begin{cases} 1-\\frac{r}{r_c} & r<r_c \\\\\n",
    "0 & r \\ge r_c \\end{cases}$$\n",
    "\n",
    "![Weighting Function](assets/wf.png)"
   ]
  },
  {
   "cell_type": "markdown",
   "metadata": {
    "slideshow": {
     "slide_type": "slide"
    }
   },
   "source": [
    "### DPD for Complex Fluids\n",
    "* Example: Colloid in a DPD solvent\n",
    "![Colloid in DPD](assets/dpd-sphere.png)"
   ]
  },
  {
   "cell_type": "markdown",
   "metadata": {
    "slideshow": {
     "slide_type": "slide"
    }
   },
   "source": [
    "### Parameters and Properties of DPD\n",
    "\n",
    "* Matching the compressibility and viscosity of water under ambient condition [Groot & Warren 1997]\n",
    "\n",
    "\\begin{equation*}\n",
    "\\kappa^{-1} = \\frac{1}{k_B T}{\\frac{\\partial p}{\\partial \\rho}} = \\frac{1}{k_BT}{\\frac{\\partial p}{\\partial n}}\\frac{\\partial n}{\\partial \\rho}\n",
    "\\end{equation*}\n",
    "\n",
    "$$\\begin{aligned}\n",
    "\\rho&=3 & \\sigma&=3 & k_BT&=1\n",
    "\\end{aligned}$$\n",
    "\n",
    "* for the standard soft potential $\\alpha \\sim 0.101 a r_c^4$\n",
    "\n",
    "\\begin{equation*}\n",
    "\\text{water:}\\ \\kappa^{-1} \\sim 16 \\qquad \\Rightarrow \\qquad a \\sim 75 \\frac{k_BT}{\\rho r_c^4}\n",
    "\\end{equation*}"
   ]
  },
  {
   "cell_type": "markdown",
   "metadata": {
    "slideshow": {
     "slide_type": "subslide"
    }
   },
   "source": [
    "* Equation of state at high density\n",
    "\n",
    "\\begin{equation*}\n",
    "p = \\rho k_BT + \\alpha \\rho^2\n",
    "\\end{equation*}\n",
    "\n",
    "* Caveat: the DPD fluid will freeze if $\\rho$ is too high or $k_BT$ too low\n",
    "\n",
    "* DPD satisfies an $H$-theorem (i.e., equilibration is guaranteed)\n",
    "\n",
    "* Characteristic relaxation rate\n",
    "\n",
    "\\begin{equation*}\n",
    "\\omega_0 = \\frac{n \\gamma \\left[ w \\right]}{d}\n",
    "\\qquad\\qquad \n",
    "\\left[ w \\right] = \\int w(r) d\\vec{r}\n",
    "\\qquad\\qquad d\\ \\text{dimensions}\n",
    "\\end{equation*}"
   ]
  },
  {
   "cell_type": "markdown",
   "metadata": {
    "slideshow": {
     "slide_type": "subslide"
    }
   },
   "source": [
    "#### Model Parameters\n",
    "\n",
    "| | | |\n",
    "|---|---|---|\n",
    "| $m$             | mass of DPD particles                     | |\n",
    "| $r_c$           | range of DPD interactions (cutoff radius) | |\n",
    "| $\\gamma$        | friction coefficient                      | |\n",
    "| $\\sigma$        | noise amplitude                           | |\n",
    "| $L$             | size of simulation box                    | $V=L^d$ |\n",
    "| $N$             | number of particles                       | |"
   ]
  },
  {
   "cell_type": "markdown",
   "metadata": {
    "slideshow": {
     "slide_type": "subslide"
    }
   },
   "source": [
    "#### Derived Parameters\n",
    "\n",
    "||||\n",
    "|---|---|---|\n",
    "| $T_0$           | equilibrium temperature                   | $T_0=mv_0^2=m\\sigma^2/2\\gamma$ |\n",
    "| $n$             | number density                            | $n=N/L^d$ |\n",
    "| $n_c$           | number of particles in interaction sphere | $n_c=n(\\sigma_dr_c^d)$ |\n",
    "| $t_c$           | traversal time of interaction sphere      | $t_c=r_c/v_0$ |\n",
    "| $\\omega_0$      | collision frequency                       | $\\omega_0=\\frac{1}{d}n[w]\\gamma\\propto n_c\\gamma$ |\n",
    "| $t_0$           | collision time                            | $t_0=1/\\omega_0$ |\n",
    "| $l_0$           | dynamic distance (mean free path)         | $l_0=v_0t_0$ |\n",
    "| $t_\\gamma$      | friction time                             | $t_\\gamma=1/n[w]\\gamma=t_0/d$ |\n",
    "| $l_\\gamma$      | dynamic friction distance                 | $l_\\gamma=v_0t_\\gamma=l_0/d$ |"
   ]
  },
  {
   "cell_type": "markdown",
   "metadata": {
    "slideshow": {
     "slide_type": "subslide"
    }
   },
   "source": [
    "#### Dimensionless Parameters ($n[w]=1$)\n",
    "\n",
    "||||\n",
    "|---|---|---|\n",
    "| $\\Omega_0$      | dynamic overlapping                       | $\\Omega_0=r_c/l_0$ |\n",
    "| $\\Omega_\\gamma$ | dynamic friction overlapping              | $\\Omega_\\gamma=dr_c/l_\\gamma=d/n_c\\Omega_0$ |\n",
    "| $\\Omega_L$      | dimensionless box length                  | $\\Omega_L=r_c/L$ |\n",
    "| $\\Omega_s$      | dimensionless density                     | $\\Omega_s=r_c/l_s$ |"
   ]
  },
  {
   "cell_type": "markdown",
   "metadata": {
    "slideshow": {
     "slide_type": "slide"
    }
   },
   "source": [
    "### Transport Properties of DPD\n",
    "\n",
    "* Viscosities: kinetic and dissipative contributions [Marsh, Backx and Ernst 1997]\n",
    "\n",
    "$$\\begin{aligned}\n",
    "\\eta_K&=\\frac{nk_BT}{2\\omega_0} &\\qquad \n",
    "\\zeta_K&=\\frac{nk_BT}{d\\omega_0} \\\\\n",
    "\\eta_D&=\\frac{\\gamma m n^2 \\langle R^2 \\rangle_w \\left[w\\right]}{2d(d+2)} &\\qquad \n",
    "\\zeta_D&=\\frac{\\gamma m n^2 \\langle R^2 \\rangle_w \\left[w\\right]}{2d^2}\n",
    "\\end{aligned}$$\n",
    "\n",
    "\\begin{equation*}\n",
    "\\left\\langle R^2 \\right\\rangle_w = \\frac{\\left[ R^2 w \\right]}{[w]}\n",
    "\\end{equation*}\n",
    "\n",
    "* tuning of the solvent properties is a little cumbersome"
   ]
  },
  {
   "cell_type": "markdown",
   "metadata": {
    "slideshow": {
     "slide_type": "subslide"
    }
   },
   "source": [
    "### Dynamic Regimes of DPD\n",
    "\n",
    "![](assets/dpd-omega.png)"
   ]
  },
  {
   "cell_type": "markdown",
   "metadata": {
    "slideshow": {
     "slide_type": "subslide"
    }
   },
   "source": [
    "### Dynamic Regimes of DPD\n",
    "\n",
    "| | low density | high density |\n",
    "|---|---|---|\n",
    "|low friction  | _collective collisions_  | _mixed collisions_             |\n",
    "|              |  FPB (MBE theory)        | kinetic theory (MBE/Boltzmann) |\n",
    "| high friction | _binary collisions_  | _collective collisions_ |\n",
    "|               | Boltzmann theory     | ?                       |\n",
    "\n",
    "![](assets/operators.png)"
   ]
  },
  {
   "cell_type": "markdown",
   "metadata": {
    "slideshow": {
     "slide_type": "slide"
    }
   },
   "source": [
    "### Schmidt number in DPD\n",
    "\n",
    "* momentum transport vs. mass transport\n",
    "$$Sc = \\frac{\\nu}{D}$$\n",
    "\n",
    "* in real fluids the Schmidt number is on the order of $Sc \\sim 10^2-10^3$"
   ]
  },
  {
   "cell_type": "markdown",
   "metadata": {
    "slideshow": {
     "slide_type": "subslide"
    }
   },
   "source": [
    "* from transport properties of DPD [Groot and Warren 1997]\n",
    "\n",
    "\\begin{equation*}\n",
    "Sc \\approx \\frac{1}{2} + \\frac{(2 \\pi \\gamma \\rho r_c^4)^2}{70875k_BT}\n",
    "\\end{equation*}\n",
    "\n",
    "* DPD: $Sc=O(1)$ $\\rightarrow$ particles are diffusing as fast as momentum\n",
    "\n",
    "* Oseen approximation breaks down (problematic e.g. for polymer solutions)\n",
    "\n",
    "* consequence of soft potential (partly remedied by dissipative and random forces)\n",
    "\n",
    "* Lowe-Anderson thermostat shows better behavior"
   ]
  },
  {
   "cell_type": "markdown",
   "metadata": {
    "slideshow": {
     "slide_type": "slide"
    }
   },
   "source": [
    "### Lowe-Andersen thermostat\n",
    "\n",
    "* Idea: with a probability $\\gamma h$ replace the relative velocity with a new velocity drawn from a Maxwell-Boltzmann distribution\n",
    "\n",
    "$$ \\vec{v}'_{ij}\\hat{r}_{ij} = \\sqrt{\\frac{2k_BT}{m}} \\xi_{ij} $$\n",
    "\n",
    "* new velocities of the particles\n",
    "\n",
    "$$ \\begin{aligned}\n",
    "\\vec{v}'_i&=\\vec{v}_i+\\vec{\\Delta}_{ij} \\\\\n",
    "\\vec{v}'_j&=\\vec{v}_j-\\vec{\\Delta}_{ij} \\\\\n",
    "2\\vec{\\Delta}_{ij} &= \\hat{r}_{ij}\\left(\\vec{v}'_{ij}-\\vec{v}_{ij}\\right)\\hat{r}_{ij}\n",
    "\\end{aligned}$$"
   ]
  },
  {
   "cell_type": "markdown",
   "metadata": {
    "slideshow": {
     "slide_type": "subslide"
    }
   },
   "source": [
    "* conserves momentum, Galilei invariant\n",
    "\n",
    "* is a valid canonical Monte Carlo procedure (cf. Andersen thermostat)\n",
    "\n",
    "* contribution to shear viscosity\n",
    "\n",
    "$$ \\eta_D=\\frac{\\pi \\rho^2 \\gamma r_c^5}{75m} $$"
   ]
  },
  {
   "cell_type": "markdown",
   "metadata": {
    "slideshow": {
     "slide_type": "slide"
    }
   },
   "source": [
    "### DPD and finite time steps\n",
    "\n",
    "* the dissipative force $\\vec{F}^D$ is velocity dependent\n",
    "\n",
    "* Velocity-Verlet integration is not symplectic any more!\n",
    "\n",
    "* consequence: equilibrium properties become inaccurate\n",
    "  (temperature, radial distribution function,...)\n",
    "$$k_B T_{\\Delta t} = \\frac{A_3}{A_1(2-A_1n\\Delta t) - A_2 \\Delta t}$$\n",
    "\n",
    "\\begin{align*}\n",
    "A_1&=\\frac{\\gamma}{3m}[w] \n",
    "&A_2&=\\frac{2\\gamma^2}{3m^2}[w^2]\n",
    "&A_3&=\\frac{\\sigma^2}{3m}[w^2]\n",
    "\\end{align*}\n",
    "\n",
    "* need higher order integrators"
   ]
  },
  {
   "cell_type": "markdown",
   "metadata": {
    "slideshow": {
     "slide_type": "slide"
    }
   },
   "source": [
    "### Energy conserving DPD\n",
    "\n",
    "* Energy is not conserved in standard DPD\n",
    "* Temperature gradients cannot be sustained\n",
    "* Introduce an internal energy $\\epsilon_i$ for each particle\n",
    "* Equation of motion\n",
    "$$d\\epsilon_i = \\sum_j k_{ij} \\left(\\frac{1}{T_i}-\\frac{1}{T_j}\\right) w(r_{ij}) dt + \\sum_j \\xi^T_{ij}$$\n",
    "$$d\\epsilon_i = \\frac{m_i}{2} \\sum_j \\left[ \\gamma w^D(r_{ij}) \\left(\\vec{v}_{ij}\\hat{r}_{ij}\\right)^2-\\sigma^2 (w^R(r_{ij}))^2\\right] dt - \\sum_j \\sigma w^R(r_{ij}) (\\vec{v}_{ij}\\hat{r}_{ij}) d\\xi_{ij}$$"
   ]
  },
  {
   "cell_type": "markdown",
   "metadata": {
    "slideshow": {
     "slide_type": "slide"
    }
   },
   "source": [
    "### Hands-On Activity\n",
    "\n",
    "1. Test the strong and weak convergence properties of the Euler-Maruyama method (using Langevin dynamics or Brownian dynamics).\n",
    "2. Implement a DPD thermostat in your MD code and investigate its properties (energy, viscosity, diffusion).\n",
    "3. Investigate the decay of the VACF using DPD."
   ]
  },
  {
   "cell_type": "markdown",
   "metadata": {
    "slideshow": {
     "slide_type": "slide"
    }
   },
   "source": [
    "### References\n",
    "\n",
    "1. P. J. Hoogerbrugge and J. M. V. A. Koelman, Simulating Microscopic Hydrodynamic Phenomena with Dissipative Particle Dynamics. Europhys. Lett. 19, 155–160 (1992).\n",
    "2. P. Español and P. Warren, Statistical Mechanics of Dissipative Particle Dynamics. Europhys. Lett. 30, 191–196 (1995).\n",
    "2. C. P. Lowe, An alternative approach to disspative particle dynamics. Europhys. Lett. 47, 145-151 (1999).\n",
    "1. P. Español and P. B. Warren, Perspective: Dissipative particle dynamics. J. Chem. Phys 146, 150901 (2017).\n",
    "5. U. D. Schiller et al., Mesoscopic modelling and simulation of soft matter. Soft Matter 14, 9–26 (2017).\n"
   ]
  }
 ],
 "metadata": {
  "celltoolbar": "Slideshow",
  "kernelspec": {
   "display_name": "Python 3",
   "language": "python",
   "name": "python3"
  },
  "language_info": {
   "codemirror_mode": {
    "name": "ipython",
    "version": 3
   },
   "file_extension": ".py",
   "mimetype": "text/x-python",
   "name": "python",
   "nbconvert_exporter": "python",
   "pygments_lexer": "ipython3",
   "version": "3.6.0"
  }
 },
 "nbformat": 4,
 "nbformat_minor": 2
}
