{
 "cells": [
  {
   "cell_type": "raw",
   "metadata": {
    "slideshow": {
     "slide_type": "skip"
    }
   },
   "source": [
    "These lecture notes are provided under Creative Commons Attribution license, CC-BY. \n",
    "All code is subject to the terms of the FSF-approved BSD-3 license.\n",
    "(c) 2018 Rachel B. Getman, Sapna Sarupria, Ulf D. Schiller"
   ]
  },
  {
   "cell_type": "code",
   "execution_count": 5,
   "metadata": {
    "slideshow": {
     "slide_type": "notes"
    }
   },
   "outputs": [],
   "source": [
    "from IPython.display import YouTubeVideo"
   ]
  },
  {
   "cell_type": "markdown",
   "metadata": {
    "slideshow": {
     "slide_type": "slide"
    }
   },
   "source": [
    "# MSE 8900 / CHE 8450 - Multiscale Modeling\n",
    "\n",
    "Rachel B. Getman, Sapna Sarupria, Ulf D. Schiller\n",
    "\n",
    "Clemson University\n",
    "\n",
    "## Lecture 3.6: Coupling Molecular Dynamics and Lattice Boltzmann\n",
    "\n",
    "1. Hybrid LB-MD Coupling\n",
    "2. Boundary Conditions\n",
    "\n",
    "### References\n",
    "1. Sauro Succi, _The Lattice Boltzmann Equation for Complex States of Flowing Matter_, Oxford University Press, 2018.  \n",
    "2. B. D&uuml;nweg and A. J. C. Ladd, Lattice Boltzmann Simualtions of Soft Matter, _Adv. Polym. Sci._ **221**, 89, 2009."
   ]
  },
  {
   "cell_type": "markdown",
   "metadata": {
    "slideshow": {
     "slide_type": "slide"
    }
   },
   "source": [
    "### From Newton to Navier-Stokes\n",
    "\n",
    "![Route](assets/route.png)"
   ]
  },
  {
   "cell_type": "markdown",
   "metadata": {
    "slideshow": {
     "slide_type": "slide"
    }
   },
   "source": [
    "### Fluid-Particle Coupling\n",
    "\n",
    "* bead-spring model\n",
    "* bond potential (FENE)\n",
    "\n",
    "![Bead-spring polymer chain](assets/singlechain.png)\n",
    "\n",
    "* elastic surface with marker points\n",
    "* force coupling at the boundary\n",
    "\n",
    "![Red blood cell](assets/lattice-mapping.png)"
   ]
  },
  {
   "cell_type": "markdown",
   "metadata": {},
   "source": [
    "### Molecular Dynamics (MD)\n",
    "\n",
    "* evolution equation for phase space vector $\\Gamma$\n",
    "\n",
    "\\begin{equation*}\n",
    "\\Gamma(t) = e^{i\\mathcal{L} t} \\Gamma(0)\n",
    "\\end{equation*}\n",
    "\n",
    "* Liouville operator ($\\vec{F}_i$ conservative forces)\n",
    "\n",
    "\\begin{equation*}\n",
    "i \\mathcal{L} = \\sum_i \\left( \\frac{\\vec{p}_i}{m_i} \\cdot \\frac{\\partial}{\\partial\\vec{r}_i} +  \\vec{F}_i \\cdot \\frac{\\partial}{\\partial\\vec{p}_i}\\right) = i\\mathcal{L}_{\\vec{r}} + i\\mathcal{L}_{\\vec{p}}\n",
    "\\end{equation*}\n",
    "\n",
    "* updates for positions and momenta\n",
    "\n",
    "\\begin{align*}\n",
    "e^{ i\\mathcal{L}_{\\vec{r}} \\Delta t } \\vec{r}_i(t) &= \\vec{r}_i(t) + \\frac{\\Delta t}{m_i} \\vec{p}_i &\n",
    "e^{ i\\mathcal{L}_{\\vec{p}} \\Delta t } \\vec{p}_i(t) &= \\vec{p}_i(t) + \\Delta t \\vec{F}_i\n",
    "\\end{align*}\n",
    "\n",
    "* Trotter formula\n",
    "\n",
    "\\begin{equation*}\n",
    "e^{ i ( \\mathcal{L}_1 + \\mathcal{L}_2 ) t } = \\lim_{n\\rightarrow\\infty} \\left[ e^{ \\frac{i\\mathcal{L}_2 t}{2n} } e^{ \\frac{i \\mathcal{L}_1 t}{n} } e^{ \\frac{i\\mathcal{L}_2 t}{2n} } \\right]^n\n",
    "\\end{equation*}\n",
    "\n",
    "* Verlet splitting\n",
    "\n",
    "\\begin{equation*}\n",
    "e^{ i(\\mathcal{L}_1 + \\mathcal{L}_2) \\Delta t } = e^{ i\\mathcal{L}_2 \\frac{\\Delta t}{2} } e^{ i\\mathcal{L}_1 \\Delta t} e^{ i\\mathcal{L}_2 \\frac{\\Delta t}{2}} + \\mathcal{O}(\\Delta t^3)\n",
    "\\end{equation*}"
   ]
  },
  {
   "cell_type": "markdown",
   "metadata": {},
   "source": [
    "### Mapping between particles and lattice Boltzmann\n",
    "\n",
    "\n",
    "![Lattice Coupling](assets/coupling.png)\n",
    "\n",
    "* interpolation scheme for velocity\n",
    "\n",
    "\\begin{equation*}\\label{eq:IBM-interpolation}\n",
    "\\vec{u}(\\vec{R}_i,t) = \\mathcal{I}_a[\\vec{R}_i(t)] \\, \\vec{u} (\\vec{x},t) = \\sum_{\\vec{x}} \\vec{u}(\\vec{x},t) \\delta_a(\\vec{R}_i(t)-\\vec{x})\n",
    "\\end{equation*}\n",
    "\n",
    "* spreading of momentum transfer\n",
    "\n",
    "\\begin{equation*}\\label{eq:IBM-spreading}\n",
    "\\vec{F}(\\vec{x},t) = \\mathcal{I}_a^*[\\vec{R}_i(t)] \\, \\vec{F}_i (t) = a^{-3} \\sum_{i} \\vec{F}_i(t) \\delta_a(\\vec{R}_i(t)-\\vec{x})\n",
    "\\end{equation*}\n",
    "\n",
    "\\begin{equation*}\n",
    "-\\frac{\\Delta t}{a^3}\\vec{F} = {\\Delta\\vec{j}} = \\frac{\\mu}{a^2h} \\sum_{\\vec{x}\\in\\text{Cell}}\\sum_i \\Delta f_i(\\vec{x},t)\\vec{c}_i\n",
    "\\end{equation*}"
   ]
  },
  {
   "cell_type": "markdown",
   "metadata": {},
   "source": [
    "### Spatial interpolation functions\n",
    "\n",
    "* three-dimensional discrete $\\delta$ function\n",
    "\n",
    "\\begin{align*}\n",
    "\\sum_{\\vec{x}} \\delta_a(\\vec{x} - \\vec{R}) &= 1 , \\\\ %\\quad \\forall \\vec{R} \\\\\n",
    "\\sum_{\\vec{x}} \\vec{x} \\, \\delta_a(\\vec{x} - \\vec{R}) &= \\vec{R} ,%\\quad \\forall \\vec{R} \\\\\n",
    "\\end{align*}\n",
    "\n",
    "* force and torque conservation\n",
    "\n",
    "\\begin{align*}\n",
    "\\sum_{\\vec{x}} a^3 \\vec{F}(\\vec{x},t) \n",
    "&= \\sum_{\\vec{x}} \\sum_i \\vec{F}_i(t) \\delta_a(\\vec{x} - \\vec{R}_i) \n",
    "= \\sum_i \\vec{F}_i(t) , \\\\\n",
    "\\sum_{\\vec{x}} \\vec{x} \\times a^3 \\vec{F}(\\vec{x},t)\n",
    "&= \\sum_{\\vec{x}} \\sum_i \\vec{x} \\times \\vec{F}_i(t) \\delta_a(\\vec{x} - \\vec{R}_i)\n",
    "= \\sum_i \\vec{R}_i \\times \\vec{F}_i(t) .\n",
    "\\end{align*}"
   ]
  },
  {
   "cell_type": "markdown",
   "metadata": {},
   "source": [
    "### Spatial interpolation functions\n",
    "\n",
    "* three-dimensional $\\delta$ product of one-dimensional functions\n",
    "\n",
    "\\begin{equation*}\n",
    "\\delta_a(\\vec{x}) = \\phi(\\frac{x}{a}) \\phi(\\frac{y}{a}) \\phi(\\frac{z}{a}) ,\n",
    "\\end{equation*}\n",
    "\n",
    "* three-point interpolation gives smooth $\\nabla\\vec{u}$\n",
    "\n",
    "\\begin{equation*}\n",
    "\\phi_3(r) = \n",
    "\\begin{cases}\n",
    "\\frac{1}{3} \\left( 1 + \\sqrt{1 - 3r^2} \\right) & 0 \\le |r| \\le \\frac12 \\\\\n",
    "\\frac{1}{6} \\left( 5 - 3|r| - \\sqrt{6 |r| - 2 - 3r^2} \\right) & \\frac12 \\le |r| \\le \\frac32 \\\\\n",
    "0 & \\frac32 \\le |r| .\n",
    "\\end{cases}\n",
    "\\end{equation*}\n",
    "\n",
    "* compatible with halo thickness of $1$"
   ]
  },
  {
   "cell_type": "markdown",
   "metadata": {},
   "source": [
    "### Viscous coupling of particles and fluid\n",
    "\n",
    "![Lattice Coupling](assets/coupling.png)\n",
    "\n",
    "* Idea: treat monomers as point particles and apply Stokesian drag\n",
    "\\begin{equation*}\n",
    "\\vec{F}=-\\zeta_\\text{bare} \\left[\\vec{V}-\\vec{u}(\\vec{R},t)\\right] + \\vec{F}_\\text{stoch}\n",
    "\\end{equation*}\n",
    "\n",
    "* ensure momentum conservation by transferring momentum to the fluid\n",
    "\n",
    "* add stochastic force to fulfill fluctuation-dissipation relation"
   ]
  },
  {
   "cell_type": "markdown",
   "metadata": {},
   "source": [
    "### Why do all parts need to be thermalized?\n",
    "\n",
    "* Equations of motion are stochastic differential equations\n",
    "* Fokker-Planck formalism\n",
    "* Kramers-Moyal expansion\n",
    "\n",
    "\\begin{eqnarray*}\n",
    "%\n",
    "\\text{Particle, conservative}: \\quad \\mathcal{L}_1 &=& -\\sum_i \\left( \\frac{\\partial}{\\partial\\vec{r}_i}\\cdot\\frac{\\vec{p}_i}{m_i} + \\frac{\\partial}{\\partial \\vec{p}_i}\\cdot \\vec{F}_i \\right) \\\\\n",
    "%\n",
    "\\text{Particle, Langevin}: \\quad \\mathcal{L}_2 &=& \\sum_i \\frac{\\Gamma_i}{m_i}\\frac{\\partial}{\\partial \\vec{p}_i} \\vec{p}_i \\\\\n",
    "%\n",
    "\\text{Particle, stochastic}: \\quad \\mathcal{L}_3 &=& k_BT \\sum_i \\Gamma_i \\frac{\\partial^2}{\\partial\\vec{p}_i^2} \n",
    "%\n",
    "\\end{eqnarray*}\n",
    "\n",
    "* Fluctuation-Dissipation relation\n",
    "\n",
    "$$\\left(\\sum_i \\mathcal{L}_i\\right) \\exp(-\\beta \\mathcal{H}) = 0$$"
   ]
  },
  {
   "cell_type": "markdown",
   "metadata": {},
   "source": [
    "### Why do all parts need to be thermalized?\n",
    "\n",
    "\\begin{eqnarray*}\n",
    "%\n",
    "\\text{Particle, conservative}: \\quad \\mathcal{L}_1 &=& -\\sum_i \\left( \\frac{\\partial}{\\partial\\vec{r}_i}\\cdot\\frac{\\vec{p}_i}{m_i} + \\frac{\\partial}{\\partial \\vec{p}_i}\\cdot \\vec{F}_i \\right) \\\\\n",
    "%\n",
    "\\text{Fluid, conservative:} \\quad \\mathcal{L}_4 &=& \\int d\\vec{r} \\left( \\frac{\\delta}{\\delta\\rho} \\partial_\\alpha j_\\alpha + \\frac{\\delta}{\\delta j_\\alpha} \\partial_\\beta \\Pi^\\text{eq}_{\\alpha\\beta} \\right) \\\\\n",
    "%\n",
    "\\text{Fluid, viscous:} \\quad \\mathcal{L}_5 &=& \\eta_{\\alpha\\beta\\gamma\\delta} \\int d\\vec{r} \\frac{\\delta}{\\delta j_\\alpha} \\partial_\\beta \\partial_\\gamma u_\\delta \\\\\n",
    "%\n",
    "\\text{Fluid, stochastic:} \\quad \\mathcal{L}_6 &=& k_BT\\eta_{\\alpha\\beta\\gamma\\delta} \\int d\\vec{r} \\frac{\\delta}{\\delta j_\\alpha} \\partial_\\beta \\partial_\\gamma \\frac{\\delta}{\\delta j_\\delta}\\\\\n",
    "%\n",
    "\\text{Particle, coupling:} \\quad \\mathcal{L}_7 &=& -\\sum_i \\zeta_i \\frac{\\partial}{\\partial p_{i\\alpha}} u_{i\\alpha} \\\\\n",
    "%\n",
    "\\text{Fluid, coupling:} \\quad \\mathcal{L}_8 &=& -\\sum_i \\zeta_i \\int d\\vec{r} \\Delta(\\vec{r},\\vec{r}_i) \\frac{\\delta}{\\delta j_\\alpha(\\vec{r})} \\left( \\frac{p_{i\\alpha}}{m_i} - u_{i\\alpha} \\right) \\\\\n",
    "%\n",
    "\\text{Fluid, stochastic:} \\quad \\mathcal{L}_9 &=& k_BT \\sum_i \\zeta_i \\int d\\vec{r} \\Delta(\\vec{r},\\vec{r}_i) \\frac{\\delta}{\\delta j_\\alpha(\\vec{r})} \\int d\\vec{r}' \\Delta(\\vec{r}',\\vec{r}_i) \\frac{\\delta}{\\delta j_\\alpha(\\vec{r}')} \\\\\n",
    "%\n",
    "\\text{Particle, stochastic:} \\quad \\mathcal{L}_{10} &=& -2 k_BT \\sum_i \\zeta_i \\frac{\\partial}{\\partial p_{i\\alpha}} \\int d\\vec{r} \\Delta(\\vec{r},\\vec{r}_i) \\frac{\\delta}{\\delta j_\\alpha(\\vec{r})}\n",
    "%\n",
    "\\end{eqnarray*}"
   ]
  },
  {
   "cell_type": "markdown",
   "metadata": {},
   "source": [
    "### Coupled equations of motion\n",
    "\n",
    "* all force based coupling methods can be unified \n",
    "\n",
    "\\begin{align*}\n",
    "\\frac{\\partial}{\\partial t} \\vec{v}_i(t) &= - \\frac{1}{m_i} \\left[ \\zeta \\left( \\vec{v}_i - \\vec{u}(\\vec{R}_i,t) \\right) - \\xi_i - (1-r) \\vec{F}_i^\\text{int} \\right] \\\\\n",
    "\\frac{\\partial}{\\partial t} \\vec{u}(\\vec{R}_i,t) &= \\frac{1}{\\rho a^3} \\left[ \\zeta \\left( \\vec{v}_i - \\vec{u}(\\vec{R}_i,t) \\right) - \\xi_i  + r \\vec{F}_i^\\text{int} \\right]\n",
    "\\end{align*}\n",
    "\n",
    "* second-order accurate force scheme $\\alpha = \\frac{h \\zeta}{m_i}$, $\\beta = \\frac{h \\zeta}{\\rho a^3}$\n",
    "\n",
    "\\begin{align*}\n",
    "\\vec{v}_i(t+h) &= \\vec{v}_i(t) -\n",
    "\\frac{\\alpha}{1 + \\frac{\\alpha}{2}+\\frac{\\beta}{2}}\n",
    "\\left[ \\vec{v}_i(t) - \\vec{u}(\\vec{R}_i,t) - \\frac{1}{\\zeta} \\xi_i\n",
    "- \\frac{1-r+\\frac{\\beta}{2}}{\\zeta} \\vec{F}_i^\\text{int} \\right]\n",
    "\\\\\n",
    "\\vec{u}(\\vec{R}_i,t+h) &= \\vec{u}(\\vec{R}_i,t) +\n",
    "\\frac{\\beta}{1 + \\frac{\\alpha}{2}+\\frac{\\beta}{2}}\n",
    "\\left[ \\vec{v}_i(t) - \\vec{u}(\\vec{R}_i,t) - \\frac{1}{\\zeta} \\xi_i\n",
    "+ \\frac{r + \\frac{\\alpha}{2}}{\\zeta} \\vec{F}_i^\\text{int} \\right]\n",
    "\\end{align*}\n",
    "\n",
    "[UDS, Comp. Phys. Comm. 185, 2586-2597 (2014)]"
   ]
  },
  {
   "cell_type": "markdown",
   "metadata": {},
   "source": [
    "### Unification of forcing schemes\n",
    "\n",
    "* no-slip boundary condition can be satisfied by the choice\n",
    "\n",
    "\\begin{align*}\n",
    "\\zeta &= \\frac{\\rho a^3}{h} \\frac{2}{1 + \\frac{\\rho a^3}{m_i}}\n",
    "= \\frac{m_i}{h} \\frac{2}{1 + \\frac{m_i}{\\rho a^3}}\n",
    "%\\rightarrow \n",
    "%\\begin{cases}\n",
    "%2 \\frac{\\rho a^3}{h} & \\text{for }  m_i \\gg \\rho a^3 \\\\\n",
    "%2 \\frac{m_i}{h}  & \\text{for } m_i \\ll \\rho a^3\n",
    "%\\end{cases}\n",
    "&r &= \\frac{1}{1 + \\frac{m_i}{\\rho a^3}}\n",
    "\\end{align*}\n",
    "\n",
    "* $r$ is controlled by ratio of the particle mass $m_i$ and the fluid\n",
    "  mass $\\rho a^3$ per unit cell of the lattice\n",
    "\n",
    "\\begin{equation*}\n",
    "r = \\frac{1}{1 + \\frac{m_i}{\\rho a^3}}\n",
    "\\end{equation*}\n",
    "\n",
    "* $r$ can be called \"immersion number\"\n",
    "\n",
    "\\begin{equation*}\n",
    "\\begin{cases}\n",
    "m_i \\gg \\rho a^3 \\Rightarrow r \\rightarrow 0:\n",
    "& \\text{external boundary force (EBF)}\\\\\n",
    "m_i \\ll \\rho a^3 \\Rightarrow r \\rightarrow 1:\n",
    "& \\text{immersed boundary method (IBM)}\n",
    "\\end{cases}\n",
    "\\end{equation*}\n",
    "\n",
    "[UDS, Comp. Phys. Comm. 185, 2586-2597 (2014)]"
   ]
  },
  {
   "cell_type": "markdown",
   "metadata": {},
   "source": [
    "### \"Bare\" vs. effective friction constant\n",
    "\n",
    "* the input friction $\\zeta_\\text{bare}$ is not the real friction\n",
    "\n",
    "* $D_0 > k_B T / \\zeta_\\text{bare}$ (due to long time tail)\n",
    "\\begin{align*}\n",
    "  \\vec{V} &= \\frac{1}{\\zeta_\\text{bare}} \\vec{F} + \\vec{u}_{av} \\\\\n",
    "  \\vec{u} &\\approx \\frac{1}{8 \\pi \\eta r} \\left( \n",
    "      {\\mathsf{I}} + \\hat{r} \\otimes \\hat{r} \\right) \\vec{F} \\\\\n",
    "  \\vec{u}_{av} &= \\frac{1}{g \\eta a} \\vec{F}\n",
    "\\end{align*}\n",
    "\n",
    "\\begin{equation*}\n",
    "      \\frac{1}{\\zeta_\\text{eff}} = \\frac{1}{\\zeta_\\text{bare}}\n",
    "      + \\frac{1}{g \\eta a}\n",
    "\\end{equation*}\n",
    "\n",
    "* Stokes contribution from interpolation with range $a$\n",
    "\n",
    "* this _regularizes_ the theory (no point particles in nature!)\n",
    "\n",
    "* $\\zeta_\\text{bare}$ has no physical meaning!"
   ]
  },
  {
   "cell_type": "markdown",
   "metadata": {},
   "source": [
    "### Finite size effects\n",
    "\n",
    "Study diffusion / sedimentation of a single object\n",
    "\n",
    "![Flowfield around sphere](assets/trivial_flowfield.png)\n",
    "\n",
    "* $L = \\infty$: $u(r) \\sim 1/r$\n",
    "* $F \\sim \\eta R v = \\eta R^2 (v/R)$\n",
    "* area $R^2$, shear gradient $v/R$\n",
    "\n",
    "![Flowfield in a box](assets/boxflowfield.png)\n",
    "\n",
    "*  $L < \\infty$: homogeneous background force (no net acceleration)\n",
    "*  backflow due to momentum conservation\n",
    "*  additional shear gradient $v/L$\n",
    "*  additional force $\\eta R^2 (v/L) = \\eta R v (R/L)$\n",
    "*  _finite size effect_ $\\sim R/L$"
   ]
  },
  {
   "cell_type": "markdown",
   "metadata": {},
   "source": [
    "### Polymer chain in solution\n",
    "\n",
    "![Polymer chain on lattice](assets/singlechain.png)\n",
    "\n",
    "* bead-spring model\n",
    "* bond potential (FENE)\n",
    "\n",
    "$$V_\\text{FENE} = - \\frac{1}{2} k_\\text{FENE} R_0^2 \\ln \\left[ 1 - \\left(\n",
    "    \\frac{r}{R_0} \\right)^2 \\right]$$\n",
    "\n",
    "* excluded volume (LJ/WCA)\n",
    "\n",
    "$$V_{\\text{LJ}} = 4 \\epsilon \\left[ \\left( \\frac{\\sigma}{r} \\right)^{12} - \\left(\n",
    "    \\frac{\\sigma}{r} \\right)^6 + \\frac{1}{4} \\right], \\quad r\\leq2^{\\frac{1}{6}}\\sigma$$"
   ]
  },
  {
   "cell_type": "markdown",
   "metadata": {},
   "source": [
    "### BD vs. LB for single polymer chain\n",
    "\n",
    "#### Rouse modes\n",
    "\n",
    "\\begin{equation*}\n",
    "\\vec{X}_p=\\frac{1}{N}\\sum_{i=1}{N} \\vec{r}_i \\cos \\left[ \\frac{p \\pi}{N} \\left( i - \\frac{1}{2} \\right) \\right]\n",
    "\\end{equation*}\n",
    "\n",
    "![Rouse modes](assets/Fig6.png)\n",
    "\n",
    "#### Dynamic structure factor\n",
    "\n",
    "\\begin{equation*}\n",
    "S(k,t) = \\frac{1}{N} \\sum_{i,j}  \\exp \\left[ i \\vec{k} \\cdot \\left( \\vec{r}_i(t) - \\vec{r}_j(0) \\right) \\right]\n",
    "\\end{equation*}\n",
    "\n",
    "![Dynamic structure factor](assets/Fig10.png)\n",
    "\n",
    "[T. Pham, UDS, J. R. Prakash, B. Duenweg, J. Chem. Phys. 131, 16114 (2009)]"
   ]
  },
  {
   "cell_type": "markdown",
   "metadata": {},
   "source": [
    "### Finite size scaling\n",
    "\n",
    "\n",
    "#### Center-of-mass diffusion\n",
    "\n",
    "![Center-of-mass](assets/Fig5.png)\n",
    "\n",
    "#### First Rouse mode $X_1(t)$\n",
    "\n",
    "![First Rouse mode](assets/Fig7.png)\n",
    "\n",
    "[T. Pham, UDS, J. R. Prakash, B. Duenweg, J. Chem. Phys. 131, 16114 (2009)]"
   ]
  },
  {
   "cell_type": "markdown",
   "metadata": {},
   "source": [
    "### Scaling of the dynamic structure factor\n",
    "\n",
    "* best data collapse for $z \\approx 2.75$\n",
    "* close to Zimm scaling\n",
    "\n",
    "![Rouse scaling](assets/Skz3p7_labeled.png)\n",
    "![Zimm scaling](assets/Skz3_labeled.png)\n",
    "![Best collapse](assets/Skz2p75_labeled.png)"
   ]
  },
  {
   "cell_type": "markdown",
   "metadata": {},
   "source": [
    "### Lattice representation of rigid objects\n",
    "\n",
    "![Boundary mapping](assets/boundary_mapping.png)\n",
    "\n",
    "* determine the points where the surface of the rigid object intersects the lattice links\n",
    "* surface markers\n",
    "\n",
    "> \"Accounting for these constraints may be trivial under idealized\n",
    "    conditions [...] but generally speaking, it constitutes a very\n",
    "    delicate (and sometimes nerve-probing!) task.\"  \n",
    "  Sauro Succi"
   ]
  },
  {
   "cell_type": "markdown",
   "metadata": {},
   "source": [
    "### Boundary conditions\n",
    "\n",
    "![Boundary reflections](assets/boundary-reflections.png)\n",
    "\n",
    "* these rules are simple to implement\n",
    "* but they are **only correct to first order**\n",
    "* the boundary location is **always midway in between nodes**"
   ]
  },
  {
   "cell_type": "markdown",
   "metadata": {},
   "source": [
    "### Interpolation boundary conditions\n",
    "\n",
    "![Bouzidi boundaries](assets/bouzidi_boundaries.png)\n",
    "\n",
    "\\begin{equation*}\n",
    "\\begin{aligned}\n",
    "f_{i^-}(\\vec{R}_B,t+h) &= 2q f_i^*(\\vec{R}_B,t) + (1-2q) f_i^*(\\vec{R}_B-h\\vec{c}_i,t) , &\\qquad& q < \\frac{1}{2} , \\\\\n",
    "f_{i^-}(\\vec{R}_B,t+h) &= \\frac{1}{2q} f_i^*(\\vec{R}_B,t) + \\frac{2q-1}{2q} f_{i^-}^*(\\vec{R}_B,t) , &&q \\geq \\frac{1}{2} .\n",
    "\\end{aligned}\n",
    "\\end{equation*}\n",
    "\n",
    "[Bouzidi et al., Phys. Fluids 13, 3452 (2001)]"
   ]
  },
  {
   "cell_type": "markdown",
   "metadata": {},
   "source": [
    "### Multi-reflection boundary conditions\n",
    "\n",
    "![Multi-reflection boundaries](assets/multireflection.png)\n",
    "\n",
    "\\begin{equation*}\n",
    "\\begin{split}\n",
    "f_{i^-}(\\vec{R}_B,t+h) &= f_i^*(\\vec{R}_B,t)\n",
    "- \\frac{1-2q-2q^2}{(1+q)^2} f_{i^-}^*(\\vec{R}_B,t)\n",
    "+ \\frac{1-2q-2q^2}{(1+q)^2} f_i^*(\\vec{R}-h\\vec{c}_i,t)\\\\\n",
    "&\\qquad - \\frac{q^2}{(1+q)^2} f_{i^-}^*(\\vec{R}-h\\vec{c}_i,t)\n",
    "+ \\frac{q^2}{(1+q)^2} f_i^*(\\vec{R}-2h\\vec{c}_i,t) .\n",
    "\\end{split}\n",
    "\\end{equation*}\n",
    "\n",
    "* match Taylor expansion at the boundary with Chapman-Enskog result\n",
    "* yields a condition for the relaxation rate of the kinetic modes\n",
    "\n",
    "$$\\lambda_g(\\lambda_s)=-8\\frac{2+\\lambda}{8+\\lambda}$$\n",
    "\n",
    "* sometimes called \"magic\" although there is no magic involved\n",
    "\n",
    "[Ginzburg and d'Humieres, Phys. Rev. E 68, 066614 (2003)]"
   ]
  },
  {
   "cell_type": "markdown",
   "metadata": {},
   "source": [
    "### Equilibrium interpolation\n",
    "\n",
    "* interpolation for equilibrium\n",
    "* bounce-back for non-equilibrium\n",
    "* non-equilibrium enters Chapman-Enskog one order later than equilibrium\n",
    "* still second order accurate!\n",
    "\n",
    "\\begin{equation*}\n",
    "\\begin{aligned}\n",
    "f_{i^-}^\\text{eq}(\\vec{R}_B,t+h) &= 2q f_i^\\text{eq}(\\vec{R}_B,t) + (1-2q) f_i^\\text{eq}(\\vec{R}_B-h\\vec{c}_i,t) \\qquad && q<\\frac{1}{2} \\\\\n",
    "f_{i^-}^\\text{eq}(\\vec{R}_B,t+h) &= \\frac{1-q}{q} f_i^\\text{eq}(\\vec{R},t) + \\frac{2q-1}{q} f_i^\\text{eq}(\\vec{R}_B+qh\\vec{c}_i) && q \\geq \\frac{1}{2}  \\\\\n",
    "f_{i^-}^\\text{nq}(\\vec{R}_B,t+h) &= f_i^\\text{nq}(\\vec{R}_B,t) \n",
    "\\end{aligned}\n",
    "\\end{equation*}\n",
    "\n",
    "[Chun and Ladd, Phys. Rev. E 75, 066705 (2007)]"
   ]
  },
  {
   "cell_type": "markdown",
   "metadata": {},
   "source": [
    "### LBM Summary\n",
    "\n",
    "* Lattice Boltzmann: lattice kinetic approach to hydrodynamics\n",
    "* Solid theoretical underpinning \n",
    "* Coupling Molecular Dynamics and Lattice Boltzmann\n",
    "* Unification of force coupling schemes\n",
    "* Applications: polymers, cells, porous media\n",
    "* consistent thermal fluctuations\n",
    "* beyond Navier-Stokes: possible but can get complicated\n",
    "* challenges: non-ideal fluids, multi-phase fluids, thermal flows"
   ]
  },
  {
   "cell_type": "markdown",
   "metadata": {},
   "source": [
    "### Closing remarks\n",
    "\n",
    "> \"But, as with education in general, simulation must be kept honest,\n",
    "  because seeing is believing, and animated displays can be very\n",
    "  convincing irrespective of their veracity.\"  \n",
    "    D. C. Rapaport, The Art of Molecular Dynamics Simulation\n",
    "  \n",
    "* A bug in the program is always more likely than discovery of new physics.\n",
    "* Get the right answers for the right reasons!"
   ]
  },
  {
   "cell_type": "markdown",
   "metadata": {
    "slideshow": {
     "slide_type": "slide"
    }
   },
   "source": [
    "### Hands-On Activity\n",
    "\n",
    "1. Implement a coupling between your MD code and the LB code available at https://gist.github.com/uschille/8f65dd40572b2d943409.\n",
    "2. Simulate a tagged particle in an LB fluid and observe the behavior of the displacement and velocity.\n",
    "3. Move the particle with a constant velocity through the fluid and measure the drag force on the particle. Can you validate the Stokes-Einstein relation?\n",
    "4. Choose a few positions on the lattice and repeat the measurement of the drag force when the particle is kept fixed. Does the drag force depend on the chosen position?"
   ]
  },
  {
   "cell_type": "markdown",
   "metadata": {
    "slideshow": {
     "slide_type": "slide"
    }
   },
   "source": [
    "### References\n",
    "\n",
    "1. B. D&uuml;nweg, and A. J. C. Ladd. Lattice Boltzmann Simulations of Soft Matter Systems. _Adv. Poly. Sci._ **221**, 89 (2008)\n",
    "2. C. Aidun and J. Clausen. Lattice-Boltzmann Method for Complex Flows. _Annu. Rev. Fluid Mech._ **42**, 439-472 (2010)\n",
    "3. UDS, Timm Kr&uuml;ger, and Oliver Henrich. Mesoscopic Modelling and Simulation of Soft Matter. _Soft Matter_  (2017)\n",
    "4. UDS and O. Kuksenok. Lattice-Boltzmann Modeling of Multicomponent Systems: An Introduction. _Rev. Comput. Chem._ (2017)\n",
    "5. S. Succi. _The Lattice Boltzmann Equation for Complex States of Flowing Matter_. Oxford University Press (2018)"
   ]
  }
 ],
 "metadata": {
  "celltoolbar": "Slideshow",
  "kernelspec": {
   "display_name": "Python 3",
   "language": "python",
   "name": "python3"
  },
  "language_info": {
   "codemirror_mode": {
    "name": "ipython",
    "version": 3
   },
   "file_extension": ".py",
   "mimetype": "text/x-python",
   "name": "python",
   "nbconvert_exporter": "python",
   "pygments_lexer": "ipython3",
   "version": "3.6.0"
  }
 },
 "nbformat": 4,
 "nbformat_minor": 2
}
