{
 "cells": [
  {
   "cell_type": "raw",
   "metadata": {
    "slideshow": {
     "slide_type": "skip"
    }
   },
   "source": [
    "These lecture notes are provided under Creative Commons Attribution license, CC-BY. \n",
    "All code is subject to the terms of the FSF-approved BSD-3 license.\n",
    "(c) 2018 Rachel B. Getman, Sapna Sarupria, Ulf D. Schiller"
   ]
  },
  {
   "cell_type": "code",
   "execution_count": 5,
   "metadata": {
    "slideshow": {
     "slide_type": "notes"
    }
   },
   "outputs": [],
   "source": [
    "from IPython.display import YouTubeVideo"
   ]
  },
  {
   "cell_type": "markdown",
   "metadata": {
    "slideshow": {
     "slide_type": "slide"
    }
   },
   "source": [
    "# MSE 8900 / CHE 8450 - Multiscale Modeling\n",
    "\n",
    "Rachel B. Getman, Sapna Sarupria, Ulf D. Schiller\n",
    "\n",
    "Clemson University\n",
    "\n",
    "## Lecture 3.5: Lattice Boltzmann Methods\n",
    "\n",
    "1. The lattice Boltzmann equation\n",
    "2. Fluctuating lattice Boltzmann\n",
    "3. Chapman-Enskog expansion\n",
    "4. LB-MD coupling\n",
    "5. Boundary conditions\n",
    "\n",
    "### References\n",
    "1. Sauro Succi, The Lattice Boltzmann Equation for Complex States of Flowing Matter, Oxford University Press, 2018.  \n",
    "2. B. Duenweg and A. J. C. Ladd, Lattice Boltzmann Simualtions of Soft Matter, Adv. Polym. Sci. 221, 89, 2009."
   ]
  },
  {
   "cell_type": "markdown",
   "metadata": {
    "slideshow": {
     "slide_type": "slide"
    }
   },
   "source": [
    "### From Newton to Navier-Stokes\n",
    "\n",
    "![Route](assets/route.png)"
   ]
  },
  {
   "cell_type": "markdown",
   "metadata": {
    "slideshow": {
     "slide_type": "slide"
    }
   },
   "source": [
    "### Kinetic Theory: Boltzmann Equation\n",
    "\n",
    "* evolution equation for the (one-)particle distribution function\n",
    "$$\n",
    "\\left( \\frac{\\partial}{\\partial t} + \\vec{v}\\cdot\\frac{\\partial}{\\partial\\vec{r}} + \\frac{\\vec{F}}{m}\\cdot\\frac{\\partial}{\\partial\\vec{v}} \\right) f(\\vec{r},\\vec{v},t) = \\mathcal{C}[f]\n",
    "$$\n",
    "\n",
    "* Boltzmann collision operator\n",
    "$$\n",
    "\\mathcal{C}[f] = \\int d\\vec{v}_1 \\int d\\Omega \\, \\sigma(v_\\text{rel},\\Omega) \\, v_\\text{rel} \\left[ f(\\vec{r},\\vec{V}',t) f(\\vec{r},\\vec{v}_1',t) - f(\\vec{r},\\vec{v},t) f(\\vec{r},\\vec{v}_1,t) \\right] \n",
    "$$\n",
    "\n",
    "* Detailed balance\n",
    "$$\n",
    "f(\\vec{r},\\vec{v}_1',t) f(\\vec{r},\\vec{v}_2',t) = f(\\vec{r},\\vec{v}_1,t) f(\\vec{r},\\vec{v}_2,t)\n",
    "$$\n",
    "\n",
    "* Equilibrium distribution (Maxwell-Boltzmann) $f=f^\\text{eq} + f^\\text{neq}$\n",
    "\\begin{equation*}\n",
    "\\ln f^\\text{eq} = \\gamma_0 + \\gamma\\,\\vec{v} + \\gamma_4 \\vec{v}^2\n",
    "\\end{equation*}\n",
    "\n"
   ]
  },
  {
   "cell_type": "markdown",
   "metadata": {
    "slideshow": {
     "slide_type": "slide"
    }
   },
   "source": [
    "### Hydrodynamic Fields\n",
    "\n",
    "* \"average\" of polynomials $\\psi(\\vec{v})$ in components of $\\vec{v}$\n",
    "$$\\begin{aligned}\n",
    "m_\\psi(\\vec{r},t) = \\int \\psi(\\vec{v}) \\, f(\\vec{r},\\vec{v},t) d\\vec{v}\n",
    "\\end{aligned}$$\n",
    "\n",
    "* density, momentum density, stress tensor\n",
    "$$\\begin{aligned}\n",
    "\\rho(\\vec{r}, t) &= m \\int f d\\vec{v} \\\\\n",
    "\\vec{j}(\\vec{r}, t) &= m \\int \\vec{v} f d\\vec{v} \\\\\n",
    "\\Pi(\\vec{r} ,t) &= m \\int \\vec{v} \\otimes \\vec{v} f d\\vec{v}\n",
    "\\end{aligned}$$\n"
   ]
  },
  {
   "cell_type": "markdown",
   "metadata": {},
   "source": [
    "### Separation of scales\n",
    "\n",
    "* Observation: not all $m_\\psi$ show up in the macroscopic equations of motion\n",
    "\n",
    "* $\\rho$, $\\vec{j}$ (and $e$) are collisional invariants\n",
    "\\begin{equation*}\n",
    "\\int d\\vec{r} d\\vec{v} \\frac{\\delta m_{\\rho,\\vec{j},e}(f)}{\\delta f} \\mathcal{C}[f] = 0\n",
    "\\end{equation*}\n",
    "\n",
    "* local equilibrium (Maxwell-Boltzmann) $f^\\text{eq}(\\rho,\\vec{j},e)$\n",
    "\n",
    "* Hydrodynamics describes variation of $\\rho$ and $\\vec{j}$ (and $e$) through \\emph{transport} (over a macroscopic distance $\\sim L$)\n",
    "\n",
    "* all other variables relax rapidly through \\emph{collisions} ($\\sim \\lambda$ mean free path)\n",
    "\n",
    "* scale separation: $\\epsilon \\sim Kn = \\frac{\\lambda}{L} \\ll 1$ \\qquad Knudsen number $Kn=\\frac{\\lambda}{L}$"
   ]
  },
  {
   "cell_type": "markdown",
   "metadata": {
    "slideshow": {
     "slide_type": "subslide"
    }
   },
   "source": [
    "#### How can we exploit the scale separation?\n",
    "\n",
    "* we are only interested in the dynamics of the slow variables up to a certain order\n",
    "* the dynamics of the fast variables beyond that order is unimportant\n",
    "* any set of fast variables that leaves the slow dynamics unchanged will do\n",
    "* the number of degrees of freedom can be greatly reduced!\n",
    "* Caveat: imperfect scale separation $\\rightarrow$ fast variables can couple to slow dynamics"
   ]
  },
  {
   "cell_type": "markdown",
   "metadata": {
    "slideshow": {
     "slide_type": "slide"
    }
   },
   "source": [
    "![Box](assets/box.png)"
   ]
  },
  {
   "cell_type": "markdown",
   "metadata": {
    "slideshow": {
     "slide_type": "slide"
    }
   },
   "source": [
    "### Discretization a la Grad\n",
    "\n",
    "* Truncated Hermite expansion\n",
    "$$f^N(\\vec{r},\\vec{v},t)=\\omega(\\vec{v}) \\sum_{n=0}^N \\frac{1}{n!}\\mathsf{a}^{(n)}(\\vec{r},t) \\mathcal{H}^{(n)}(\\vec{v})$$\n",
    "\n",
    "($a^{(0)}=\\rho$, $a^{(1)}=\\vec{j}$, $a^{(2)} = \\Pi - \\rho\\mathsf{I}$, $\\dots$)\n",
    "\n",
    "* Gauss-Hermite quadrature\n",
    "$$\\begin{aligned}\n",
    "\\mathsf{a}^{(n)} &= \\int \\mathcal{H}^{(n)}(\\vec{v}) f^N(\\vec{r},\\vec{v},t) \\, d\\vec{v} \n",
    "= \\sum_{i} w_i \\, \\frac{\\mathcal{H}^{(n)}(\\vec{c}_i) f^N(\\vec{r},\\vec{c}_i,t)}{\\omega(\\vec{c}_i)}\\\\\n",
    "&= \\sum \\mathcal{H}^{(n)}(\\vec{c}_i) f_i(\\vec{r},t)\n",
    "\\end{aligned}$$\n",
    "\n",
    "$$\\int \\omega(\\vec{v}) \\, p(\\vec{r},\\vec{v},t) \\, d\\vec{v} = \\sum_{i} w_i \\, p(\\vec{r},\\vec{c}_i,t)$$\n",
    "\n",
    "* Discrete velocity model (DVM)\n",
    "\n",
    "$$\\left( \\frac{\\partial}{\\partial t} + \\vec{c}_i \\cdot \\frac{\\partial}{\\partial\\vec{r}} \\right) f_i = - \\sum_j \\Omega_{ij} (f_j - f_j^\\text{eq})$$"
   ]
  },
  {
   "cell_type": "markdown",
   "metadata": {
    "slideshow": {
     "slide_type": "slide"
    }
   },
   "source": [
    "### Quadratures\n",
    "\n",
    "| Quadrature | LB model | $q$ | $b_q$ | $w_q$ | $\\vec{c}_q$ |\n",
    "|---|---|---|---|---|---|\n",
    "| $E_{1,5}^{3}$ | D1Q3 | 0 | 1 | $\\frac{2}{3}$  | 0 |\n",
    "|               |      | 1 | 2 | $\\frac{1}{6}$  | $\\pm\\sqrt{3}$ |\n",
    "| $E_{2,5}^{9}$ | D2Q9 | 0 | 1 | $\\frac{4}{9}$  | $(0,0)$ |\n",
    "|               |      | 1 | 4 | $\\frac{1}{9}$  | $(\\pm\\sqrt{3},0)$, $(0,\\pm\\sqrt{3})$ |\n",
    "|               |      | 2 | 4 | $\\frac{1}{36}$ | $(\\pm\\sqrt{3},\\pm\\sqrt{3})$ |\n",
    "| $E_{3,5}^{15}$ | D3Q15 | 0 | 1 | $\\frac{2}{9}$ | $(0,0,0)$ |\n",
    "|                | | 1  |  6 | $\\frac{1}{9}$  | $(\\pm\\sqrt{3},0,0)$, $(0,\\pm\\sqrt{3},0)$, $(0,0,\\sqrt{3})$ |\n",
    "|                | | 3  |  8 | $\\frac{1}{72}$ | $(\\pm\\sqrt{3},\\pm\\sqrt{3},\\pm\\sqrt{3})$ |\n",
    "| $E_{3,5}^{19}$ | D3Q19 | 0 | 1 | $\\frac{1}{3}$ | $(0,0,0)$ |\n",
    "|                | | 1 |  6 | $\\frac{1}{18}$ | $(\\pm\\sqrt{3},0,0)$, $(0,\\pm\\sqrt{3},0)$, $(0,0,\\sqrt{3})$ |\n",
    "|                | | 2 | 12 | $\\frac{1}{36}$ | $(\\pm\\sqrt{3},\\pm\\sqrt{3},0)$, $(\\pm\\sqrt{3},0,\\pm\\sqrt{3})$, $(0,\\pm\\sqrt{3},\\pm\\sqrt{3})$ |\n",
    "| $E_{3,5}^{27}$ | D3Q27 | 0 | 1 | $\\frac{8}{27}$ | $(0,0,0)$ |\n",
    "|                | | 1 |  6 | $\\frac{2}{27}$ | $(\\pm\\sqrt{3},0,0)$, $(0,\\pm\\sqrt{3},0)$, $(0,0,\\sqrt{3})$ |\n",
    "|                | | 2 | 12 | $\\frac{1}{54}$ | $(\\pm\\sqrt{3},\\pm\\sqrt{3},0)$, $(\\pm\\sqrt{3},0,\\pm\\sqrt{3})$, $(0,\\pm\\sqrt{3},\\pm\\sqrt{3})$ |\n",
    "|                | | 3 |  8 | $\\frac{1}{216}$ | $(\\pm\\sqrt{3},\\pm\\sqrt{3},\\pm\\sqrt{3})$\n",
    "\n",
    "Notation $E^n_{D,d}$: $D$ dimensions, $d$ degree, $n$ abscissae\n",
    "$q$: neighbor shell, $b_q$: number of neighbors, $w_q$ weights, $\\vec{c}_q$ velocities\n",
    "\n",
    "\\begin{equation*}\n",
    "\\mathsf{T}^{(n)} = \\sum_i w_i \\vec{c}_i \\dots \\vec{c}_i = \n",
    "\\begin{cases}\n",
    "0 & n \\text{ odd} \\\\\n",
    "{\\delta}^{(n)} & n \\text{ even}\n",
    "\\end{cases}, \\quad \\forall n \\leq d.\n",
    "\\end{equation*}"
   ]
  },
  {
   "cell_type": "markdown",
   "metadata": {
    "slideshow": {
     "slide_type": "slide"
    }
   },
   "source": [
    "### Models with polynomial equilibrium\n",
    "\n",
    "* Ansatz: expansion in the velocities $\\vec{u}$ (Euler stress is quadratic in $\\vec{u}$)\n",
    "\\begin{equation*}\n",
    "f_i^\\text{eq}(\\rho,\\vec{u}) = w_i \\rho \\left[ 1 + A \\vec{u}\\cdot\\vec{c}_i + B (\\vec{u}\\cdot\\vec{c}_i)^2 + C\\vec{u}^2 \\right]\n",
    "\\end{equation*}\n",
    "\n",
    "* cubic symmetry of lattice tensors $\\mathsf{T}^{(n)}$\n",
    "  \\begin{alignat*}{2}\n",
    "    &\\sum_i w_i = 1 &\n",
    "    &\\sum_i w_i c_{i \\alpha} = 0 \\\\\n",
    "    &\\sum_i w_i c_{i \\alpha} c_{i \\beta}\n",
    "       =  \\sigma_2 \\, \\delta_{\\alpha \\beta} &\n",
    "    &\\sum_i w_i c_{i \\alpha} c_{i \\beta} c_{i \\gamma} = 0 \\\\\n",
    "    &\\sum_i w_i c_{i \\alpha} c_{i \\beta} c_{i \\gamma} c_{i \\delta}\n",
    "      =  \\kappa_4 \\, \\delta_{\\alpha \\beta \\gamma \\delta} &&\n",
    "      + \\sigma_4  \\left(\n",
    "          \\delta_{\\alpha \\beta}  \\delta_{\\gamma \\delta} \n",
    "        + \\delta_{\\alpha \\gamma} \\delta_{\\beta \\delta}\n",
    "        + \\delta_{\\alpha \\delta} \\delta_{\\beta \\gamma}\n",
    "        \\right)\n",
    "\\end{alignat*}\n",
    "\n",
    "* at least three shells required to satisfy the conditions\n",
    "\\begin{alignat*}{4}\n",
    "\\sum_i w_i &= 1 & \\qquad\n",
    "\\kappa_4 &= 0 & \\qquad\n",
    "\\sigma_4 &= \\sigma_2^2 & \\qquad\n",
    "c_s^2 &= \\sigma_2 \n",
    "\\end{alignat*}"
   ]
  },
  {
   "cell_type": "markdown",
   "metadata": {
    "slideshow": {
     "slide_type": "slide"
    }
   },
   "source": [
    "### The D3Q19 model\n",
    "\n",
    "![D3Q19 Model](assets/d3q19.png)\n",
    "\n",
    "* Equilibrium distribution:\n",
    "\\begin{equation*}\n",
    "f_i^\\text{eq}(\\rho,\\vec{u}) = w_i \\rho \\left[ 1 + \\frac{\\vec{u}\\cdot\\vec{c}_i}{c_s^2} + \\frac{\\vec{u}\\vec{u} \\colon (\\vec{c}_i\\vec{c}_i - c_s^2 \\mathsf{I})}{2c_s^4} \\right]\n",
    "\\end{equation*}\n",
    "\n",
    "* Moments:\n",
    "\\begin{align*}\n",
    "\\sum_i f_i^\\text{eq} &= \\rho \\\\\n",
    "\\sum_i f_i^\\text{eq}\\vec{c}_i &= \\rho\\vec{u} \\\\\n",
    "\\sum_i f_i^\\text{eq}\\vec{c}_i\\vec{c}_i &= \\rho c_s^2 \\mathsf{I} + \\rho\\vec{u}\\vec{u}\n",
    "\\end{align*}\n",
    "\n",
    "* Weight coefficients:\n",
    "\\begin{equation*}\n",
    "w_i =1/3 \\quad \\text{for } |\\vec{c}_i|=0, \\qquad\n",
    "w_i = 1/18 \\quad \\text{for } |\\vec{c}_i|=1, \\qquad\n",
    "w_i = 1/36 \\quad \\text{for } |\\vec{c}_i|=\\sqrt{2}\n",
    "\\end{equation*}\n",
    "* Speed of sound: $c_s = \\frac{1}{\\sqrt3}\\left(\\frac{a}{h}\\right)$"
   ]
  },
  {
   "cell_type": "markdown",
   "metadata": {
    "slideshow": {
     "slide_type": "slide"
    }
   },
   "source": [
    "### The lattice Boltzmann equation\n",
    "\n",
    "* recall the Boltzmann equation with linearised collisions\n",
    "\n",
    "\\begin{equation*}\n",
    "\\left( \\frac{\\partial}{\\partial t} + \\vec{v} \\cdot \\frac{\\partial}{\\partial\\vec{r}} \\right) f(\\vec{r},\\vec{v},t) = - \\Omega \\left[ f(\\vec{r},\\vec{v},t) - f^{\\text{eq}}(\\vec{v}) \\right]\n",
    "\\end{equation*}\n",
    "\n",
    "* systematic discretization $\\rightarrow$ lattice Boltzmann equation\n",
    "\n",
    "\\begin{equation*}\n",
    "\\bar f_i(\\vec{r}+h\\vec{c}_i,t+h) = \\bar f_i^*(\\vec{r},t) = \\bar f_i(\\vec{r},t) + \\sum_j \\Lambda_{ij} \\left[ \\bar f_j(\\vec{r},t) - f_j^{\\text{eq}}(\\rho,\\vec{u}) \\right]\n",
    "\\end{equation*}\n",
    "\n",
    "* But this is only first-order in time!?"
   ]
  },
  {
   "cell_type": "markdown",
   "metadata": {
    "slideshow": {
     "slide_type": "slide"
    }
   },
   "source": [
    "### Splitting of the discrete Boltzmann equation\n",
    "\n",
    "* Discrete velocity model (now with force term)\n",
    "\n",
    "\\begin{equation*}\n",
    "%\\frac{df_i}{dt} + {\\lambda} f_i = {\\lambda} f_i^\\text{eq}.\n",
    "\\frac{\\partial}{\\partial t} f_i = - \\vec{c}_i \\cdot \\frac{\\partial}{\\partial\\vec{r}} f_i - \\sum_j \\Omega_{ij} (f_j - f_j^\\text{eq}) + G_i = \\left( \\mathcal{S} + \\mathcal{C} + \\mathcal{F} \\right) f_i\n",
    "\\end{equation*}\n",
    "\n",
    "* Formal solution\n",
    "\n",
    "$$f_i(t+h) = \\exp\\left[ {h(\\mathcal{S} + \\mathcal{C} + \\mathcal{F})} \\right] \\, f_i(t)$$\n",
    "\n",
    "* Baker-Campbell-Hausdorff (for sufficiently differentiable operators)\n",
    "\n",
    "\\begin{equation*}\n",
    "\\exp \\left[ h(\\mathcal{S} + \\mathcal{C} + \\mathcal{F}) \\right] = e^{ \\frac{h}{2} \\left( \\mathcal{C} + \\mathcal{F} \\right) } e^{  h \\mathcal{S} } e^{ \\frac{h}{2} \\left( \\mathcal{C} + \\mathcal{F} \\right) } + \\mathcal{O}(h^3) \\approx \\mathsf{C}^\\frac12 \\mathsf{S} \\mathsf{C}^\\frac12\n",
    "\\end{equation*}\n",
    "\n",
    "* Second-order in time lattice Boltzmannn update\n",
    "\n",
    "\\begin{equation*}\n",
    "\\mathbf{f}(t+h) = \\mathsf{C}^\\frac12 \\mathsf{S} \\mathsf{C}^\\frac12 \\, \\mathbf{f}(t)\n",
    "\\end{equation*}\n",
    "\n",
    "P. Dellar, Comp. Math. App. 65, 129-141 (2013)  \n",
    "UDS, Comp. Phys. Comm. 185, 2586-2597 (2014)"
   ]
  },
  {
   "cell_type": "markdown",
   "metadata": {
    "slideshow": {
     "slide_type": "subslide"
    }
   },
   "source": [
    "### Splitting of the discrete Boltzmann equation\n",
    "\n",
    "* Streaming (Integration along characteristic)\n",
    "\n",
    "\\begin{equation*}\n",
    "f_i(\\vec{r}+\\vec{c}_i,t+h) = f_i(\\vec{r},t)\n",
    "\\end{equation*}\n",
    "\n",
    "* Collisions (Crank-Nicolson rule)\n",
    "\n",
    "\\begin{equation*}\n",
    "  \\mathbf{f}^\\text{nq}(t+h) = \\left( \\mathsf{I} + \\frac{h}{2} \\mathsf{\\Omega} \\right)^{-1} \n",
    "  \\left( \\mathsf{I} - \\frac{h}{2} \\mathsf{\\Omega} \\right) \\mathbf{f}^\\text{nq}(t) + \\mathcal{O}((h/\\tau)^3)\n",
    "\\end{equation*}\n",
    "\n",
    "* The error $\\mathcal{O}((h/\\tau)^3)$ can cause non-linear instabilities!\n",
    "\n",
    "* Why not exact solution?\n",
    "\n",
    "\\begin{equation*}\n",
    "  \\mathbf{f}^\\text{nq}(t+h) = \\exp [ - h \\mathsf{\\Omega} ] \\, \\mathbf{f}^\\text{nq}(t)\n",
    "\\end{equation*}\n",
    "\n",
    "* in practice less accurate!\n",
    "\n",
    "P. Dellar, Comp. Math. App. 65, 129-141 (2013)  \n",
    "Brownlee et al., Phys. Rev. E 75, 036711 (2007)"
   ]
  },
  {
   "cell_type": "markdown",
   "metadata": {
    "slideshow": {
     "slide_type": "subslide"
    }
   },
   "source": [
    "### The classical LB algorithm\n",
    "\n",
    "1. streaming step: move $f_i^*(\\vec{r},t)$ along $\\vec{c}_i$ to the next lattice site, increment $t$ by $h$\n",
    "\n",
    "$$\n",
    "f_i(\\vec{r}+h\\vec{c}_i,t+h) = f_i^*(\\vec{r},t)\n",
    "$$\n",
    "\n",
    "2. collision step: apply $\\Lambda_{ij}$ and compute the post-collisional $f_i^*(\\vec{r},t)$ on every lattice site\n",
    "\n",
    "$$\n",
    "f_i^*(\\vec{r},t) = f(\\vec{r},t) + \\sum_j \\Lambda_{ij} \\left[ f_j(\\vec{r},t) - f_j^\\text{eq}(\\rho,\\vec{u}) \\right]\n",
    "$$"
   ]
  },
  {
   "cell_type": "markdown",
   "metadata": {
    "slideshow": {
     "slide_type": "slide"
    }
   },
   "source": [
    "### Macroscopic moments in lattice Boltzmann\n",
    "\n",
    "* macroscopic fields are velocity moments of the populations\n",
    "\n",
    "\\begin{align*}\n",
    "\\rho &= \\sum_i f_i & \\rho\\vec{u} &= \\sum_i f_i\\vec{c}_i+\\frac{h}{2}\\mathbf{f} & \\mathsf{\\Pi} &= \\sum_i \\frac{f_i+f_i^*}{2} \\vec{c}_i\\otimes\\vec{c}_i\n",
    "\\end{align*}\n",
    "\n",
    "* construct orthogonal basis $e_{ki}$ for moments (recall $\\psi(\\vec{v})$ and $m_\\psi$)\n",
    "\\begin{equation*}\n",
    "m_k = \\sum_i e_{ki} f_i\n",
    "\\end{equation*}\n",
    "\n",
    "$0 \\leq k \\leq 9$: hydrodynamic modes (slow), $k\\geq10$: kinetic modes (fast)\n",
    "\n",
    "* collision matrix is diagonal in mode space\n",
    "\\begin{equation*}\n",
    "\\Lambda (\\mathbf{f} - \\mathbf{f}^\\text{eq}) = \\mathsf{M}^{-1} {\\left( \\mathsf{M}\\Lambda\\mathsf{M}^{-1} \\right)}{ \\mathsf{M} (\\mathbf{f} - \\mathbf{f}^\\text{eq})} = \\mathsf{M}^{-1} {\\hat\\Lambda}{ (\\mathbf{m}-\\mathbf{m}^\\text{eq}) }\n",
    "\\end{equation*}\n",
    "\n",
    "* MRT model\n",
    "\\begin{align*}\n",
    "(m_k - m_k^\\text{eq})^* = \\gamma_k (m_k - m_k^\\text{eq})\n",
    "\\end{align*}"
   ]
  },
  {
   "cell_type": "markdown",
   "metadata": {
    "slideshow": {
     "slide_type": "subslide"
    }
   },
   "source": [
    "### Choice of the moment basis\n",
    "\n",
    "\\begin{align*}\n",
    "& m_0 = \\rho = \\sum_i f_i       && \\text{mass}\\\\\n",
    "& m_1 = j_x = \\sum_i f_i c_{ix} && \\text{momentum $x$}\\\\\n",
    "& m_2 = j_y = \\sum_i f_i c_{iy} && \\text{momentum $y$}\\\\\n",
    "& m_3 = j_z = \\sum_i f_i c_{iz} && \\text{momentum $z$}\\\\\n",
    "& m_4 = \\text{tr}(\\mathsf{\\Pi})             && \\text{bulk stress}\\\\\n",
    "& m_5, \\ldots, m_9  \\simeq \\overline{\\mathsf{\\Pi}} && \\text{shear stresses}\\\\\n",
    "& m_{10}, \\ldots, m_{18}        && \\text{\"kinetic modes\", \"ghost modes\"}\\\\\n",
    "\\end{align*}"
   ]
  },
  {
   "cell_type": "markdown",
   "metadata": {
    "slideshow": {
     "slide_type": "slide"
    }
   },
   "source": [
    "### Multiple relaxation time model (MRT)\n",
    "\n",
    "\\begin{align*}\n",
    "&\\gamma_0 = \\gamma_1 = \\gamma_2 = \\gamma_3 = 0 \\quad \\text{mass and momentum conservation} \\\\\n",
    "&\\gamma_4 = \\gamma_b \\quad \\text{bulk stress} \\\\\n",
    "&\\gamma_5 = \\ldots = \\gamma_9 = \\gamma_s \\quad \\text{shear stress} \\\\\n",
    "&\\gamma_{10} = \\ldots = \\gamma_{18} = 0 \\quad \\text{simplest choice, careful with boundaries!}\n",
    "\\end{align*}\n",
    "\n",
    "* Remark: we could also relax the populations directly:\n",
    "\\begin{equation*}\n",
    "f_i^{\\text{nq}*} = \\sum_j \\Lambda_{ij} f_j^\\text{nq}\n",
    "\\end{equation*}\n",
    "* simplest choice $\\Lambda_{ij}=\\lambda^{-1}\\delta_{ij}$ $\\rightarrow$ lattice BGK \n",
    "* not a particularly good choice (less stable, less accurate)"
   ]
  },
  {
   "cell_type": "markdown",
   "metadata": {
    "slideshow": {
     "slide_type": "slide"
    }
   },
   "source": [
    "### Lattice moments vs. hydrodynamic moments\n",
    "\n",
    "* Concatenation of lattice Boltzmann updates\n",
    "\n",
    "\\begin{equation*}\n",
    "\\mathbf{f}(t+N h) = \\mathsf{C}^\\frac12 \\left( \\mathsf{S} \\mathsf{C} \\right)^N \\mathsf{C}^{-\\frac{1}{2}} \\, \\mathbf{f}(t)\n",
    "\\end{equation*}\n",
    "\n",
    "* density\n",
    "$$\n",
    "\\rho = \\sum_i ( \\mathsf{C}^\\frac12 \\mathbf{f} )_i = \\sum_i f_i\n",
    "$$\n",
    "\n",
    "* momentum density\n",
    "$$\n",
    "\\vec{j} = \\sum_i ( \\mathsf{C}^\\frac12 \\mathbf{f} )_i \\vec{c}_i \n",
    "= \\sum_i f_i \\vec{c}_i + \\frac{h}{2} \\mathbf{f}\n",
    "$$\n",
    "\n",
    "* viscous stress\n",
    "\n",
    "\\begin{equation*}\n",
    "\\begin{split}\n",
    "\\sigma &= - \\sum_i ( \\mathsf{C}^\\frac12 \\mathbf{f}^\\text{nq} )_i \\vec{c}_i\\vec{c}_i\n",
    "%= \\mathsf{C}^\\frac12 \\Pi^\\text{nq}  \\\\\n",
    "%&\\approx \\frac{1}{2} \\left( \\1 + \\mathsf{C} \\right) \\Pi^\\text{nq} \n",
    "= - \\left( \\mathsf{I}+ \\frac{h}{2} \\Omega \\right)^{-1} \\sum_i f^\\text{nq}_i \\vec{c}_i\\vec{c}_i %\\Pi^\\text{nq}\n",
    "\\end{split}\n",
    "\\end{equation*}\n",
    "\n",
    "* {Note: if $\\mathsf{C}^\\frac12$ includes fluctuations, it may not be invertible!}"
   ]
  },
  {
   "cell_type": "markdown",
   "metadata": {},
   "source": [
    "### Viscous stress relaxation\n",
    "\n",
    "$$ {\\Pi} = \\overline{{\\Pi}} + \\frac{1}{3} \\text{tr}({\\Pi}) \\mathsf{I}$$\n",
    "\n",
    "* recall: collision step applies linear relaxation to the moments\n",
    "\n",
    "\\begin{eqnarray*}\n",
    "\\overline{{\\Pi}}^{*\\text{neq}} &=& \\gamma_s \\overline{{\\Pi}}^{\\text{neq}} \\\\\n",
    "\\text{tr}({\\Pi}^{*\\text{neq}}) &=& \\gamma_b \\text{tr}({\\Pi}^{\\text{neq}})\n",
    "\\end{eqnarray*}\n",
    "\n",
    "* Chapman-Enskog expansion\n",
    "\n",
    "\\begin{equation*}\n",
    "-\\frac{1}{2} \\left ( \\mathsf{\\Pi}^{*\\text{neq}} + \\mathsf{\\Pi}^\\text{neq} \\right) = \\sigma = \\eta \\left( \\nabla\\vec{u} + (\\nabla\\vec{u})^t \\right) + \\left( \\zeta - \\frac{2}{3} \\eta \\right) (\\nabla\\cdot\\vec{u}) \\mathsf{I}\n",
    "\\end{equation*}\n",
    "\n",
    "* shear and bulk viscosities are determined by the relaxation parameters\n",
    "\n",
    "\\begin{align*}\n",
    "\\eta &= \\frac{\\rho c_s^2 h}{2} \\frac{1+\\gamma_s}{1-\\gamma_s}& \\eta_b &= \\frac{\\rho c_s^2 h}{3} \\frac{1+\\gamma_b}{1-\\gamma_b}\n",
    "\\end{align*}"
   ]
  },
  {
   "cell_type": "markdown",
   "metadata": {},
   "source": [
    "### Viscosity of the lattice Boltzmann fluid\n",
    "\n",
    "* incompressible Navier-Stokes equation is recovered\n",
    "\n",
    "* $-1 \\leq \\gamma_s \\leq 1$ $\\Leftrightarrow$ positive viscosities\n",
    "\n",
    "* any viscosity value is accessible\n",
    "\n",
    "![LB Viscosity](assets/visc_vs_gamma.png)"
   ]
  },
  {
   "cell_type": "markdown",
   "metadata": {},
   "source": [
    "### The force term in LB\n",
    "\n",
    "* force term $G_i$ in the discrete velocity model has the same\n",
    "  first moments as the acceleration term $-\\frac{1}{\\rho} \\vec{F} \\cdot\n",
    "  \\nabla_\\vec{c} f$\n",
    "\n",
    "\\begin{align*}\\label{eq:force-moments}\n",
    "\\sum_i G_i &= 0, & \\sum_i \\vec{c}_i G_i &= \\vec{F}, & \\sum_i \\vec{c}_i \\vec{c}_i G_i &= \\vec{F} \\vec{u} + \\vec{u} \\vec{F},\n",
    "\\end{align*}\n",
    "\n",
    "* second-order accuracy requires to transform the force term\n",
    "\n",
    "\\begin{equation*}\n",
    "\\bar{\\vec{G}} = \\left( \\mathsf{I} + \\frac{h}{2} \\Omega \\right)^{-1} h \\Omega \\, \\vec{G} = \\left( \\mathsf{I} - \\frac12 \\Lambda \\right) \\vec{G}\n",
    "\\end{equation*}\n",
    "\n",
    "* leads to a self-consistency problem when forces are velocity dependent\n",
    "\n",
    "* collide-stream-collide scheme"
   ]
  },
  {
   "cell_type": "markdown",
   "metadata": {
    "slideshow": {
     "slide_type": "slide"
    }
   },
   "source": [
    "### Units in LB\n",
    "\n",
    "* grid spacing $a$, time step $h$, particle mass $m_p$\n",
    "\n",
    "* these merely control the _accuracy_ and _stability_ of LB!\n",
    "\n",
    "* physically relevant: mass density $\\rho$, viscosity $\\eta$, temperature $k_BT$\n",
    "\n",
    "* recall:\n",
    "\n",
    "\\begin{align*}\n",
    "c_s^2 &= \\frac{1}{3} \\frac{a^2}{h^2} = \\hat{c}_s^2 \\frac{{a^2}}{{h^2}}\\\\\n",
    "\\eta &= \\frac{\\rho c_s^2 h}{2} \\frac{1+\\gamma_s}{1-\\gamma_s} = \\hat{\\rho} \\hat{c}_s^2 \\hat{\\eta} \\frac{m_p}{{a}{h}} \\\\\n",
    "k_BT &= m_p c_s^2 = m_p \\hat{c}_s^2 \\frac{{a^2}}{{h^2}}\n",
    "\\end{align*}\n",
    "\n",
    "* always make sure you are simulating the right _physics_!\n",
    "\n",
    "* for comparison with experiments: match dimensionless numbers!\n",
    "($Ma$, $Re$, $Pe$, $Sc$, $Kn$, $Pr$, $Wi$, $De$, ...)"
   ]
  },
  {
   "cell_type": "markdown",
   "metadata": {
    "slideshow": {
     "slide_type": "slide"
    }
   },
   "source": [
    "### Dimensionless numbers and LB parameters\n",
    "\n",
    "* connection between dimensionless numbers and simulation parameters\n",
    "\n",
    "\\begin{equation*}\n",
    "\\frac{1+\\gamma}{1-\\gamma} = \\frac{2\\nu}{c_s^2 h} = 2 \\sqrt{3} \\hat{L} \\frac{Ma}{Re} > 0\n",
    "\\end{equation*}\n",
    "\n",
    "* Knudsen number\n",
    "\n",
    "\\begin{equation*}\n",
    "Kn\\propto\\frac{Ma}{Re} = \\frac{\\eta}{\\rho c_s L} = \\frac{c_s h}{2 L} \\frac{1 + \\gamma}{1 - \\gamma} = \\frac{1}{\\sqrt{3} \\hat L} \\left( \\frac{1}{\\lambda} - \\frac{1}{2} \\right)\n",
    "\\end{equation*}\n",
    "\n",
    "* diffusive scaling: $a \\sim \\epsilon L$ \\quad $h \\sim \\epsilon^2 T$\n",
    "\n",
    "\\begin{align*}\n",
    "\\frac{{a^2}}{{h}} &= \\text{const.} &\n",
    "\\frac{{a}}{{h}} \\sim \\frac{1}{\\epsilon}\\frac{L}{T} \\underset{\\epsilon\\rightarrow 0}{\\rightarrow} \\infty\n",
    "\\end{align*}\n",
    "\n",
    "* $Ma \\rightarrow 0$ at fixed Reynolds number\n",
    "\n",
    "* Mach number annealing: $h \\sim \\epsilon T$\n",
    "\n",
    "* run simulation with higher Mach number until transients have decayed"
   ]
  },
  {
   "cell_type": "markdown",
   "metadata": {
    "slideshow": {
     "slide_type": "slide"
    }
   },
   "source": [
    "### Thermal fluctuations\n",
    "\n",
    "* so far the LB model is athermal and entirely deterministic\n",
    "\n",
    "* for Brownian motion, we need fluctuations!\n",
    "\n",
    "![Velocity decay](assets/vel.png)\n",
    "![Brownian motion](assets/brownian-motion.png)"
   ]
  },
  {
   "cell_type": "markdown",
   "metadata": {
    "slideshow": {
     "slide_type": "subslide"
    }
   },
   "source": [
    "#### Do we need fluctuations?\n",
    "\n",
    "* Ideal gas, temp. $T$, particle mass $m_p$, sound speed $c_s$:\n",
    "\n",
    "$$  k_B T = m_p c_s^2$$\n",
    "\n",
    "* $c_s \\sim a / h$ ($a$ lattice spacing, $h$ time step)\n",
    "* $c_s$ as small as possible\n",
    "\n",
    "* Example (water)\n",
    "\n",
    "|||\n",
    "|---|---|\n",
    "| sound speed realistic:  | $1.5 \\times 10^3 m / s$ |\n",
    "| sound speed artificial: | $c_s = 10^2 m / s$      |\n",
    "| temperature             | $T \\approx 300 K$, $k_B T = 4 \\times 10^{-21}$ |\n",
    "| particle mass:          | $m_p = 4 \\times 10^{-25} kg$ |\n",
    "\n",
    "|   | macroscopic scale | molecular scale |\n",
    "|---|---|---|\n",
    "| lattice spacing    | $a = 1 mm$             | $a = 1 nm$             |\n",
    "| time step          | $h = 10^{-5} s$        | $h = 10^{-11} s$       |\n",
    "| mass of a site     | $m_a = 10^{-6} kg$     | $m_a = 10^{-24} kg$    |\n",
    "| \"Boltzmann number\" | $Bo = (m_p/m_a)^{1/2}$ | $Bo = (m_p/m_a)^{1/2}$ |\n",
    "|                    | $ = 6 \\times 10^{-10}$ | $ = 0.6$               |"
   ]
  },
  {
   "cell_type": "markdown",
   "metadata": {
    "slideshow": {
     "slide_type": "subslide"
    }
   },
   "source": [
    "### Low Mach number physics\n",
    "\n",
    "* LB requires $u \\ll c_i$ hence $u \\ll c_s$\n",
    "* low Mach number $Ma=u/c_s \\ll 1$\n",
    "* compressibility does not matter\n",
    "* equation of state does not matter $\\rightarrow$ choose ideal gas!\n",
    "\n",
    "$m_p$ particle mass\n",
    "\n",
    "\\begin{equation*}\n",
    "  p = \\frac{\\rho}{m_p} k_B T\n",
    "\\end{equation*}\n",
    "\n",
    "\\begin{equation*}\n",
    "  c_s^2 = \\frac{\\partial p}{\\partial \\rho} = \\frac{1}{m_p} k_B T\n",
    "\\end{equation*}\n",
    "\n",
    "\\begin{equation*}\n",
    "  p = \\rho c_s^2\n",
    "\\end{equation*}\n",
    "\n",
    "\\begin{equation*}\n",
    "  k_B T = m_p c_s^2\n",
    "\\end{equation*}\n"
   ]
  },
  {
   "cell_type": "markdown",
   "metadata": {
    "slideshow": {
     "slide_type": "subslide"
    }
   },
   "source": [
    "### Generalized lattice gas model (GLG)\n",
    "\n",
    "* consider integer population numbers ($m_p$ mass of an LB particle)\n",
    "\n",
    "\\begin{equation*}\n",
    "\\nu_i = \\frac{f_i}{\\mu} \\qquad \\mu=\\frac{m_p}{a^3} \\qquad \\mu \\nu_i = {w_i}\\rho\n",
    "\\end{equation*}\n",
    "\n",
    "* each lattice site in contact with a heat bath\n",
    "\n",
    "* Poisson + constraints\n",
    "\n",
    "\\begin{equation*}\n",
    "     P \\left( \\left\\{ \\nu_i \\right\\} \\right)\n",
    "     \\propto\n",
    "     \\prod_i\n",
    "     \\frac{ {\\bar \\nu}_i^{\\nu_i} }{\\nu_i !} e^{-{\\bar \\nu}_i}\n",
    "     \\delta \\left( \\mu \\sum_i \\nu_i - \\rho \\right)\n",
    "     \\delta \\left( \\mu \\sum_i \\nu_i \\vec c_i - \\vec j \\right)\n",
    "\\end{equation*}\n",
    "\n",
    "[B. Duenweg, UDS, A. J. C. Ladd, Phys. Rev. E 76, 036704 (2007)]"
   ]
  },
  {
   "cell_type": "markdown",
   "metadata": {
    "slideshow": {
     "slide_type": "subslide"
    }
   },
   "source": [
    "### Entropy\n",
    "\n",
    "* associated entropy\n",
    "\\begin{equation*}\n",
    "    P % \\left( \\left\\{ \\nu_i \\right\\} \\right) \n",
    "    \\propto\n",
    "    \\exp \\left[S \\left( \\left\\{ \\nu_i \\right\\} \\right)\\right]\n",
    "    \\delta \\left( \\mu \\sum_i \\nu_i - \\rho \\right)\n",
    "    \\delta \\left( \\mu \\sum_i \\nu_i \\vec c_i - \\vec j \\right)\n",
    "\\end{equation*}\n",
    "\n",
    "* Stirling: $\\nu_i! = \\exp \\left( \\nu_i \\ln \\nu_i - \\nu_i \\right)$\n",
    "\\begin{align*}\n",
    "    S \\left( \\left\\{ \\nu_i \\right\\} \\right) \n",
    "    &= - \\sum_i \\left( \\nu_i \\ln \\nu_i -\\nu_i - \\nu_i \\ln {\\bar \\nu}_i\n",
    "    + {\\bar \\nu}_i \\right) \\\\\n",
    "    &= \\frac{1}{\\mu} \\sum_i \\rho w_i \\left( \\frac{f_i}{\\rho w_i}-\\frac{f_i}{\\rho w_i} \\ln\\frac{f_i}{\\rho w_i} - 1 \\right)\n",
    "\\end{align*}\n",
    "\n",
    "* $\\mu$ controls the mean square fluctuations (degree of coarse-graining)"
   ]
  },
  {
   "cell_type": "markdown",
   "metadata": {
    "slideshow": {
     "slide_type": "subslide"
    }
   },
   "source": [
    "### Maximum entropy principle\n",
    "\n",
    "* maximize entropy $S$ subject to constraints for mass and momentum conservation\n",
    "\n",
    "\\begin{equation*}\n",
    "\\frac{\\partial S}{\\partial \\nu_i} + \\chi\n",
    "+ \\lambda \\cdot \\vec c_i  =  0 \\qquad\n",
    "\\mu \\sum_i \\nu_i - \\rho  =  0 \\qquad\n",
    "\\mu \\sum_i \\nu_i \\vec c_i - \\vec{j}  =  0\n",
    "\\end{equation*}\n",
    "\n",
    "* formal solution\n",
    "\n",
    "\\begin{equation*}\n",
    "f_i^{\\text{eq}} = w_i \\, \\rho \\exp \\left( \\chi + \\lambda \\cdot \\vec{c}_i \\right)\n",
    "\\end{equation*}\n",
    "\n",
    "* expansion up to $\\mathcal{O}(u^2)$\n",
    "\n",
    "\\begin{equation*}\n",
    "f_i^\\text{eq}(\\rho,\\vec{u}) = w_i \\rho \\left[ 1 + \\frac{\\vec{u}\\cdot\\vec{c}_i}{c_s^2} + \\frac{\\vec{u}\\vec{u} \\colon (\\vec{c}_i\\vec{c}_i - c_s^2 \\mathsf{I})}{2c_s^4} \\right]\n",
    "\\end{equation*}\n",
    "\n"
   ]
  },
  {
   "cell_type": "markdown",
   "metadata": {
    "slideshow": {
     "slide_type": "subslide"
    }
   },
   "source": [
    "### Fluctuations around equilibrium\n",
    "\n",
    "* Gauss distribution for non-equilibrium part\n",
    "\\begin{equation*}\n",
    "    P % \\left( \\left\\{ f_i^{neq} \\right\\} \\right)\n",
    "    \\propto\n",
    "    \\exp \\left( -  \\sum_i \\frac{ \\left( f_i^{\\text{nq}} \\right)^2 }\n",
    "                               { 2 \\mu \\rho w_i } \\right)\n",
    "    \\delta \\left( \\sum_i f_i^{\\text{nq}} \\right)\n",
    "    \\delta \\left( \\sum_i \\vec c_i \\, f_i^{\\text{nq}} \\right)\n",
    "\\end{equation*}\n",
    "\n",
    "* transform to the modes ($b_k = \\sum_i w_i e_{ki}^2$, Basis $e_{ki}$)\n",
    "\\begin{equation*}\n",
    "    P\\left( \\left\\{ {m}_k^{\\text{nq}} \\right\\} \\right)\n",
    "    \\propto \\exp \\left( - \\sum_{k \\ge 4}\n",
    "    \\frac{\\left( {m}_k^{\\text{nq}} \\right)^2}{2 \\mu \\rho b_k} \\right)\n",
    "\\end{equation*}\n",
    "\n",
    "* more convenient: ortho-_normal_ modes\n",
    "\\begin{equation*}\n",
    "    \\hat{m}_k  =  \\sum_i \\hat{e}_{ki} \n",
    "    \\frac{f_i}{\\sqrt{w_i \\mu \\rho}}\n",
    "\\end{equation*}"
   ]
  },
  {
   "cell_type": "markdown",
   "metadata": {
    "slideshow": {
     "slide_type": "subslide"
    }
   },
   "source": [
    "### Implementation of the fluctuations\n",
    "\n",
    "* introduce stochastic term into the collision step\n",
    "\\begin{equation*}\n",
    "    {m}_k^{* \\text{nq}} = \\gamma_k {m}_k^{\\text{nq}} + \\varphi_k r_k\n",
    "\\end{equation*}\n",
    "$r_k$ random number from normal distribution\n",
    "\n",
    "* ensure detailed balance (like in Monte-Carlo)\n",
    "\\begin{equation*}\n",
    "\\frac{p(m \\rightarrow m^*)}{p(m^* \\rightarrow m)} = \\frac{\\exp(-m^{*2}/2)}{\\exp(-m^2/2)} \\qquad \\Rightarrow \\qquad {\\varphi_k = \\sqrt{\\mu\\rho b_k \\left( 1 - \\gamma_k^2 \\right)}}\n",
    "\\end{equation*}\n",
    "\n",
    "* $\\varphi_k \\neq 0$ for \\emph{all} non-conserved modes\n",
    "* all modes have to be thermalized\n",
    "\n",
    "[A. J. C. Ladd, J. Fluid Mech. 271, 285-309 (1994)]  \n",
    "[Adhikari et al., Europhys. Lett. 71, 473-479 (2005)]  \n",
    "[B. Duenweg, UDS, A. J. C. Ladd, Phys. Rev. E 76, 036704 (2007)]"
   ]
  },
  {
   "cell_type": "markdown",
   "metadata": {},
   "source": [
    "### Eliminating fast variables: Chapman-Enskog\n",
    "\n",
    "* introduce length and time scales\n",
    "\\begin{alignat*}{3}\n",
    "&\\text{coarse-grained length:} &\\quad& \\vec{r}_1 = \\epsilon \\vec{r} &\\quad\\rightarrow\\quad& \\frac{\\partial}{\\partial\\vec{r}}=\\epsilon\\frac{\\partial}{\\partial\\vec{r}_1} \\\\\n",
    "&\\text{convective time scale:} &\\quad& t_1 = \\epsilon t \\\\\n",
    "&\\text{diffusive time scale:}  &\\quad& t_2 = \\epsilon^2 t &\\quad\\rightarrow\\quad& \\frac{\\partial}{\\partial t} = \\epsilon \\frac{\\partial}{\\partial t_1} + \\epsilon^2 \\frac{\\partial}{\\partial t_2}\n",
    "\\end{alignat*}\n",
    "\n",
    "* use $\\epsilon$ as a perturbation parameter and expand $f$\n",
    "\\begin{eqnarray*}\n",
    "f &=& f^{(0)} + \\epsilon f^{(1)} + \\epsilon^2 f^{(2)} + \\dots \\\\\n",
    "\\mathcal{C}[f] &=& \\mathcal{C}[f^{(0)}] + \\epsilon \\int d\\vec{r} d\\vec{v} \\frac{\\delta C[f]}{\\delta f} f^{(1)}(\\vec{r},\\vec{v}) + \\dots\n",
    "\\end{eqnarray*}\n",
    "\n",
    "* solve for each order in $\\epsilon$"
   ]
  },
  {
   "cell_type": "markdown",
   "metadata": {},
   "source": [
    "### Chapman-Enskog expansion\n",
    "\n",
    "* $\\epsilon^0$: yields the collisional invariants, and the equilibrium distribution $f^{(0)}=f^\\text{eq}$\n",
    "\n",
    "* $\\epsilon^1$: yields the Euler equations, and the first order correction $f^{(1)}$\n",
    "\n",
    "\\begin{equation}\n",
    "\\tag{*}\n",
    "\\left( \\frac{\\partial}{\\partial t_1} + \\vec{c}\\frac{\\partial}{\\partial\\vec{r}_1} \\right) f^\\text{(0)} = \\int d\\vec{r}' d\\vec{c}' \\frac{\\delta C[f^{(0)}]}{\\delta f^{(0)}} f^{(1)}(\\vec{r}',\\vec{c}')\n",
    "\\end{equation}\n",
    "\n",
    "* $\\epsilon^2$: adds viscous terms to the Euler equation\n",
    "\n",
    "* Navier-Stokes!\n",
    "\n",
    "* the \"only\" difficulty is: no explicit solution of (*) is known...\\\\ (except for Maxwell molecules)"
   ]
  },
  {
   "cell_type": "markdown",
   "metadata": {},
   "source": [
    "### Chapman-Enskog expansion for LB\n",
    "\n",
    "* original LBE\n",
    "\\begin{equation*}\n",
    "f_i(\\vec{r}+h\\vec{c}_i,t+h) - f_i(\\vec{r},t) = \\delta_i\n",
    "\\end{equation*}\n",
    "\n",
    "* recall: coarse-grained length $\\vec{r}_1$, convective time scale $t_1$, diffusive time scale~$t_2$\n",
    "\n",
    "\\begin{equation*}\n",
    "f_i(\\vec{r}_1+\\epsilon h\\vec{c}_i,t_1+\\epsilon h,t_2+\\epsilon^2h) - f_i(\\vec{r}_1,t_1,t_2) = \\delta_i\n",
    "\\end{equation*}\n",
    "\n",
    "* Taylor expansion:\n",
    "\n",
    "\\begin{equation*}\n",
    "\\epsilon h \\left( \\frac{\\partial}{\\partial t_1} + \\vec{c}_i\\cdot\\frac{\\partial}{\\partial\\vec{r}_1} \\right) f_i + \\epsilon^2h \\left[ \\frac{\\partial}{\\partial t_2} + \\frac{h}{2} \\left( \\frac{\\partial}{\\partial t_1} + \\vec{c}_i\\cdot\\frac{\\partial}{\\partial\\vec{r}_1}\\right) \\right] f_i = \\delta_i\n",
    "\\end{equation*}"
   ]
  },
  {
   "cell_type": "markdown",
   "metadata": {},
   "source": [
    "###  Chapman-Enskog expansion for LB\n",
    "\n",
    "* expand $f_i$ and $\\Delta_i$ in powers of $\\epsilon$\n",
    "\\begin{eqnarray*}\n",
    "f_i &=& f_i^{(0)} + \\epsilon f_i^{(1)} + \\epsilon^2 f_i^{(2)} + \\dots \\\\\n",
    "\\Delta_i &=& \\Delta_i^{(0)} + \\epsilon \\Delta_i^{(1)} + \\dots\n",
    "%&=& \\Delta_i^{(0)} + \\epsilon \\sum_j \\textcolor{blue}{\\left. \\frac{\\partial \\Delta_i}{\\partial f_j}\\right|_{f_j=f_j^{(0)}}} f_j^{(1)} + \\dots \\\\\n",
    "%&=:& \\epsilon \\sum_j \\textcolor{blue}{\\Lambda_{ij}} f_j^{(1)}\n",
    "\\end{eqnarray*}\n",
    "\n",
    "* hierarchy of equations at different powers of $\\epsilon$\n",
    "\\begin{align*}\n",
    "\\mathcal{O}(\\epsilon^0): \\quad & \\Delta_i^{(0)} = 0 \\\\\n",
    "\\mathcal{O}(\\epsilon^1): \\quad & \\left( \\frac{\\partial}{\\partial t_1} + \\vec{c}_i\\cdot\\frac{\\partial}{\\partial\\vec{r}_1} \\right) f_i^{(0)} = \\frac{1}{h} \\Delta_i^{(1)} \\\\\n",
    "\\mathcal{O}(\\epsilon^2): \\quad &  \\left[ \\frac{\\partial}{\\partial t_2} + \\frac{h}{2} \\left(  \\frac{\\partial}{\\partial t_1} + \\vec{c}_i\\cdot\\frac{\\partial}{\\partial\\vec{r}_1} \\right)^2 \\right]  f_i^{(0)}  +  \\left( \\frac{\\partial}{\\partial t_1} + \\vec{c}_i\\cdot\\frac{\\partial}{\\partial\\vec{r}_1} \\right) f_i^{(1)} = \\frac{1}{h} \\Delta_i^{(2)}\n",
    "\\end{align*}"
   ]
  },
  {
   "cell_type": "markdown",
   "metadata": {},
   "source": [
    "### Zeroth order $\\epsilon^0$\n",
    "\n",
    "* no expansion for conserved quantities!\n",
    "\\begin{eqnarray*}\n",
    "f_i^{(0)} &=& f_i^\\text{eq} \\\\\n",
    "\\rho^{(0)} &=& \\rho = \\sum_i f_i^\\text{eq} \\\\\n",
    "\\vec{j}^{(0)} &=& \\vec{j} = \\sum_i f_i^\\text{eq} \\vec{c}_i\n",
    "\\end{eqnarray*}\n",
    "\n",
    "* linear part of collision operator\n",
    "\\begin{eqnarray*}\n",
    "\\Delta_i &=& \\epsilon \\Delta_i^{(1)} = \\epsilon \\sum_j {\\left. \\frac{\\partial \\Delta_i}{\\partial f_j} \\right|_{f^{(0)}}} f_j^{(1)} = \\sum_j {\\Lambda_{ij}} f_j^{(1)}\n",
    "\\end{eqnarray*}"
   ]
  },
  {
   "cell_type": "markdown",
   "metadata": {},
   "source": [
    "### Equations for the mass density\n",
    "\n",
    "* \n",
    "\\begin{align*}\n",
    "&\\frac{\\partial}{\\partial t_1} \\rho + \\frac{\\partial}{\\partial\\vec{r}_1} \\cdot \\vec{j} = 0 \\\\\n",
    "&\\frac{\\partial}{\\partial t_2} \\rho = 0\n",
    "\\end{align*}\n",
    "\n",
    "* continuity equation holds! \\centering"
   ]
  },
  {
   "cell_type": "markdown",
   "metadata": {},
   "source": [
    "### Equations for the momentum density\n",
    "\n",
    "* \n",
    "\\begin{align*}\n",
    "&\\frac{\\partial}{\\partial t_1} \\vec{j} + \\frac{\\partial}{\\partial\\vec{r}_1} \\cdot {\\mathsf{\\Pi}^{(0)}} = 0 \\\\\n",
    "&\\frac{\\partial}{\\partial t_2} \\vec{j} + \\frac{1}{2} \\frac{\\partial}{\\partial\\vec{r}_1} \\cdot \\left( {\\mathsf{\\Pi}^{*(1)} + \\mathsf{\\Pi}^{(1)}} \\right) = 0 \n",
    "\\end{align*}\n",
    "\n",
    "* Euler stress\n",
    "\\begin{equation*}\n",
    "{\\Pi}^{(0)} = \\rho c_s^2 \\mathsf{I} + \\rho \\vec{u}\\vec{u} = \\mathsf{\\Pi}^\\text{eq}\n",
    "\\end{equation*}\n",
    "\n",
    "* Newtonian viscous stress\n",
    "\\begin{equation*}\n",
    "\\frac{\\epsilon}{2} \\left( \\mathsf{\\Pi}^{*(1)} + \\mathsf{\\Pi}^{(1)} \\right) = - \\mathsf{\\Pi}^\\text{visc}\n",
    "\\end{equation*}\n",
    "\n",
    "* incompressible Navier-Stokes equation holds!"
   ]
  },
  {
   "cell_type": "markdown",
   "metadata": {},
   "source": [
    "### Diggin' deeper: Third moment\n",
    "\n",
    "* the third moment ${\\Phi}^{(0)} = \\sum_i f_i^{(0)} \\vec{c}_i\\vec{c}_i\\vec{c}_i$ enters through its equilibrium part!\n",
    "\\begin{equation*}\n",
    "\\frac{\\partial}{\\partial t_1} \\mathsf{\\Pi}^{(0)} + \\frac{\\partial}{\\partial\\vec{r}_1} \\cdot {{\\Phi}^{(0)}} = \\frac{1}{h} \\sum_i \\Delta_i^{(1)} \\vec{c}_i \\vec{c}_i = \\frac{1}{h} \\left( \\mathsf{\\Pi}^{*(1)} - \\mathsf{\\Pi}^{(1)} \\right)\n",
    "\\end{equation*}\n",
    "\n",
    "* explicit form\n",
    "\\begin{equation*}\n",
    "{\\Phi}^{(0)}_{\\alpha\\beta\\gamma} = \\rho c_s^2 \\left( u_\\alpha \\delta_{\\beta\\gamma} + u_\\beta\\delta_{\\alpha\\gamma} + u_\\gamma\\delta_{\\alpha\\beta} \\right)\n",
    "\\end{equation*}\n",
    "\n",
    "* from continuity and Euler equation\n",
    "\\begin{equation*}\n",
    "\\frac{\\partial}{\\partial t_1} \\mathsf{\\Pi}^{(0)} = \\frac{\\partial}{\\partial t_1} \\left( \\rho c_s^2 \\mathsf{I} + \\rho \\vec{u}\\vec{u} \\right) = \\dots\n",
    "\\end{equation*}\n",
    "\n",
    "* neglecting terms of $\\mathcal{O}(u^3)$\n",
    "\\begin{equation*}\n",
    "\\mathsf{\\Pi}^{*(1)} - \\mathsf{\\Pi}^{(1)} = \\rho c_s^2 h \\left( \\nabla\\vec{u} + (\\nabla\\vec{u})^t \\right)\n",
    "\\end{equation*}"
   ]
  },
  {
   "cell_type": "markdown",
   "metadata": {},
   "source": [
    "### Suitable LB models\n",
    "\n",
    "* equilibrium values of the moments up to ${\\Phi}^\\text{eq}$\n",
    "\\begin{eqnarray*}\n",
    "\\rho^\\text{eq}&=&\\rho \\\\\n",
    "\\vec{j}^\\text{eq}&=&\\vec{j} \\\\\n",
    "{\\Pi}^\\text{eq}&=&\\rho c_s^2 \\mathsf{I} + \\rho \\vec{u} \\vec{u} \\\\\n",
    "{\\Phi}^\\text{eq}_{\\alpha\\beta\\gamma} &=& \\rho c_s^2 \\left( u_\\alpha \\delta_{\\beta\\gamma} + u_\\beta\\delta_{\\alpha\\gamma} + u_\\gamma\\delta_{\\alpha\\beta} \\right)\n",
    "\\end{eqnarray*}\n",
    "\n",
    "* collision operator\n",
    "\\begin{align*}\n",
    "\\sum_i \\Delta_i &= 0 & \n",
    "\\sum_i \\Delta_i \\vec{c}_i &= 0 \\\\\n",
    "\\overline{{\\Pi}}^{*\\text{neq}} &= \\gamma_s \\overline{{\\Pi}}^{\\text{neq}} &\n",
    "\\text{tr}({\\Pi}^{*\\text{neq}}) &= \\gamma_b \\text{tr}({\\Pi}^{\\text{neq}})\n",
    "\\end{align*}"
   ]
  },
  {
   "cell_type": "markdown",
   "metadata": {
    "slideshow": {
     "slide_type": "slide"
    }
   },
   "source": [
    "### Hands-On Activity\n",
    "\n",
    "1. Play around with the LB code available at https://gist.github.com/uschille/8f65dd40572b2d943409."
   ]
  },
  {
   "cell_type": "markdown",
   "metadata": {
    "slideshow": {
     "slide_type": "slide"
    }
   },
   "source": [
    "### References\n",
    "\n",
    "1. Schiller, U. D., Krüger, T. & Henrich, O. Mesoscopic modelling and simulation of soft matter. Soft Matter 14, 9–26 (2017).\n",
    "4. Schiller, U. D. A unified operator splitting approach for multi-scale fluid–particle coupling in the lattice Boltzmann method. Comput. Phys. Commun. 185, 2586–2597 (2014).\n",
    "2. Dünweg, B., Schiller, U. D. & Ladd, A. J. C. Progress in the understanding of the fluctuating lattice Boltzmann equation. Comput. Phys. Commun. 180, 605–608 (2009).\n",
    "5. Dünweg, B., Schiller, U. D. & Ladd, A. J. C. Statistical mechanics of the fluctuating lattice Boltzmann equation. Phys. Rev. E 76, 036704 (2007).\n",
    "3. Schiller, U. D. Thermal fluctuations and boundary conditions in the lattice Boltzmann method. (Johannes Gutenberg University Mainz, 2008)."
   ]
  }
 ],
 "metadata": {
  "celltoolbar": "Slideshow",
  "kernelspec": {
   "display_name": "Python 3",
   "language": "python",
   "name": "python3"
  }
 },
 "nbformat": 4,
 "nbformat_minor": 2
}
