{
 "cells": [
  {
   "cell_type": "raw",
   "metadata": {
    "slideshow": {
     "slide_type": "skip"
    }
   },
   "source": [
    "These lecture notes are provided under Creative Commons Attribution license, CC-BY. \n",
    "All code is subject to the terms of the FSF-approved BSD-3 license.\n",
    "(c) 2018 Rachel B. Getman, Sapna Sarupria, Ulf D. Schiller"
   ]
  },
  {
   "cell_type": "code",
   "execution_count": 3,
   "metadata": {
    "slideshow": {
     "slide_type": "notes"
    }
   },
   "outputs": [],
   "source": [
    "from IPython.display import YouTubeVideo"
   ]
  },
  {
   "cell_type": "markdown",
   "metadata": {
    "slideshow": {
     "slide_type": "slide"
    }
   },
   "source": [
    "# MSE 8900 / CHE 8450 - Multiscale Modeling\n",
    "\n",
    "Rachel B. Getman, Sapna Sarupria, Ulf D. Schiller\n",
    "\n",
    "Clemson University\n",
    "\n",
    "## Lecture 3.2: Langevin Dynamics\n",
    "\n",
    "1. Langevin Dynamics\n",
    "2. Langevin Thermostat\n",
    "3. Diffusion / Brownian Motion\n",
    "\n",
    "### References\n",
    "\n",
    "1. M. P. Allen and D. J. Tildesley, Computer Simulation of Liquids, 2nd edition, Oxford University Press, Oxford, 2017  \n",
    "(Chapters 2,8,12.2-3)\n",
    "2. J. M. Haile, Molecular Dynamics Simulation: Elementary Methods, Wiley, New York 1992  \n",
    "(Chapters 2,6,7)\n",
    "3. D. Frenkel and B. Smit, Understanding Molecular Simulation: From Algorithms to Applications, 2nd edition, Academic Press, San Diego 2002  \n",
    "(Chaters 2,4, Appendix C)\n",
    "4. D. C. Rapaport, The Art of Molecular Dynamics Simulation, 2nd edition, Cambridge University Press, Cambridge 2004  \n",
    "(Chapters 4,5)"
   ]
  },
  {
   "cell_type": "markdown",
   "metadata": {
    "slideshow": {
     "slide_type": "slide"
    }
   },
   "source": [
    "### Brownian Motion"
   ]
  },
  {
   "cell_type": "code",
   "execution_count": 4,
   "metadata": {
    "scrolled": true,
    "slideshow": {
     "slide_type": "fragment"
    }
   },
   "outputs": [
    {
     "data": {
      "image/jpeg": "[encoded data removed]",
      "text/html": [
       "\n",
       "        <iframe\n",
       "            width=\"400\"\n",
       "            height=\"300\"\n",
       "            src=\"https://www.youtube.com/embed/cDcprgWiQEY\"\n",
       "            frameborder=\"0\"\n",
       "            allowfullscreen\n",
       "        ></iframe>\n",
       "        "
      ],
      "text/plain": [
       "<IPython.lib.display.YouTubeVideo at 0x2ac7b4eeb8d0>"
      ]
     },
     "execution_count": 4,
     "metadata": {},
     "output_type": "execute_result"
    }
   ],
   "source": [
    "YouTubeVideo('cDcprgWiQEY')"
   ]
  },
  {
   "cell_type": "markdown",
   "metadata": {
    "slideshow": {
     "slide_type": "slide"
    }
   },
   "source": [
    "###  Langevin Dynamics\n",
    "\n",
    "Consider a single (tagged) particle which is immersed in a fluid. The particle experiences a force due to the collisions with other particles in the fluid. \n",
    "\n",
    "We know that, in equilibrium, the probability distribution of the velocity of the tagged particle is given by the Maxwell-Boltzmann distribution\n",
    "$$f_1(v) = \\frac{1}{V} \\left(\\frac{m}{2\\pi k_BT}\\right)^\\frac{d}{2} \\exp\\left(-\\frac{mv^2}{2k_BT} \\right)$$\n",
    "\n",
    "Rather than attempting to solve the BBGKY hierarchy, we now seek an equation of motion for the tagged particle. "
   ]
  },
  {
   "cell_type": "markdown",
   "metadata": {
    "slideshow": {
     "slide_type": "subslide"
    }
   },
   "source": [
    "### Langevin Dynamics - Take 1\n",
    "\n",
    "The random force on the particle can be modeled as a fluctuating stochastic force entering Newton's equation of motion.\n",
    "\n",
    "$$m \\dot{v} = \\eta(t)$$\n",
    "\n",
    "* Properties of the noise ($\\delta$-correlated stationary noise $\\rightarrow$ white noise)\n",
    "\n",
    "$$\\begin{aligned}\n",
    "\\overline{\\eta(t)} &= \\left\\langle \\eta(t) \\right\\rangle = 0 \\\\\n",
    "\\overline{\\eta(t_1)\\eta(t_2)} &= \\left\\langle \\eta(t_1)\\eta(t_2) \\right\\rangle = \\Gamma \\delta(t_1-t_2)\n",
    "\\end{aligned}$$"
   ]
  },
  {
   "cell_type": "markdown",
   "metadata": {
    "slideshow": {
     "slide_type": "fragment"
    }
   },
   "source": [
    "* Formal solution\n",
    "\n",
    "$$ v(t) = v_0 + \\frac{1}{m} \\int_0^t \\eta(t') \\mathrm{d}t'$$\n",
    "\n",
    "* Two averages: 1. over realizations of the noise and 2. over initial conditions (assumed to commute)\n",
    "\n",
    "$$ \\overline{v(t)} = v_0 \\frac{1}{m} \\int_0^t \\overline{\\eta(t')} \\mathrm{d}t' = v_0$$\n",
    "$$ \\left\\langle v(t) \\right\\rangle = \\int_{-\\infty}^{\\infty} v_0 f_1(v_0) \\mathrm{d}v_0=0$$\n",
    "\n",
    "* Mean square velocity\n",
    "\n",
    "$$\\begin{aligned}\n",
    "v^2(t) &= v_0^2 + \\frac{2v_0}{m} \\int_0^t \\eta(t') \\mathrm{d}t' + \\frac{1}{m^2} \\int_0^t \\int_0^t \\eta(t_1)\\eta(t_2) \\mathrm{d}t_1\\mathrm{d}t_2 \\\\\n",
    "\\overline{v^2(t)}&=v_0^2 + \\frac{\\Gamma}{m^2} t \\\\\n",
    "\\left\\langle v^2(t) \\right\\rangle &= \\frac{k_B T}{m} + \\frac{\\Gamma}{m^2} t\n",
    "\\end{aligned}$$\n",
    "\n",
    "* this is bad news... (does not converge to equilibrium!)"
   ]
  },
  {
   "cell_type": "markdown",
   "metadata": {
    "slideshow": {
     "slide_type": "subslide"
    }
   },
   "source": [
    "### Langevin Dynamics - Take 2\n",
    "\n",
    "\n",
    "We need to introduce a drag term. The simplest model is a linear friction term.\n",
    "\n",
    "$$m \\dot{v} = - m \\gamma v(t) + \\eta(t)$$\n",
    "\n",
    "* Formal solution (by variation of constants)\n",
    "\n",
    "$$ v(t) = v_0 \\exp(-\\gamma t) + \\frac{1}{m} \\int_0^t \\mathrm{d}t' \\eta(t') \\exp[-\\gamma(t-t')] $$\n",
    "\n",
    "* Average velocity\n",
    "\n",
    "$$\\begin{aligned}\n",
    "\\overline{v(t)} &= v_0 \\exp(-\\gamma t) \\\\\n",
    "\\left\\langle v(t) \\right\\rangle &= 0\n",
    "\\end{aligned}$$\n",
    "\n",
    "* Mean square velocity\n",
    "\n",
    "$$\\begin{aligned}\n",
    "\\overline{v^2(t)} &= v_0^2\\exp(-2\\gamma t) + \\frac{\\Gamma}{2m^2\\gamma} \\left[ 1 - \\exp(-2\\gamma t)\\right] \\\\\n",
    "\\left\\langle v^2(t) \\right\\rangle &= \\left(\\frac{k_B T}{m} - \\frac{\\Gamma}{2m^2\\gamma}\\right)\\exp(-2\\gamma t) + \\frac{\\Gamma}{2m^2\\gamma}\n",
    "\\end{aligned}$$\n",
    "\n",
    "* Consistency requires (fluctuation dissipation relation)\n",
    "\n",
    "$$ \\Gamma = 2m \\gamma k_B T $$"
   ]
  },
  {
   "cell_type": "markdown",
   "metadata": {
    "slideshow": {
     "slide_type": "slide"
    }
   },
   "source": [
    "### Langevin Thermostat\n",
    "\n",
    "* The Langevin equation of motion can be used as a thermostat for MD simulations\n",
    "* Can have a stabilizing effect!\n",
    "* Add friction and noise to the conservative force\n",
    "$$ F = -\\nabla U - m \\gamma v + \\sqrt{2m\\gamma k_BT} R(t) $$\n",
    "* _Note:_ This force is velocity dependent (non-Hamiltonian)\n",
    "* *Velocity-Verlet and equivalent algorithms \"lose\" an order of accuracy!*\n",
    "* Can be mitigated by expanding the exact solution of the Ornstein-Uhlenbeck process for small time steps\n",
    "* Leads to multiplicative factors in the discrete velocity update (see notes on Canvas)"
   ]
  },
  {
   "cell_type": "markdown",
   "metadata": {
    "slideshow": {
     "slide_type": "subslide"
    }
   },
   "source": [
    "### Correlations\n",
    "\n",
    "* Velocity autocorrelation function (VACF)\n",
    "\n",
    "$$\\begin{aligned}\n",
    "\\overline{v(t)v(t')} &= v_0^2 \\exp[-\\gamma(t+t')] + \\frac{k_B T}{m} \\exp[-\\gamma(t+t')] \\left[\\exp(2\\gamma t') - 1 \\right] \\\\\n",
    "\\left\\langle v(t) v(t') \\right\\rangle &= \\frac{k_BT}{m} \\exp[-\\gamma|t-t'|]\n",
    "\\end{aligned}$$\n",
    "\n",
    "* VACF decays exponentially\n",
    "\n",
    "* Continuous stationary Gaussian Markov-process with exponentially decaying correlations $\\rightarrow$ _Ornstein-Uhlenbeck process_\n",
    "\n",
    "* Ornstein-Uhlenbeck process: Brownian motion in a harmonic potential"
   ]
  },
  {
   "cell_type": "markdown",
   "metadata": {
    "slideshow": {
     "slide_type": "subslide"
    }
   },
   "source": [
    "### Mean Square Displacement (Microscale)\n",
    "\n",
    "* Displacement of the Brownian particle\n",
    "\n",
    "$$ \\Delta x(t) = x(t) - x_0 = \\int_0^t \\mathrm{d}t' v(t') $$\n",
    "\n",
    "* Mean square displacement\n",
    "\n",
    "$$\\begin{aligned}\n",
    "\\left\\langle \\left(\\Delta x(t)\\right)^2 \\right\\rangle &= \\int_0^t \\mathrm{d}t_1 \\int_0^t \\mathrm{d}t_2 \\left\\langle v(t_1)v(t_2) \\right\\rangle \\\\\n",
    "&= \\frac{k_BT}{m} \\int_0^t \\mathrm{d}t_1 \\int_0^t \\mathrm{d}t_2 \\exp[-\\gamma|t_1-t_2|] \\\\\n",
    "&= \\frac{2k_BT}{m} \\int_0^t \\mathrm{d}t_1 \\int_0^{t_1} \\mathrm{d}t_2 \\exp[-\\gamma(t_1-t_2)] \\\\\n",
    "&= \\frac{2k_BT}{m} \\int_0^t \\mathrm{d}s (t-s) \\exp(-\\gamma s) \\\\\n",
    "&= \\frac{2k_BT}{m\\gamma} \\int_0^t \\mathrm{d}t_1 \\left( 1 - \\exp(-\\gamma t_1) \\right) \\\\\n",
    "&= \\frac{2k_BT}{m\\gamma^2} \\left[ \\gamma t + \\exp(-\\gamma t) - 1 \\right]\n",
    "\\end{aligned}$$\n",
    "\n",
    "* Asymptotic behavior\n",
    "\n",
    "$$\\begin{aligned}\n",
    "\\gamma t \\rightarrow 0 &\\Rightarrow \\left\\langle \\left(\\Delta x(t)\\right)^2 \\right\\rangle \\rightarrow \\frac{k_B T}{m} t^2 = \\langle v^2 \\rangle_\\text{eq} t^2\\\\\n",
    "\\gamma t \\rightarrow \\infty &\\Rightarrow \\left\\langle \\left(\\Delta x(t)\\right)^2 \\right\\rangle \\rightarrow \\frac{2k_BT}{m\\gamma} t\n",
    "\\end{aligned}$$\n",
    "\n",
    "* at small times: ballistic behavior\n",
    "* at large times: diffusive behavior"
   ]
  },
  {
   "cell_type": "markdown",
   "metadata": {
    "slideshow": {
     "slide_type": "subslide"
    }
   },
   "source": [
    "### Alternative Derivation of Mean Square Displacement (for Langevin Dynamics)\n",
    "\n",
    "* Langevin Equation\n",
    "\n",
    "$$ \\dot{v} = -\\gamma v + \\frac{\\eta}{m} $$\n",
    "\n",
    "* Can be written in averaged form\n",
    "\n",
    "$$ \\langle x\\dot{v} \\rangle + \\gamma \\langle x v \\rangle = 0 $$\n",
    "\n",
    "* Differential equation for mean square displacement\n",
    "\n",
    "$$ \\frac{d^2}{dt^2} \\langle x^2 \\rangle + \\gamma \\frac{d}{dt}\\langle x^2 \\rangle = 2 \\langle v^2 \\rangle = \\frac{k_B T}{m}$$\n",
    "\n",
    "* Solution\n",
    "\n",
    "$$ \\langle x^2 \\rangle = \\frac{2k_BT}{m\\gamma^2} \\left[ \\exp(-\\gamma t) - 1 + \\gamma t \\right] $$\n",
    "\n",
    "* Diffusive regime (Einstein relation)\n",
    "\n",
    "$$ \\lim_{t\\rightarrow\\infty} \\langle x^2 \\rangle = \\frac{2k_BT}{m\\gamma} t $$\n",
    "\n",
    "$$ \\lim_{t\\rightarrow\\infty} \\frac{d}{dt} \\langle x^2 \\rangle = \\frac{2k_BT}{m\\gamma} $$"
   ]
  },
  {
   "cell_type": "markdown",
   "metadata": {
    "slideshow": {
     "slide_type": "slide"
    }
   },
   "source": [
    "### Diffusion Coefficient (Macroscale)\n",
    "\n",
    "* Diffusion equation\n",
    "\n",
    "$$ \\frac{\\partial c}{\\partial t} = D \\nabla^2 c(\\vec{r},t) $$\n",
    "\n",
    "* Mean square displacement\n",
    "\n",
    "$$ \\langle r^2(t) \\rangle = \\int \\mathrm{d}\\vec{r} c(\\vec{r},t) r^2 $$\n",
    "\n",
    "* Time evolution\n",
    "\n",
    "$$\\begin{aligned}\n",
    "\\frac{\\partial \\langle r^2 \\rangle}{\\partial t} &= D \\int \\mathrm{d}\\vec{r} r^2 \\nabla^2 c(\\vec{r},t) \\\\\n",
    "&= D \\int \\mathrm{d}\\vec{r} \\nabla\\cdot\\left(r^2\\nabla c(\\vec{r},t)\\right) - D \\int\\mathrm{d}\\vec{r} \\nabla r^2 \\cdot\\nabla c(\\vec{r},t) \\\\\n",
    "&= - 2 D \\int \\mathrm{d}\\vec{r} \\vec{r}\\cdot\\nabla c(\\vec{r},t) \\\\\n",
    "&= - 2 D \\int \\mathrm{d}\\vec{r} \\nabla\\cdot(\\vec{r}c(\\vec{r},t)) + 2 D \\int\\mathrm{d}\\vec{r} (\\nabla\\cdot\\vec{r}) c(\\vec{r},t) \\\\\n",
    "&= 2 d D \\int \\mathrm{d}\\vec{r} c(\\vec{r},t) \\\\\n",
    "&= 2 d D\n",
    "\\end{aligned}$$\n",
    "\n",
    "* One-dimensional\n",
    "\n",
    "$$\\frac{\\partial \\langle x^2 \\rangle}{\\partial t} = 2D $$\n",
    "\n",
    "$$\\langle x^2 \\rangle = 2D t$$"
   ]
  },
  {
   "cell_type": "markdown",
   "metadata": {
    "slideshow": {
     "slide_type": "subslide"
    }
   },
   "source": [
    "### Comparison of Microscale and Macroscale\n",
    "\n",
    "* Diffusion coefficient\n",
    "\n",
    "$$ D = \\frac{k_BT}{m\\gamma} $$\n",
    "\n",
    "* Green-Kubo relation (expresses _macroscopic_ dynamic property as a time integral of _microscopic_ correlation function)\n",
    "\n",
    "$$\\begin{aligned}\n",
    "D = \\int_0^\\infty \\mathrm{dt} \\left\\langle v(t) v(0) \\right\\rangle\n",
    "\\end{aligned}$$\n",
    "\n",
    "* Einstein relation\n",
    "\n",
    "$$D = \\lim_{t\\rightarrow\\infty} \\frac{\\langle x^2 \\rangle}{2t} = \\lim_{t\\rightarrow\\infty} \\frac{1}{2}\\frac{d}{dt} \\langle x^2 \\rangle$$\n",
    "\n",
    "* Stokes-Einstein relation\n",
    "\n",
    "$$ D = \\frac{k_BT}{m\\gamma} = \\frac{k_BT}{6\\pi a \\eta}$$"
   ]
  },
  {
   "cell_type": "markdown",
   "metadata": {
    "slideshow": {
     "slide_type": "slide"
    }
   },
   "source": [
    "### Linear Response Theory and Fluctuation Dissipation Relations\n",
    "\n",
    "* Consider a colloidal particle subject to an external force $F$\n",
    "\n",
    "$$ \\mathcal{H} = \\mathcal{H}_0 - F x $$\n",
    "\n",
    "* Static Response\n",
    "\n",
    "$$ \\langle x \\rangle = \\beta  F \\langle x^2 \\rangle_\\text{eq}$$\n",
    "\n",
    "* Dynamic Response (_after-effect function_)\n",
    "\n",
    "$$ \\chi_{v,x}(t) = \n",
    "\\begin{cases}\n",
    "-\\beta \\left\\langle \\dot{v}(t) x(0) \\right\\rangle = \\beta \\left\\langle v(t) v(0) \\right\\rangle & t>0\\\\\n",
    "0 & t \\le 0\n",
    "\\end{cases}$$\n",
    "\n",
    "* Velocity of the particle\n",
    "\n",
    "$$\\begin{aligned}\n",
    "\\langle v(t) \\rangle %&= F \\int_{-\\infty}^t dt' \\chi_{v,x}(t-t') \\\\\n",
    "&=  F \\int_0^\\infty \\mathrm{d}s \\, \\chi_{v,x}(s)\n",
    "%&= -\\frac{F}{k_BT} \\int_0^\\infty \\mathrm{d}s \\left\\langle \\dot{v}(s) x(0) \\right\\rangle \\\\\n",
    "= \\frac{F}{k_BT} \\int_0^\\infty \\mathrm{d}s \\left\\langle v(s) v(0) \\right\\rangle\n",
    "\\end{aligned}$$\n",
    "\n",
    "* Mobility\n",
    "\n",
    "$$ \\mu = \\frac{\\langle v \\rangle}{F} = \\frac{D}{k_B T} $$\n",
    "\n",
    "* Important application of linear response theory: Derivation of expressions for transport coefficients of hydrodynamics"
   ]
  },
  {
   "cell_type": "markdown",
   "metadata": {
    "slideshow": {
     "slide_type": "slide"
    }
   },
   "source": [
    "### Brownian Motion\n",
    "\n",
    "* Overdamped limit of Langevin Dynamics\n",
    "\n",
    "$$ \\dot{\\vec{r}}_i = \\sum_j \\frac{D_{ij}}{k_B T} F_j + \\Delta\\vec{r}_i $$\n",
    "\n",
    "* Fluctuation dissipation relations\n",
    "\n",
    "$$\\begin{aligned}\n",
    "\\left\\langle \\Delta\\vec{r}_i \\right\\rangle &= 0 , \\\\\n",
    "\\left\\langle \\Delta\\vec{r}_i(t) \\Delta\\vec{r}_j(t') \\right\\rangle &= 2 \\mathsf{D}_{ij} \\delta(t-t') .\n",
    "\\end{aligned}$$\n",
    "\n",
    "* Oseen tensor\n",
    "\n",
    "$${D}_{ij}(\\vec{r}) = \\frac{k_B T}{8 \\pi \\eta \\, {r}} \\left( \\mathsf{I} + \\frac{\\vec{r} \\otimes \\vec{r}}{r^2} \\right)$$\n",
    "\n",
    "<!--\n",
    "* Rotne-Prager tensor\n",
    "\n",
    "$$\\begin{aligned}\\label{eq:rotne-prager}\n",
    "{D}_{ij} &= D_0\\; \\Bigg\\{\\left(1-\\frac{9\\,r_{ij}}{32\\,a}\\right) \\mathbf{I} + \\frac{3}{32} \\frac{\\mathbf{r}_{ij} \\otimes \\mathbf{r}_{ij}}{a\\,r_{ij}}\\Bigg\\}, &\\quad r_{ij} < 2a\\nonumber\\\\\n",
    "{D}_{ij} &=\\nonumber\n",
    "D_0\\; \\frac{3\\,a}{4\\,r_{ij}}\\;\\Bigg\\{\\mathbf{I} + \\frac{\\mathbf{r}_{ij} \\otimes \\mathbf{r}_{ij}}{r^2_{ij}} \\\\ &\\qquad\\qquad\\qquad+ \\frac{2\\,a^2}{3\\,r^2_{ij}} \\left(\\mathbf{I} - 3 \\frac{\\mathbf{r}_{ij} \\otimes \\mathbf{r}_{ij}}{r^2_{ij}}\\right)\\Bigg\\}, &\\quad r_{ij}\\ge 2a\\nonumber\\\\\n",
    "{D}_{ii} &= D_0\\; \\mathbf{I}\n",
    "\\end{aligned}$$\n",
    "-->\n",
    "\n",
    "* Time-integration with $\\mathsf{D}_{ij} = \\mathsf{B}_{ik}\\cdot\\mathsf{B}^T_{jk}$\n",
    "\n",
    "$$\\vec{r}_i(t+h) = \\vec{r}_i(t) + \\frac{\\mathsf{D}_{ij}}{k_BT} h \\vec{F}_j + \\sqrt{2 h} \\, \\mathsf{B}_{ij} \\cdot \\vec{W}_j $$\n",
    "\n",
    "* Wiener process $\\left\\langle \\vec{W}_i \\right\\rangle = 0$ and $\\left\\langle \\vec{W}_i \\otimes \\vec{W}_j \\right\\rangle = \\mathbf{I} \\delta_{ij}$. \n",
    "\n",
    "* Cholesky decomposition $O(N^3)$\n",
    "\n",
    "$$\\mathsf{D}_{ij}=\\mathsf{C}_{ik}\\cdot\\mathsf{C}^T_{jk}$$ \n",
    "\n",
    "* Chebyshev polynomial approximation $O(N^{2.25})$\n",
    "\n",
    "* Ewald-like methods using fast Fourier transformations $O(n^{1+x}\\log N)$"
   ]
  },
  {
   "cell_type": "markdown",
   "metadata": {
    "slideshow": {
     "slide_type": "slide"
    }
   },
   "source": [
    "### Hands-On Activity\n",
    "\n",
    "1. Implement a Langevin thermostat in your MD code and investigate its behavior by analyzing how the energy/temperature depend on the time step.\n",
    "2. Use Langevin dynamics to simulate Brownian motion of a single colloidal particle. Compare the results for the mean square displacement and the velocity autocorrelation function to the results you obtained before for the Lennard-Jones system.\n",
    "3. Apply an external force to the Brownian particle and measure its terminal velocity. Validate if your result satisfies the fluctuation dissipation relation."
   ]
  },
  {
   "cell_type": "markdown",
   "metadata": {
    "slideshow": {
     "slide_type": "slide"
    }
   },
   "source": [
    "### References\n",
    "\n",
    "1. M. P. Allen and D. J. Tildesley, Computer Simulation of Liquids, 2nd edition, Oxford University Press, Oxford, 2017\n",
    "2. J. M. Haile, Molecular Dynamics Simulation: Elementary Methods, Wiley, New York 1992\n",
    "3. D. Frenkel and B. Smit, Understanding Molecular Simulation: From Algorithms to Applications, 2nd edition, Academic Press, San Diego 2002\n",
    "4. D. C. Rapaport, The Art of Molecular Dynamics Simulation, 2nd edition, Cambridge University Press, Cambridge 2004\n",
    "5. B. J. Alder and T. E. Wainwright, Velocity Autocorrelations for Hard Spheres. Phys. Rev. Lett. 18, 988–990 (1967)."
   ]
  }
 ],
 "metadata": {
  "celltoolbar": "Slideshow",
  "kernelspec": {
   "display_name": "Python 3",
   "language": "python",
   "name": "python3"
  },
  "language_info": {
   "codemirror_mode": {
    "name": "ipython",
    "version": 3
   },
   "file_extension": ".py",
   "mimetype": "text/x-python",
   "name": "python",
   "nbconvert_exporter": "python",
   "pygments_lexer": "ipython3",
   "version": "3.6.0"
  }
 },
 "nbformat": 4,
 "nbformat_minor": 2
}
