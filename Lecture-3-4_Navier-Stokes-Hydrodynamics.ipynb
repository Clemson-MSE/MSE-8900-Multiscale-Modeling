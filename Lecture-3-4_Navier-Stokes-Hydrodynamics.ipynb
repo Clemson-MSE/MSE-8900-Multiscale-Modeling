{
 "cells": [
  {
   "cell_type": "markdown",
   "metadata": {
    "slideshow": {
     "slide_type": "skip"
    }
   },
   "source": [
    "These lecture notes are provided under Creative Commons Attribution license, CC-BY. \n",
    "All code is subject to the terms of the FSF-approved BSD-3 license.\n",
    "(c) 2018 Rachel B. Getman, Sapna Sarupria, Ulf D. Schiller"
   ]
  },
  {
   "cell_type": "code",
   "execution_count": 5,
   "metadata": {
    "slideshow": {
     "slide_type": "notes"
    }
   },
   "outputs": [],
   "source": [
    "from IPython.display import YouTubeVideo"
   ]
  },
  {
   "cell_type": "markdown",
   "metadata": {
    "slideshow": {
     "slide_type": "slide"
    }
   },
   "source": [
    "# MSE 8900 / CHE 8450 - Multiscale Modeling\n",
    "\n",
    "Rachel B. Getman, Sapna Sarupria, Ulf D. Schiller\n",
    "\n",
    "Clemson University\n",
    "\n",
    "## Lecture 3.4: Hydrodynamics at low Reynolds numbers\n",
    "\n",
    "### References\n",
    "\n",
    "1. C. Pozrikidis, Introduction to theoretical and computational fluid dynamics, 2nd edition, Oxford University Press, New York, 2011.  \n",
    "[Connect to PASCAL eBook](http://libproxy.clemson.edu/login?url=http://search.ebscohost.com/login.aspx?direct=true&scope=site&db=e000xna&AN=490697)\n",
    "4. J.-P. Hansen, I. R. McDonald, Theory of Simple Liquids with Applications to Soft Matter, 4th edition, Academic Press, Oxford, 2013\n",
    "3. J. P. Boon, S. Yip, Molecular hydrodynamics, McGraw-Hill, New York, 1980."
   ]
  },
  {
   "cell_type": "markdown",
   "metadata": {
    "slideshow": {
     "slide_type": "slide"
    }
   },
   "source": [
    "### Fluid Representations\n",
    "\n",
    "![Dissipative Particle Dynamics](assets/fluid_particles.png)"
   ]
  },
  {
   "cell_type": "markdown",
   "metadata": {
    "slideshow": {
     "slide_type": "slide"
    }
   },
   "source": [
    "### Macroscopic Hydrodynamic Variables\n",
    "\n",
    "* Mass Density\n",
    "\n",
    "$$\\rho(\\vec{r}) = \\sum_i m_i \\delta(\\vec{r}-\\vec{r}_i)$$\n",
    "\n",
    "* Momentum Density\n",
    "\n",
    "$$\\vec{j}(\\vec{r}) = \\sum_i m_i v_i \\delta(\\vec{r}-\\vec{r}_i)$$\n",
    "\n",
    "* Energy Density\n",
    "\n",
    "$$e(\\vec{r}) = \\sum_i \\left( \\frac{1}{2} m_i \\vec{v}_i^2 + \\frac{1}{2} \\sum_{i \\ne j} \\phi_{ij} \\right) \\delta(\\vec{r}-\\vec{r_i})$$\n",
    "\n",
    "### Transport Properties\n",
    "\n",
    "* Shear viscosity\n",
    "\n",
    "$$\\eta = \\frac{V}{k_B T} \\int_0^\\infty dt \\left\\langle \\Sigma_{xy}(t) \\Sigma_{xy}(0) \\right\\rangle$$\n",
    "\n",
    "* Diffusion coefficient\n",
    "\n",
    "$$D = \\int_0^\\infty dt \\left\\langle \\vec{v}(t) \\vec{v}(0) \\right\\rangle$$\n",
    "\n",
    "* Tedious to calculate\n",
    "\n",
    "* Depend non-trivially on parameters"
   ]
  },
  {
   "cell_type": "markdown",
   "metadata": {
    "slideshow": {
     "slide_type": "slide"
    }
   },
   "source": [
    "### Macroscopic Transport Equations: Navier-Stokes\n",
    "\n",
    "**Goal**: Instead of a particle representation of the fluid, we seek to model the momentum transport in terms of the hydrodynamic fields. We thus have to look at the _macroscopic transport equations_ rather than the microscopic dynamics.\n",
    "\n",
    "* Mass conservation: Continuity equation\n",
    "\n",
    "$$\\frac{\\partial \\rho}{\\partial t}  + \\nabla \\cdot \\left(\\rho \\vec{u}\\right) = 0 $$\n",
    "\n",
    "* Momentum conservation ($\\vec{g}$: force _density_)\n",
    "\n",
    "$$\\frac{\\partial(\\rho\\vec{u})}{\\partial t} + \\nabla\\cdot\\left(\\rho\\vec{u}\\vec{u}\\right) = \\nabla \\cdot \\sigma + \\vec{g}$$\n",
    "\n",
    "* Energy conservation\n",
    "\n",
    "$$\\frac{\\partial e}{\\partial t} + \\nabla\\cdot\\left(e\\vec{u}\\right) = \\nabla\\cdot\\left(k\\nabla T\\right) + \\nabla\\cdot\\left(\\sigma \\vec{u}\\right) + \\vec{u}\\cdot\\vec{g} $$"
   ]
  },
  {
   "cell_type": "markdown",
   "metadata": {
    "slideshow": {
     "slide_type": "subslide"
    }
   },
   "source": [
    "### Newtonian Fluids\n",
    "\n",
    "The simplest rate equation for the momentum flux (stress) establishes a linear relationship between the stress and the rate of deformation. The corresponding \"diffusion coefficient\" for momentum is the viscosity $\\nu$ or $\\eta=\\rho\\nu$.\n",
    "\n",
    "* Rate of deformation\n",
    "\n",
    "$$e_{\\alpha\\beta} = \\frac{1}{2} \\left( \\frac{\\partial u_\\beta}{\\partial x_\\alpha} + \\frac{\\partial u_\\alpha}{\\partial x_\\beta} \\right) - \\frac{1}{3} \\delta_{\\alpha\\beta} \\frac{\\partial u_\\gamma}{\\partial x_\\gamma}$$\n",
    "\n",
    "* Newtonian Stress\n",
    "\n",
    "$$\\sigma_{\\alpha\\beta} = - p \\delta_{\\alpha\\beta} + 2 \\eta_{\\alpha\\beta\\gamma\\delta} e_{\\gamma\\delta}$$\n",
    "\n",
    "* Viscosity\n",
    "\n",
    "$$\\eta_{\\alpha\\beta\\gamma\\delta} = \\eta \\left( \\delta_{\\alpha\\gamma}\\delta_{\\beta\\delta} + \\delta_{\\alpha\\delta}\\delta_{\\beta\\gamma} \\right) + \\left( \\zeta - \\frac{2}{3} \\eta \\right) \\delta_{\\alpha\\beta}\\delta_{\\gamma\\delta}$$\n",
    "\n",
    "* Viscous Stress\n",
    "\n",
    "$$\\sigma_v = \\eta \\left( \\nabla \\vec{u} + (\\nabla\\vec{u})^T \\right) + \\left( \\zeta - \\frac{2}{3}\\eta\\right) \\nabla\\cdot\\vec{u}$$"
   ]
  },
  {
   "cell_type": "markdown",
   "metadata": {
    "slideshow": {
     "slide_type": "subslide"
    }
   },
   "source": [
    "### Incompressible Flow\n",
    "\n",
    "If the fluid is incompressible, there are no density fluctuations and $\\rho$ is constant. From the continuity equation it follows that the flow is divergence-free (or solenoidal) $\\nabla\\cdot\\vec{u}=0$.\n",
    "\n",
    "* Incompressible Navier-Stokes equations\n",
    "\n",
    "$$\\begin{aligned}\n",
    "\\nabla\\cdot\\vec{u} &= 0 \\\\\n",
    "\\rho \\frac{\\partial \\vec{u}}{\\partial t} + \\rho\\vec{u}\\cdot\\nabla\\vec{u} &=  -\\nabla p + \\eta \\nabla^2 \\vec{u} + \n",
    "\\vec{g}\n",
    "\\end{aligned}$$"
   ]
  },
  {
   "cell_type": "markdown",
   "metadata": {
    "slideshow": {
     "slide_type": "subslide"
    }
   },
   "source": [
    "### Creeping Flow: Stokes Equation\n",
    "\n",
    "The ratio of inertial to viscous forces in a flowing fluid is expressed by the _Reynolds number_\n",
    "\n",
    "$$ Re = \\frac{\\rho UL}{\\eta}  = \\frac{UL}{\\nu} .$$\n",
    "\n",
    "The Reynolds number is the only dimensionless parameter in the Stokes equations, which can be written in dimensionless form\n",
    "\n",
    "$$ Re \\left( \\frac{\\partial \\vec{u}^*}{\\partial t^*} + \\vec{u}^*\\cdot\\nabla^*\\vec{u}^* \\right) = \\frac{L^2}{U\\eta} \\left( - \\nabla p + \\eta \\nabla^2 \\vec{u} + \\vec{g} \\right)$$\n",
    "\n",
    "* Stokes equation\n",
    "\n",
    "$$\\begin{aligned}\n",
    "-\\nabla p + \\eta \\nabla^2 \\vec{u} + \\vec{g} &= 0\n",
    "\\end{aligned}$$"
   ]
  },
  {
   "cell_type": "markdown",
   "metadata": {
    "slideshow": {
     "slide_type": "slide"
    }
   },
   "source": [
    "### Flow due to point forces: Oseen-Burgers Tensor\n",
    "\n",
    "We are interested in the motion of interacting Brownian particles in the fluid. Therefore, we seek to find the flow field that is induced when a force is acting on a particle. To this end, we consider the particles as point-like such that we are looking for the flow field induced by point forces $\\vec{F}_i$.\n",
    "\n",
    "* Stokes equation with a point forces\n",
    "\n",
    "$$ \\eta \\nabla^2 \\vec{u} - \\nabla p = - \\sum_i \\vec{F}_i \\delta(\\vec{r}-\\vec{r}_i) = - \\vec{g} $$\n",
    "\n",
    "* Fourier transform\n",
    "\n",
    "$$ -\\eta \\vec{k}^2 \\vec{u}_k - i\\vec{k} p_k = -\\vec{g}_k $$\n",
    "\n",
    "* Incompressible flow\n",
    "\n",
    "$$ i \\vec{k}^2 p_k = \\vec{k}\\cdot\\vec{g}_k $$\n",
    "\n",
    "* Solution in Fourier space\n",
    "\n",
    "$$ \\vec{u}_k = \\frac{1}{\\eta \\vec{k}^2} \\left( 1 - \\hat{k}\\hat{k} \\right) \\vec{g}_k $$\n",
    "\n",
    "* Flow field\n",
    "\n",
    "$$\\begin{aligned}\n",
    "\\vec{u}(\\vec{r}) &= \\int \\frac{d\\vec{k}}{(2\\pi)^3} \\exp(-\\vec{k}\\vec{r}) \\frac{1}{\\eta \\vec{k}^2} \\left( 1 - \\hat{k}\\hat{k} \\right) \\int d\\vec{r}' \\vec{g}(\\vec{r}') \\exp(i\\vec{k}\\vec{r}') \\\\\n",
    "&= \\int d\\vec{r}' H(\\vec{r}-\\vec{r}') \\vec{g}(\\vec{r}') \n",
    "\\end{aligned}$$\n",
    "\n",
    "* Pressure\n",
    "\n",
    "$$p(\\vec{r}) = \\int d\\vec{r}' \\vec{P}(\\vec{r}-\\vec{r}') \\vec{g}(\\vec{r}')$$"
   ]
  },
  {
   "cell_type": "markdown",
   "metadata": {
    "slideshow": {
     "slide_type": "slide"
    }
   },
   "source": [
    "### Oseen-Burgers Tensor\n",
    "\n",
    "* Oseen-Burgers Tensor (also called the _Stokeslet_)\n",
    "\n",
    "$$\\begin{aligned}\n",
    "H(\\vec{r}) = \\int \\frac{d\\vec{k}}{(2\\pi)^3} \\frac{1}{\\eta \\vec{k}^2} (1-\\hat{k}\\hat{k}) \\exp(-i\\vec{k}\\vec{r})\n",
    "\\end{aligned}$$\n",
    "\n",
    "* Isotropy requires\n",
    "\n",
    "$$H_{\\alpha\\beta}(\\vec{r}) = A \\delta_{\\alpha\\beta} + B \\hat{r}_\\alpha\\hat{r}_\\beta$$\n",
    "\n",
    "* Trace\n",
    "\n",
    "$$\\begin{aligned}\n",
    "H_{\\alpha\\alpha} = 3A + B &= \\int \\frac{d\\vec{k}}{(2\\pi)^3} \\frac{2}{\\eta \\vec{k}^2} \\exp(-i\\vec{k}\\vec{r}) \\\\\n",
    "&= \\int_0^\\infty \\frac{d \\xi}{(2\\pi)^3} \\frac{4\\pi}{\\eta r} \\int_{-1}^{-1} dt\\exp(-i \\xi t) \\\\\n",
    "&=  \\frac{1}{2\\pi^2\\eta r} \\int_0^\\infty d \\xi \\frac{\\sin \\xi}{\\xi} \\\\\n",
    "&= \\frac{1}{2\\pi\\eta r}\n",
    "\\end{aligned}$$\n",
    "\n",
    "* Off-diagonal components\n",
    "\n",
    "$$\\begin{aligned}\n",
    "H_{\\alpha\\beta}\\hat{r}_\\alpha\\hat{r}_\\beta = A + B &= \\int \\frac{d\\vec{k}}{(2\\pi)^3} \\frac{1}{\\eta \\vec{k}^2} (1-(\\hat{k}\\hat{r})^2) \\exp(-i\\vec{k}\\vec{r}) \\\\\n",
    "&= \\int_0^\\infty \\frac{d \\xi}{(2\\pi)^3} \\frac{2\\pi}{\\eta r} \\int_{-1}^{1} dt  (1-t^2) \\exp(-i\\xi t) \\\\\n",
    "&= \\frac{1}{2\\pi^2\\eta r} \\int_0^\\infty d\\xi \\left( 1 + \\frac{\\partial^2}{\\partial\\xi^2}\\right) \\frac{\\sin\\xi}{\\xi} \\\\\n",
    "&= \\frac{1}{4\\pi\\eta r}\n",
    "\\end{aligned}$$\n",
    "\n",
    "* Combine $A=B=\\frac{1}{8\\pi\\eta r}$\n",
    "\n",
    "$$H(\\vec{r}) = \\frac{1}{8\\pi\\eta r} \\left( 1 + \\hat{r}\\hat{r} \\right) $$\n",
    "\n",
    "* Pressure vector\n",
    "\n",
    "$$\\vec{P}(\\vec{r}) = - \\frac{1}{4\\pi}\\nabla\\left(\\frac{1}{r}\\right) = \\frac{1}{4\\pi} \\frac{\\vec{r}}{r^3}$$\n",
    "\n",
    "* Stress tensor\n",
    "\n",
    "$$T_{\\alpha\\beta\\gamma}=-\\delta_{\\alpha\\gamma} P_\\beta + \\eta \\left( \\frac{\\partial H_{\\alpha\\beta}}{\\partial r_\\gamma} + \\frac{\\partial H_{\\gamma\\beta}}{\\partial r_\\alpha} \\right) = - \\frac{3}{4\\pi} \\frac{r_\\alpha r_\\beta r_\\gamma}{r^5}$$"
   ]
  },
  {
   "cell_type": "markdown",
   "metadata": {
    "slideshow": {
     "slide_type": "subslide"
    }
   },
   "source": [
    "### Properties of the Oseen-Burgers Tensor\n",
    "\n",
    "* Divergence\n",
    "\n",
    "$$\\begin{aligned}\n",
    "\\frac{\\partial H_{\\alpha\\beta}}{\\partial r_\\gamma} &= - \\frac{1}{8\\pi\\eta r^3} \\left( \\delta_{\\alpha\\beta}r_\\gamma - \\delta_{\\alpha\\gamma} r_\\beta - \\delta_{\\beta\\gamma} r_\\alpha + \\frac{3}{r^2} r_\\alpha r_\\beta r_\\gamma \\right)\\\\\n",
    "\\frac{\\partial H_{\\alpha\\beta}}{\\partial r_\\beta} &= 0\n",
    "\\end{aligned}$$\n",
    "\n",
    "* Laplacian\n",
    "\n",
    "$$\\begin{aligned}\n",
    "\\frac{\\partial H_{\\alpha\\beta}}{\\partial r_\\gamma \\partial r_\\gamma} &= -\\frac{1}{8\\pi\\eta r^3} \\left( \\delta_{\\alpha\\beta} + \\frac{9}{r^2} r_\\alpha r_\\beta \\right)\n",
    "+ \\frac{3 r_\\gamma}{8\\pi\\eta r^5} \\left( \\delta_{\\alpha\\beta}r_\\gamma - \\delta_{\\alpha\\gamma} r_\\beta - \\delta_{\\beta\\gamma} r_\\alpha + \\frac{3}{r^2} r_\\alpha r_\\beta r_\\gamma \\right) \\\\\n",
    "&= \\frac{2}{8\\pi\\eta r^3} \\left( \\delta_{\\alpha\\beta} - \\frac{3}{r^2} r_\\alpha r_\\beta \\right) \\\\\n",
    "&= \\frac{2}{8\\pi\\eta} \\frac{\\partial}{\\partial r_\\alpha} \\left(\\frac{r_\\beta}{r^3} \\right) = - \\frac{2}{8\\pi\\eta} \\frac{\\partial^2}{\\partial r_\\alpha \\partial r_\\beta} \\left( \\frac{1}{r} \\right)\n",
    "\\end{aligned}$$"
   ]
  },
  {
   "cell_type": "markdown",
   "metadata": {
    "slideshow": {
     "slide_type": "slide"
    }
   },
   "source": [
    "### Multipole Expansion and Singularity Solutions\n",
    "\n",
    "* Taylor expansion of the Oseen tensor\n",
    "\n",
    "$$\\begin{aligned}\n",
    "H_{\\alpha\\beta}(\\vec{r}-\\vec{r}') = H_{\\alpha\\beta}(\\vec{r}) - \\frac{\\partial H_{\\alpha\\beta}(\\vec{r})}{\\partial r_\\gamma} r'_\\gamma + \\frac{\\partial^2 H_{\\alpha\\beta}(\\vec{r})}{\\partial r_\\gamma \\partial r_\\delta} r'_\\gamma r'_\\delta \n",
    "\\end{aligned}$$\n",
    "\n",
    "* Insert into velocity representation\n",
    "\n",
    "$$\\begin{aligned}\n",
    "u_\\alpha(\\vec{r}) &= - \\sum_{n=0}^{\\infty} \\frac{(-1)^n}{n!} \\oint \\left(\\sigma \\hat{n}\\right)_\\beta r'_\\gamma r'_\\delta \\dots \\frac{\\partial H_{\\alpha\\beta}(\\vec{r})}{\\partial r_\\gamma \\partial r_\\delta \\dots} \\\\\n",
    "&= - F_\\beta H_{\\alpha\\beta} + D_{\\beta\\gamma} H_{\\alpha\\beta,\\gamma} + \\dots\n",
    "\\end{aligned}$$\n",
    "\n",
    "* Point-force and point-force dipole\n",
    "\n",
    "$$\\begin{aligned}\n",
    "F_\\beta &= \\oint (\\sigma \\hat{n})_\\beta \\mathrm{d}S \\\\\n",
    "D_{\\beta\\gamma} &= \\oint (\\sigma\\hat{n})_\\beta r'_\\gamma \\mathrm{d} S\n",
    "\\end{aligned}$$\n",
    "\n",
    "* _Stresslet_ and _Rotlet_\n",
    "\n",
    "$$\\begin{aligned}\n",
    "D_{\\alpha\\beta} - \\frac{1}{3} D_{\\gamma\\gamma} \\delta_{\\alpha\\beta} &= S_{\\alpha\\beta} + T_{\\alpha\\beta} \\\\\n",
    "T_{\\alpha\\beta} &= - \\frac{1}{2} \\epsilon_{\\alpha\\beta\\gamma} T_\\gamma \\\\\n",
    "T_\\gamma &= -\\epsilon_{\\gamma\\alpha\\beta} \\oint (\\sigma\\hat{n})_\\alpha r_\\beta \\mathrm{d}S \n",
    "\\end{aligned}$$"
   ]
  },
  {
   "cell_type": "markdown",
   "metadata": {},
   "source": [
    "### Stokes-Einstein Drag\n",
    "\n",
    "* Velocity field around a sphere with surface traction\n",
    "\n",
    "$$\\begin{aligned}\n",
    "\\vec{u}(\\vec{r}) &= \\int H(\\vec{r}-\\vec{r}') (\\sigma\\hat{n}) \\mathrm{d} S \\\\\n",
    "&= \\left( 1 + \\frac{a^2}{6} \\nabla^2 \\right) H(\\vec{r}) \\oint (\\sigma\\hat{n}) \\mathrm{d} S \\\\\n",
    "&= \\frac{1}{6\\pi \\eta a} \\oint (\\sigma\\hat{n}) \\mathrm{d} S \\\\\n",
    "\\end{aligned}$$\n",
    "\n",
    "* Velocity of the sphere\n",
    "\n",
    "$$\\vec{v}_s = \\frac{1}{4\\pi a^2} \\oint \\vec{u}(\\vec{r}) \\mathrm{d} S = \\frac{\\vec{F}}{6\\pi\\eta a}$$\n",
    "\n",
    "* Stokes-Einstein relation\n",
    "\n",
    "$$\\begin{aligned}\n",
    "\\mu = \\frac{1}{6\\pi\\eta a} \\\\\n",
    "D = \\frac{k_BT}{6\\pi\\eta a}\n",
    "\\end{aligned}$$\n",
    "\n",
    "* Without proof: sphere with slip boundary conditions\n",
    "\n",
    "$$\\mu_\\text{slip} = \\frac{1}{4\\pi\\eta a}$$"
   ]
  },
  {
   "cell_type": "markdown",
   "metadata": {},
   "source": [
    "### Liouville Formalism for Hydrodynamics\n",
    "\n",
    "Since we are ignoring the energy equation, we cannot say anything about the energy transport in the system. We consider the solutions to the momentum equation _athermal_. This begs the question what the corresponding statistical ensemble is. In fact, we will find that, if we only consider the phase-space of density and momentum, the dynamics imposed by the Navier-Stokes equation does indeed not generate a proper canonical ensemble. The reason is that there is no balance of the viscous dissipation in the system. So let us start out with a simplified stress tensor that does not include viscous dissipation, namely the Euler stress $\\pi= p + \\rho \\vec{u}\\vec{u}$. We now seek an analogous formalism to Hamiltonian mechanics.\n",
    "\n",
    "* Kinetic energy density $\\mathcal{T} = \\frac{1}{2}\\rho\\vec{u}^2$\n",
    "\n",
    "$$\\begin{aligned}\n",
    "\\partial t \\left(\\frac{1}{2} \\rho u_\\alpha u^\\alpha\\right) &= - \\frac{1}{2} (\\partial_t \\rho) u_\\alpha u^\\alpha +  (\\partial_t \\rho u_\\alpha) u^\\alpha \\\\\n",
    "&= \\frac{1}{2} (\\partial_\\beta \\rho u^\\beta) u_\\alpha u^\\alpha - (\\partial_\\beta \\pi^{\\alpha\\beta}) u_\\alpha \\\\\n",
    "&= \\frac{1}{2} (\\partial_\\beta \\rho u^\\beta) u_\\alpha u^\\alpha - (\\partial_\\alpha p) u^\\alpha - (\\partial_\\beta \\rho u^\\alpha u^\\beta) u_\\alpha \\\\\n",
    "&= -\\frac{1}{2} \\partial_\\beta ( \\rho u_\\alpha u^\\alpha u^\\beta ) - (\\partial_\\alpha p) u^\\alpha\n",
    "\\end{aligned}$$\n",
    "\n",
    "* Potential energy density $\\mathcal{V} = \\epsilon(\\rho)$ (depends only on configuration)\n",
    "\n",
    "$$\\begin{aligned}\n",
    "\\partial_t \\epsilon(\\rho) &= \\frac{\\partial \\epsilon}{\\partial \\rho} \\partial_t \\rho \\\\\n",
    "&= - \\frac{\\partial \\epsilon}{\\partial \\rho} \\partial_\\alpha (\\rho u^\\alpha) \\\\\n",
    "&= - \\partial_\\alpha \\left(\\frac{\\partial\\epsilon}{\\partial \\rho} \\rho u^\\alpha \\right) + \\rho u^\\alpha \\partial_\\alpha\\left( \\frac{\\partial\\epsilon}{\\partial\\rho} \\right)\n",
    "\\end{aligned}$$\n",
    "\n",
    "* Hamiltonian\n",
    "\n",
    "$$ \\mathcal{H} = \\int\\mathrm{d}\\vec{r} \\left[ \\frac{\\rho}{2} u_\\alpha u^\\alpha + \\epsilon(\\rho) \\right] $$\n",
    "\n",
    "* Energy conservation\n",
    "\n",
    "$$\\begin{aligned}\n",
    "\\frac{d\\mathcal{H}}{dt} &= \\int \\mathrm{d}\\vec{r} \\left[ - (\\partial_\\alpha p) u^\\alpha + \\rho u^\\alpha \\partial_\\alpha\\left( \\frac{\\partial\\epsilon}{\\partial\\rho} \\right) \\right] + \\text{surface terms} \\\\\n",
    "&= \\int \\mathrm{d}\\vec{r} \\left[ - (\\partial_\\alpha \\rho) u^\\alpha \\left(\\frac{\\partial p}{\\partial\\rho}\\right) + (\\partial_\\alpha \\rho) u^\\alpha \\rho \\left( \\frac{\\partial^2\\epsilon}{\\partial\\rho^2} \\right) \\right] + \\text{surface terms} \\\\\n",
    "\\end{aligned}$$\n",
    "\n",
    "* Thermodynamics\n",
    "\n",
    "$$\\begin{aligned}\n",
    "p &= -\\frac{\\partial E}{\\partial V} = -\\frac{\\partial(\\epsilon V)}{\\partial V} = - \\epsilon - V \\frac{\\partial \\epsilon}{\\partial V} = -\\epsilon + \\rho \\frac{\\partial\\epsilon}{\\partial \\rho} \\\\\n",
    "\\frac{\\partial p}{\\partial \\rho} &= \\rho \\frac{\\partial^2\\epsilon}{\\partial \\rho^2}\n",
    "\\end{aligned}$$\n",
    "\n",
    "* Energy is conserved (for non-dissipative hydrodynamics)"
   ]
  },
  {
   "cell_type": "markdown",
   "metadata": {},
   "source": [
    "### Liouville Operator for non-dissipative Hydrodynamics\n",
    "\n",
    "* Equations of motion\n",
    "\n",
    "$$\\begin{aligned}\n",
    "\\frac{d A(\\rho,\\vec{j})}{dt} &= \\int \\mathrm{d}\\vec{r} \\left\\{ \\frac{\\delta A}{\\delta \\rho(\\vec{r})} \\partial_t \\rho(\\vec{r}) + \\frac{\\delta A}{\\delta j_\\alpha(\\vec{r})} \\partial_t j^\\alpha(\\vec{r}) \\right\\} \\\\\n",
    "&= - \\int \\mathrm{d}\\vec{r} \\left\\{ \\frac{\\delta A}{\\delta \\rho(\\vec{r})} (\\partial_\\alpha j^\\alpha) + \\frac{\\delta A}{\\delta j_\\alpha(\\vec{r})} (\\partial_\\beta \\pi^{\\alpha\\beta}) \\right\\} \\\\\n",
    "&= i\\mathcal{L}\n",
    "\\end{aligned}$$\n",
    "\n",
    "* Hamiltonian\n",
    "\n",
    "$$\\begin{aligned}\n",
    "\\frac{\\delta \\mathcal{H}}{\\delta \\rho(\\vec{r})} &= - \\frac{1}{2} u^\\alpha u_\\alpha + \\frac{\\partial \\epsilon}{\\partial \\rho} \\\\\n",
    "\\frac{\\delta \\mathcal{H}}{\\delta j_\\alpha(\\vec{r})} &= u^\\alpha\n",
    "\\end{aligned}$$\n",
    "\n",
    "* Energy conservation\n",
    "\n",
    "$$\\begin{aligned}\n",
    "i\\mathcal{L}\\mathcal{H} &= \\int\\mathrm{d}\\vec{r} \\left\\{ \\frac{1}{2} u_\\alpha u^\\alpha(\\partial_\\beta \\rho u^\\beta) \n",
    "- u_\\alpha \\partial_\\beta (\\rho u^\\alpha u^\\beta)\n",
    "- (\\partial_\\alpha \\rho u^\\alpha) \\frac{\\partial \\epsilon}{\\partial \\rho}\n",
    "- u^\\alpha \\partial_\\alpha p \\right\\}\\\\\n",
    "&= \\int\\mathrm{d}\\vec{r} \\left\\{ \\rho u^\\alpha (\\partial_\\alpha\\rho) \\frac{\\partial^2 \\epsilon}{\\partial \\rho^2}\n",
    "- u^\\alpha (\\partial_\\alpha \\rho) \\frac{\\partial p}{\\partial \\rho} \\right\\}\\\\\n",
    "\\end{aligned}$$"
   ]
  },
  {
   "cell_type": "markdown",
   "metadata": {},
   "source": [
    "### Dissipative Hydrodynamics\n",
    "\n",
    "* Introduce viscous stress\n",
    "\n",
    "$$\\pi^{\\alpha\\beta} \\rightarrow \\pi^{\\alpha\\beta} + \\sigma_v^{\\alpha\\beta}$$\n",
    "\n",
    "* Drift term\n",
    "\n",
    "$$ \\partial_t j^\\alpha = \\eta^{\\alpha\\beta\\gamma\\delta} \\partial_\\beta \\partial_\\gamma u_\\delta$$\n",
    "\n",
    "* Fokker-Planck operator (dissipative part)\n",
    "\n",
    "$$i\\mathcal{L}_v = - \\int \\mathrm{d}\\vec{r} \\frac{\\delta}{\\delta j_\\alpha(\\vec{r})}\\left[ \\eta^{\\alpha\\beta\\gamma\\delta} \\partial_\\beta \\partial_\\gamma u_\\delta (\\vec{r}) \\right]$$"
   ]
  },
  {
   "cell_type": "markdown",
   "metadata": {},
   "source": [
    "### Fluctuating Hydrodynamics\n",
    "\n",
    "* Introduce random noise\n",
    "\n",
    "$$ \\pi^{\\alpha\\beta} \\rightarrow \\pi^{\\alpha\\beta} + \\sigma_v^{\\alpha\\beta} + \\alpha_R^{\\alpha\\beta}$$\n",
    "\n",
    "* Properties of the noise\n",
    "\n",
    "$$\\begin{aligned}\n",
    "\\langle \\sigma_R^{\\alpha\\beta} \\rangle &= 0  \\\\\n",
    "\\langle \\sigma_R^{\\alpha\\beta}(\\vec{r},t) \\sigma_R^{\\gamma\\delta}(\\vec{r}',t')\\rangle &= Q^{\\alpha\\beta\\gamma\\delta} \\delta(\\vec{r}-\\vec{r}') \\delta(t-t')\n",
    "\\end{aligned}$$\n",
    "\n",
    "* Diffusion term\n",
    "\n",
    "$$ \\left\\langle \\Delta j^\\alpha(\\vec{r})\\Delta j^(\\vec{r}') \\right\\rangle = \\left\\langle \\int_0^h dt_1 \\int_0^h dt_2 \\partial_\\gamma \\sigma_R^{\\alpha\\gamma}(\\vec{r},t_1) \\partial_\\delta \\sigma_R^{\\beta\\delta}(\\vec{r}',t_2) \\right\\rangle = h \\frac{\\partial}{\\partial r_\\gamma} \\frac{\\partial}{\\partial r'_\\delta} Q^{\\alpha\\gamma\\beta\\delta} \\delta(\\vec{r}-\\vec{r}')$$\n",
    "\n",
    "* Fokker-Planck operator (diffusion part)\n",
    "\n",
    "$$i\\mathcal{L}_R = \\int \\mathrm{d}\\vec{r} \\int \\mathrm{d}\\vec{r}' \\frac{\\delta}{\\delta j_\\alpha(\\vec{r})} \\frac{\\delta}{\\delta j_\\beta(\\vec{r}')} \\left[ \\frac{\\partial}{\\partial r_\\gamma} \\frac{\\partial}{\\partial r'_\\delta} \\frac{Q^{\\alpha\\gamma\\beta\\delta}}{2} \\delta(\\vec{r}-\\vec{r}') \\right]$$"
   ]
  },
  {
   "cell_type": "markdown",
   "metadata": {},
   "source": [
    "### Fluctuation Dissipation Relation for Fluctuating Hydrodynamics\n",
    "\n",
    "* Stationary equilibrium\n",
    "\n",
    "$$i\\left(L_v + L_R\\right) \\exp(-\\beta\\mathcal{H})=0$$\n",
    "\n",
    "$$- \\int \\mathrm{d}\\vec{r} \\frac{\\delta}{\\delta j_\\alpha(\\vec{r})}\\left[ \\eta^{\\alpha\\beta\\gamma\\delta} \\partial_\\beta \\partial_\\gamma u_\\delta(\\vec{r}) \\exp\\left(-\\beta\\mathcal{H}\\right) \\right] +  \\int \\mathrm{d}\\vec{r} \\int \\mathrm{d}\\vec{r}' \\frac{\\delta}{\\delta j_\\alpha(\\vec{r})} \\frac{\\delta}{\\delta j_\\beta(\\vec{r}')} \\left[ \\frac{\\partial}{\\partial r_\\gamma} \\frac{\\partial}{\\partial r'_\\delta} \\frac{Q^{\\alpha\\gamma\\beta\\delta}}{2} \\delta(\\vec{r}-\\vec{r}') \\exp\\left(-\\beta\\mathcal{H}\\right) \\right] = 0$$\n",
    "\n",
    "* Stronger requirement\n",
    "\n",
    "$$- \\left[ \\eta^{\\alpha\\beta\\gamma\\delta} \\partial_\\beta \\partial_\\gamma u_\\delta(\\vec{r}) \\exp\\left(-\\beta\\mathcal{H}\\right) \\right] +  \\int \\mathrm{d}\\vec{r}' \\frac{\\delta}{\\delta j_\\beta(\\vec{r}')} \\left[ \\frac{\\partial}{\\partial r_\\gamma} \\frac{\\partial}{\\partial r'_\\delta} \\frac{Q^{\\alpha\\gamma\\beta\\delta}}{2} \\delta(\\vec{r}-\\vec{r}') \\exp\\left(-\\beta\\mathcal{H}\\right) \\right] = 0$$\n",
    "\n",
    "* From Hamiltonian\n",
    "\n",
    "$$\\frac{\\delta}{\\delta j_\\beta(\\vec{r}')} \\exp\\left(-\\beta\\mathcal{H}\\right) = - \\beta \\exp(-\\beta\\mathcal{H}) \\frac{\\delta\\mathcal{H}}{\\delta j_\\beta(\\vec{r}')} = - \\beta \\exp(-\\beta\\mathcal{H}) u_\\beta(\\vec{r}')$$\n",
    "\n",
    "* Fluctuation-dissipation relation\n",
    "\n",
    "$$-\\eta^{\\alpha\\beta\\gamma\\delta} \\partial_\\beta\\partial_\\gamma u_\\delta(\\vec{r}) - \\beta \\int \\mathrm{d}\\vec{r}' \\frac{\\partial}{\\partial r_\\gamma} \\frac{\\partial}{\\partial r'_\\delta} \\frac{Q^{\\alpha\\gamma\\beta\\delta}}{2} \\delta(\\vec{r}-\\vec{r}') u_\\beta(\\vec{r}') = -\\eta^{\\alpha\\beta\\gamma\\delta} \\partial_\\beta\\partial_\\delta u_\\gamma - \\frac{\\beta}{2} Q^{\\alpha\\beta\\gamma\\delta} \\partial_\\beta\\partial_\\delta u_\\gamma = 0$$\n",
    "\n",
    "$$ Q^{\\alpha\\beta\\gamma\\delta} = 2k_BT \\eta^{\\alpha\\beta\\gamma\\delta}$$\n",
    "\n",
    "[Landau & Lifshitz 1957]"
   ]
  },
  {
   "cell_type": "markdown",
   "metadata": {},
   "source": [
    "### Green-Kubo Relations for Viscosity\n",
    "\n",
    "* Set $\\Sigma^{\\alpha\\beta} = \\frac{1}{V} \\int\\mathrm{d}\\vec{r} \\sigma^{\\alpha\\beta}(\\vec{r})$\n",
    "\n",
    "$$\\langle \\Sigma^{\\alpha\\beta}(t)\\Sigma^{\\gamma\\delta}(t')\\rangle = \\frac{2k_BT}{V} \\eta^{\\alpha\\beta\\gamma\\delta} \\delta(t-t')$$\n",
    "\n",
    "* Green-Kubo relation\n",
    "\n",
    "$$\\eta^{\\alpha\\beta\\gamma\\delta} = \\frac{V}{k_BT}\\int_0^\\infty dt \\langle \\Sigma^{\\alpha\\beta}(t)\\Sigma^{\\gamma\\delta}(0)\\rangle$$\n",
    "\n",
    "* Hydrodynamics\n",
    "\n",
    "$$\\begin{aligned}\n",
    "\\partial_t j^\\alpha &= -\\partial_\\beta \\pi^{\\alpha\\beta} \\\\\n",
    "\\partial_t \\tilde{j}^\\alpha &= \\frac{ik_b}{V} \\int\\mathrm{d}\\vec{r} \\pi^{\\alpha\\beta} e^{i\\vec{k}\\vec{r}} \\\\\n",
    "&\\underset{k\\rightarrow 0}{\\approx} \\frac{ik_\\beta}{V} \\int\\mathrm{d}\\vec{r} \\pi^{\\alpha\\beta}\n",
    "\\end{aligned}$$\n",
    "\n",
    "* Microscopic Dynamics $\\vec{j} = \\sum m_i \\dot{\\vec{r}}_i \\delta(\\vec{r}-\\vec{r}_i)$\n",
    "\n",
    "$$\\begin{aligned}\n",
    "\\partial_t j^\\alpha &= \\sum m_i \\ddot{r}_i^\\alpha \\delta(\\vec{r}-\\vec{r}_i) - \\partial_\\beta \\sum m_i \\dot{r}_i^\\alpha\\dot{r}_i^\\beta \\delta(\\vec{r}-\\vec{r}_i) \\\\\n",
    "\\partial_t \\tilde{j}^\\alpha &= \\frac{ik^\\beta}{V} \\sum F_i^\\alpha e^{i\\vec{k}\\vec{r}_i} + \\frac{1}{V} \\sum m_i \\dot{r}_i^\\alpha \\dot{r}_i^\\beta e^{i\\vec{k}\\vec{r}_i} \\\\\n",
    "&\\underset{k \\rightarrow 0}{\\approx} \\frac{1}{V}\\underbrace{\\sum F_i^\\alpha}_{=0} + \\frac{ik^\\beta}{V} \\sum \\left\\{ m_i \\dot{r}_i^\\alpha \\dot{r}_i^\\beta + F_i^\\alpha r_i^\\beta \\right\\}\n",
    "\\end{aligned}$$\n",
    "\n",
    "* Microscopic stress\n",
    "\n",
    "$$\\Sigma^{\\alpha\\beta} = \\frac{1}{V} \\sum \\left\\{ m_i \\dot{r}_i^\\alpha \\dot{r}_i^\\beta + F_i^\\alpha r_i^\\beta \\right\\}$$"
   ]
  },
  {
   "cell_type": "markdown",
   "metadata": {
    "slideshow": {
     "slide_type": "slide"
    }
   },
   "source": [
    "### Hands-On Activity\n",
    "\n",
    "1. Use your own DPD code or any software package to carry out simulations of a DPD solvent in the NVT ensemble. Ensure the system is well equilibrated.\n",
    "2. Try to measure the viscosity of the system using the Green-Kubo relation.\n",
    "3. Tag a single particle and apply a constant external force to the particle. Measure the drift velocity and try to compare the results to the Stokes-Einstein relation. What difficulties do you encounter? Does the result make sense?\n",
    "4. Try to extract the velocity profile in a two-dimensional plane cutting through the system. This will require considerable statistics. Can you distinguish the systematic flow from the thermal noise?\n",
    "5. If your code allows to apply a shear force to the box (Lees-Edwards boundary conditions), you can also simulate a linear shear flow and extract the viscosity from the velocity profile. Think about the advantages and disadvantages of this method."
   ]
  },
  {
   "cell_type": "markdown",
   "metadata": {},
   "source": [
    "### References\n",
    "\n",
    "1. M. Manghi et al., Hydrodynamic effects in driven soft matter. Soft Matter 2, 653-668 (2006)."
   ]
  }
 ],
 "metadata": {
  "celltoolbar": "Slideshow",
  "kernelspec": {
   "display_name": "Python 3",
   "language": "python",
   "name": "python3"
  },
  "language_info": {
   "codemirror_mode": {
    "name": "ipython",
    "version": 3
   },
   "file_extension": ".py",
   "mimetype": "text/x-python",
   "name": "python",
   "nbconvert_exporter": "python",
   "pygments_lexer": "ipython3",
   "version": "3.6.0"
  }
 },
 "nbformat": 4,
 "nbformat_minor": 2
}
